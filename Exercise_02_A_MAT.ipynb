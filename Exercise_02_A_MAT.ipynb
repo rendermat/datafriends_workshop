{
 "cells": [
  {
   "cell_type": "markdown",
   "metadata": {},
   "source": [
    "# Exercise 2A\n",
    "Write some basic stattistical functions in python!"
   ]
  },
  {
   "cell_type": "markdown",
   "metadata": {},
   "source": [
    "### Test Data"
   ]
  },
  {
   "cell_type": "code",
   "execution_count": 59,
   "metadata": {},
   "outputs": [],
   "source": [
    "values_a = [6,1,10,3,4,8,0,9,5,7]\n",
    "values_b = [5, 9, 1, 23, 12, 7, 6, 5, 3, 1, 23, 9, 7, 4]"
   ]
  },
  {
   "cell_type": "markdown",
   "metadata": {},
   "source": [
    "### Statistical Function Implementations"
   ]
  },
  {
   "cell_type": "markdown",
   "metadata": {},
   "source": [
    "**mean** (arithmetic average)"
   ]
  },
  {
   "cell_type": "code",
   "execution_count": 60,
   "metadata": {},
   "outputs": [],
   "source": [
    "def mean(values):\n",
    "    n = len(values)\n",
    "    sum = 0\n",
    "    for value in values:\n",
    "        sum = sum + value\n",
    "    return sum / n"
   ]
  },
  {
   "cell_type": "markdown",
   "metadata": {},
   "source": [
    "**median** (50%, v, 50%)"
   ]
  },
  {
   "cell_type": "code",
   "execution_count": 61,
   "metadata": {},
   "outputs": [],
   "source": [
    "def median(values):\n",
    "    n = len(values)\n",
    "    sortedValues = sorted(values)\n",
    "    if (n % 2 != 0):  \n",
    "        return sortedValues[round(n/2)-1]\n",
    "    else:\n",
    "        return (sortedValues[round(n/2)-1] + sortedValues[round(n/2)]) / 2"
   ]
  },
  {
   "cell_type": "markdown",
   "metadata": {},
   "source": [
    "**quantile** or percentile"
   ]
  },
  {
   "cell_type": "code",
   "execution_count": 62,
   "metadata": {},
   "outputs": [],
   "source": [
    "def quantile(values, p):\n",
    "    n = len(values)\n",
    "    sortedValues = sorted(values)\n",
    "    np = n * p\n",
    "    if (np % 2 != 0):\n",
    "        np = int(np)\n",
    "        result = sortedValues[np + 1 - 1]\n",
    "    else:\n",
    "        np = int(np)\n",
    "        result = (sortedValues[np - 1] + sortedValues[np + 1 - 1]) / 2.0\n",
    "    return result"
   ]
  },
  {
   "cell_type": "markdown",
   "metadata": {},
   "source": [
    "**variance**"
   ]
  },
  {
   "cell_type": "code",
   "execution_count": 63,
   "metadata": {},
   "outputs": [],
   "source": [
    "def variance(values):\n",
    "    n = len(values)\n",
    "    av = mean(values)\n",
    "    sum = 0\n",
    "    for value in values:\n",
    "        sum = sum + pow(value - av, 2)\n",
    "    return sum / n"
   ]
  },
  {
   "cell_type": "markdown",
   "metadata": {},
   "source": [
    "### Test Routines"
   ]
  },
  {
   "cell_type": "markdown",
   "metadata": {},
   "source": [
    "**my manual implementations**"
   ]
  },
  {
   "cell_type": "code",
   "execution_count": 64,
   "metadata": {},
   "outputs": [],
   "source": [
    "def printStats(values):\n",
    "    print('Values:', values)\n",
    "    print('Sorted:', sorted(values))\n",
    "    print('N-Elem:', len(values))\n",
    "    print('Mean:  ', mean(values))\n",
    "    print('Median:', median(values))\n",
    "    print('Perc25:', quantile(values, 0.25))\n",
    "    print('Varian:', variance(values))"
   ]
  },
  {
   "cell_type": "markdown",
   "metadata": {},
   "source": [
    "**numpy implementations** for comparison"
   ]
  },
  {
   "cell_type": "code",
   "execution_count": 70,
   "metadata": {},
   "outputs": [],
   "source": [
    "import numpy\n",
    "def printNumpyStats(values):\n",
    "    print('Values:', values)\n",
    "    print('Sorted:', sorted(values))\n",
    "    print('N-Elem:', len(values))\n",
    "    print('Mean:  ', numpy.mean(values))\n",
    "    print('Median:', numpy.median(values))\n",
    "    print('Perc25:', numpy.quantile(values, 0.25, interpolation='lower'))\n",
    "    print('Varian:', numpy.var(values))"
   ]
  },
  {
   "cell_type": "markdown",
   "metadata": {},
   "source": [
    "### Test Results"
   ]
  },
  {
   "cell_type": "markdown",
   "metadata": {},
   "source": [
    "**test manual implementations**"
   ]
  },
  {
   "cell_type": "code",
   "execution_count": 66,
   "metadata": {
    "scrolled": false
   },
   "outputs": [
    {
     "name": "stdout",
     "output_type": "stream",
     "text": [
      "Values: [6, 1, 10, 3, 4, 8, 0, 9, 5, 7]\n",
      "Sorted: [0, 1, 3, 4, 5, 6, 7, 8, 9, 10]\n",
      "N-Elem: 10\n",
      "Mean:   5.3\n",
      "Median: 5.5\n",
      "Perc25: 3\n",
      "Varian: 10.010000000000002\n",
      "\n",
      "Values: [5, 9, 1, 23, 12, 7, 6, 5, 3, 1, 23, 9, 7, 4]\n",
      "Sorted: [1, 1, 3, 4, 5, 5, 6, 7, 7, 9, 9, 12, 23, 23]\n",
      "N-Elem: 14\n",
      "Mean:   8.214285714285714\n",
      "Median: 6.5\n",
      "Perc25: 4\n",
      "Varian: 45.025510204081634\n"
     ]
    }
   ],
   "source": [
    "printStats(values_a)\n",
    "print()\n",
    "printStats(values_b)"
   ]
  },
  {
   "cell_type": "markdown",
   "metadata": {},
   "source": [
    "**compare with numpy implementations**"
   ]
  },
  {
   "cell_type": "code",
   "execution_count": 67,
   "metadata": {},
   "outputs": [
    {
     "name": "stdout",
     "output_type": "stream",
     "text": [
      "Values: [6, 1, 10, 3, 4, 8, 0, 9, 5, 7]\n",
      "Sorted: [0, 1, 3, 4, 5, 6, 7, 8, 9, 10]\n",
      "N-Elem: 10\n",
      "Mean:   5.3\n",
      "Median: 5.5\n",
      "Perc25: 3\n",
      "Varian: 10.010000000000002\n",
      "\n",
      "Values: [5, 9, 1, 23, 12, 7, 6, 5, 3, 1, 23, 9, 7, 4]\n",
      "Sorted: [1, 1, 3, 4, 5, 5, 6, 7, 7, 9, 9, 12, 23, 23]\n",
      "N-Elem: 14\n",
      "Mean:   8.214285714285714\n",
      "Median: 6.5\n",
      "Perc25: 4\n",
      "Varian: 45.025510204081634\n"
     ]
    }
   ],
   "source": [
    "printNumpyStats(values_a)\n",
    "print()\n",
    "printNumpyStats(values_b)"
   ]
  }
 ],
 "metadata": {
  "kernelspec": {
   "display_name": "Python 3",
   "language": "python",
   "name": "python3"
  },
  "language_info": {
   "codemirror_mode": {
    "name": "ipython",
    "version": 3
   },
   "file_extension": ".py",
   "mimetype": "text/x-python",
   "name": "python",
   "nbconvert_exporter": "python",
   "pygments_lexer": "ipython3",
   "version": "3.7.0"
  }
 },
 "nbformat": 4,
 "nbformat_minor": 2
}
