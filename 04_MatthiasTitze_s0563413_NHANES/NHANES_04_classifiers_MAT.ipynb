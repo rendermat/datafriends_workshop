{
 "cells": [
  {
   "cell_type": "markdown",
   "metadata": {},
   "source": [
    "<b>Autor: </b>Matthias Titze, s0563413   \n",
    "# <font color='grey'> NHANES 4 </font><font color='#0099ff'>- Supervised Machine Learning</font>   \n",
    "<b>Nationial Health and Nutrition Survey<b>"
   ]
  },
  {
   "cell_type": "markdown",
   "metadata": {},
   "source": [
    "### Bibliotheken Importieren"
   ]
  },
  {
   "cell_type": "code",
   "execution_count": 136,
   "metadata": {},
   "outputs": [],
   "source": [
    "# Standard library\n",
    "import os\n",
    "import math\n",
    "import random\n",
    "import itertools\n",
    "# Dataframe handling\n",
    "import numpy as np\n",
    "import pandas as pd\n",
    "# Machine leraning libraries\n",
    "from sklearn import datasets \n",
    "from sklearn.metrics import classification_report \n",
    "from sklearn.metrics import confusion_matrix \n",
    "from sklearn.model_selection import train_test_split\n",
    "from sklearn.naive_bayes import GaussianNB \n",
    "# Matplotlib\n",
    "import matplotlib.pyplot as plt\n",
    "from matplotlib import cm\n",
    "import matplotlib.patches as mp\n",
    "%matplotlib inline\n",
    "# Seaborn plots\n",
    "import seaborn as sns\n",
    "# Hide warnings\n",
    "import warnings\n",
    "warnings.filterwarnings('ignore')"
   ]
  },
  {
   "cell_type": "markdown",
   "metadata": {},
   "source": [
    "### Plot-Funktionen"
   ]
  },
  {
   "cell_type": "code",
   "execution_count": 120,
   "metadata": {},
   "outputs": [],
   "source": [
    "def plot_confusion_matrix(cm, classes,\n",
    "                          normalize=False,\n",
    "                          title='Confusion matrix',\n",
    "                          cmap=plt.cm.Blues):\n",
    "    \"\"\"\n",
    "    This function prints and plots the confusion matrix.\n",
    "    Normalization can be applied by setting `normalize=True`.\n",
    "    \"\"\"\n",
    "    if normalize:\n",
    "        cm = cm.astype('float') / cm.sum(axis=1)[:, np.newaxis]\n",
    "        print(\"Normalized confusion matrix\")\n",
    "    else:\n",
    "        print('Confusion matrix, without normalization')\n",
    "\n",
    "    plt.imshow(cm, interpolation='nearest', cmap=cmap)\n",
    "    plt.title(title)\n",
    "    plt.colorbar()\n",
    "    tick_marks = np.arange(len(classes))\n",
    "    plt.xticks(tick_marks, classes, rotation=45)\n",
    "    plt.yticks(tick_marks, classes)\n",
    "\n",
    "    fmt = '.2f' if normalize else 'd'\n",
    "    thresh = cm.max() / 2.\n",
    "    for i, j in itertools.product(range(cm.shape[0]), range(cm.shape[1])):\n",
    "        plt.text(j, i, format(cm[i, j], fmt),\n",
    "                 horizontalalignment=\"center\",\n",
    "                 color=\"white\" if cm[i, j] > thresh else \"black\")\n",
    "\n",
    "    plt.ylabel('True label')\n",
    "    plt.xlabel('Predicted label')\n",
    "    plt.tight_layout()"
   ]
  },
  {
   "cell_type": "markdown",
   "metadata": {},
   "source": [
    "### Daten Importieren"
   ]
  },
  {
   "cell_type": "code",
   "execution_count": 17,
   "metadata": {},
   "outputs": [],
   "source": [
    "path_input = os.path.join('00_data_input')\n",
    "path_output = os.path.join('03_data_output')\n",
    "path_categ = os.path.join(path_output, 'nhanes_categ.csv')"
   ]
  },
  {
   "cell_type": "code",
   "execution_count": 18,
   "metadata": {},
   "outputs": [
    {
     "data": {
      "text/html": [
       "<div>\n",
       "<style scoped>\n",
       "    .dataframe tbody tr th:only-of-type {\n",
       "        vertical-align: middle;\n",
       "    }\n",
       "\n",
       "    .dataframe tbody tr th {\n",
       "        vertical-align: top;\n",
       "    }\n",
       "\n",
       "    .dataframe thead th {\n",
       "        text-align: right;\n",
       "    }\n",
       "</style>\n",
       "<table border=\"1\" class=\"dataframe\">\n",
       "  <thead>\n",
       "    <tr style=\"text-align: right;\">\n",
       "      <th></th>\n",
       "      <th>id</th>\n",
       "      <th>CODE_status</th>\n",
       "      <th>CM_height</th>\n",
       "      <th>KG_weight</th>\n",
       "      <th>KG_M2_bmi</th>\n",
       "      <th>CODE_bmi_category_youth</th>\n",
       "      <th>BINARY_gender</th>\n",
       "      <th>YEARS_age</th>\n",
       "      <th>CODE_race</th>\n",
       "      <th>CODE_race_extended</th>\n",
       "      <th>...</th>\n",
       "      <th>CAT_bmi</th>\n",
       "      <th>LAB_bmi</th>\n",
       "      <th>STR_bmi</th>\n",
       "      <th>CAT1_race</th>\n",
       "      <th>CAT2_race</th>\n",
       "      <th>CODE2_race</th>\n",
       "      <th>CAT_houshold_education</th>\n",
       "      <th>LAB_houshold_education</th>\n",
       "      <th>CAT_income_houshold</th>\n",
       "      <th>LAB_income_houshold</th>\n",
       "    </tr>\n",
       "  </thead>\n",
       "  <tbody>\n",
       "    <tr>\n",
       "      <th>0</th>\n",
       "      <td>41475</td>\n",
       "      <td>3</td>\n",
       "      <td>154.7</td>\n",
       "      <td>138.9</td>\n",
       "      <td>58.04</td>\n",
       "      <td>NaN</td>\n",
       "      <td>2</td>\n",
       "      <td>62</td>\n",
       "      <td>5</td>\n",
       "      <td>NaN</td>\n",
       "      <td>...</td>\n",
       "      <td>4.0</td>\n",
       "      <td>40+</td>\n",
       "      <td>obese3</td>\n",
       "      <td>otherOld</td>\n",
       "      <td>other</td>\n",
       "      <td>1</td>\n",
       "      <td>4</td>\n",
       "      <td>4_AA-Degree</td>\n",
       "      <td>6.0</td>\n",
       "      <td>025-035K</td>\n",
       "    </tr>\n",
       "    <tr>\n",
       "      <th>1</th>\n",
       "      <td>41476</td>\n",
       "      <td>1</td>\n",
       "      <td>120.4</td>\n",
       "      <td>22.0</td>\n",
       "      <td>15.18</td>\n",
       "      <td>NaN</td>\n",
       "      <td>2</td>\n",
       "      <td>6</td>\n",
       "      <td>5</td>\n",
       "      <td>NaN</td>\n",
       "      <td>...</td>\n",
       "      <td>-1.0</td>\n",
       "      <td>10-18</td>\n",
       "      <td>underweigt</td>\n",
       "      <td>otherOld</td>\n",
       "      <td>other</td>\n",
       "      <td>1</td>\n",
       "      <td>5</td>\n",
       "      <td>5_College+</td>\n",
       "      <td>12.0</td>\n",
       "      <td>100+K</td>\n",
       "    </tr>\n",
       "    <tr>\n",
       "      <th>2</th>\n",
       "      <td>41477</td>\n",
       "      <td>1</td>\n",
       "      <td>167.1</td>\n",
       "      <td>83.9</td>\n",
       "      <td>30.05</td>\n",
       "      <td>NaN</td>\n",
       "      <td>1</td>\n",
       "      <td>71</td>\n",
       "      <td>3</td>\n",
       "      <td>NaN</td>\n",
       "      <td>...</td>\n",
       "      <td>2.0</td>\n",
       "      <td>30-35</td>\n",
       "      <td>obese1</td>\n",
       "      <td>white</td>\n",
       "      <td>white</td>\n",
       "      <td>1</td>\n",
       "      <td>3</td>\n",
       "      <td>3_Highschool</td>\n",
       "      <td>5.0</td>\n",
       "      <td>020-025K</td>\n",
       "    </tr>\n",
       "    <tr>\n",
       "      <th>3</th>\n",
       "      <td>41478</td>\n",
       "      <td>1</td>\n",
       "      <td>NaN</td>\n",
       "      <td>11.5</td>\n",
       "      <td>NaN</td>\n",
       "      <td>NaN</td>\n",
       "      <td>2</td>\n",
       "      <td>1</td>\n",
       "      <td>3</td>\n",
       "      <td>NaN</td>\n",
       "      <td>...</td>\n",
       "      <td>NaN</td>\n",
       "      <td>unknown</td>\n",
       "      <td>unknown</td>\n",
       "      <td>white</td>\n",
       "      <td>white</td>\n",
       "      <td>1</td>\n",
       "      <td>2</td>\n",
       "      <td>2_&lt;12th-Grade</td>\n",
       "      <td>3.0</td>\n",
       "      <td>010-015K</td>\n",
       "    </tr>\n",
       "    <tr>\n",
       "      <th>4</th>\n",
       "      <td>41479</td>\n",
       "      <td>1</td>\n",
       "      <td>154.4</td>\n",
       "      <td>65.7</td>\n",
       "      <td>27.56</td>\n",
       "      <td>NaN</td>\n",
       "      <td>1</td>\n",
       "      <td>52</td>\n",
       "      <td>1</td>\n",
       "      <td>NaN</td>\n",
       "      <td>...</td>\n",
       "      <td>1.0</td>\n",
       "      <td>25-30</td>\n",
       "      <td>overweight</td>\n",
       "      <td>mexican</td>\n",
       "      <td>mexican</td>\n",
       "      <td>1</td>\n",
       "      <td>1</td>\n",
       "      <td>1_&lt;9th-Grade</td>\n",
       "      <td>8.0</td>\n",
       "      <td>045-055K</td>\n",
       "    </tr>\n",
       "  </tbody>\n",
       "</table>\n",
       "<p>5 rows × 41 columns</p>\n",
       "</div>"
      ],
      "text/plain": [
       "      id  CODE_status  CM_height  KG_weight  KG_M2_bmi  \\\n",
       "0  41475            3      154.7      138.9      58.04   \n",
       "1  41476            1      120.4       22.0      15.18   \n",
       "2  41477            1      167.1       83.9      30.05   \n",
       "3  41478            1        NaN       11.5        NaN   \n",
       "4  41479            1      154.4       65.7      27.56   \n",
       "\n",
       "   CODE_bmi_category_youth  BINARY_gender  YEARS_age  CODE_race  \\\n",
       "0                      NaN              2         62          5   \n",
       "1                      NaN              2          6          5   \n",
       "2                      NaN              1         71          3   \n",
       "3                      NaN              2          1          3   \n",
       "4                      NaN              1         52          1   \n",
       "\n",
       "   CODE_race_extended         ...           CAT_bmi  LAB_bmi     STR_bmi  \\\n",
       "0                 NaN         ...               4.0      40+      obese3   \n",
       "1                 NaN         ...              -1.0    10-18  underweigt   \n",
       "2                 NaN         ...               2.0    30-35      obese1   \n",
       "3                 NaN         ...               NaN  unknown     unknown   \n",
       "4                 NaN         ...               1.0    25-30  overweight   \n",
       "\n",
       "   CAT1_race  CAT2_race  CODE2_race  CAT_houshold_education  \\\n",
       "0   otherOld      other           1                       4   \n",
       "1   otherOld      other           1                       5   \n",
       "2      white      white           1                       3   \n",
       "3      white      white           1                       2   \n",
       "4    mexican    mexican           1                       1   \n",
       "\n",
       "   LAB_houshold_education  CAT_income_houshold  LAB_income_houshold  \n",
       "0             4_AA-Degree                  6.0             025-035K  \n",
       "1              5_College+                 12.0                100+K  \n",
       "2            3_Highschool                  5.0             020-025K  \n",
       "3           2_<12th-Grade                  3.0             010-015K  \n",
       "4            1_<9th-Grade                  8.0             045-055K  \n",
       "\n",
       "[5 rows x 41 columns]"
      ]
     },
     "execution_count": 18,
     "metadata": {},
     "output_type": "execute_result"
    }
   ],
   "source": [
    "df_categ = pd.read_csv(path_categ)\n",
    "df_categ.head()"
   ]
  },
  {
   "cell_type": "markdown",
   "metadata": {},
   "source": [
    "# <font color='grey'> Vorhersagemodell - </font><font color='#0099ff'>Supervised Machine Learning</font>   \n",
    "Im Folgenden soll versucht werden, ein Vorhersagemodell (Klassifizierung) für Untersuchte Eigenschaft der BMI-Klasse zu erstellen. Dazu verwenden wir Supervised Machine Learning Algorithmen, d.h. die vorhandenen Daten werden in Trainingsdaten und Testdaten unterteilt. Mit den ersteren Trainieren wir den Prognose-Algorithmus. Anschließend lassen wir diesen über die Testdaten eine Vorhersagetreffen treffen und vergleichen das Resultat mit den für die Testdaten vorliegenden, realen Merkmalsausprägungen. So wird eine Einschätzung bezüglich der Qualität des Modells möglich.   \n",
    "<b>Limitationen: </b> Da die bisherigen Untersuchungen gezeigt haben, dass es für die Tendenz zu Übergewicht und Fettleibigkeit keine entscheidenden sozioökonomischen Faktoren gibt, muss vermutet werden, dass auch eine Machine-Learning-Algorithmus keine klaren Aussagen treffen kann. Dies ist insbesondere für den Ansatz der Klassifizierung des Körpergewichts, einer Eigenschaft, die eher normal verteilt ist, anzunehmen: Auch wenn es Faktoren gäbe, die eine Tendenz zur Adipositas leicht begünstigen würden, wäre die so gesteigerte Wahrscheinlichkeit immer noch geringer als der Druck hin zum Erwartungswert der Normalverteilung. Klassifizierung als Vorhersagemodell ist somit eher nicht der treffende Ansatz. Günstiger wäre ein Modell, welches eine Aussage darüber treffen würde, in welchem Maß die Wahrscheinlichkeit durch entsprechende Einflussfaktoren beinflusst wird. Trotz dieser grundsätzlichen Problematik soll, die Klassifizierung mit Naive Bayes getestet werden. Treffen wir dort auf überraschende Ergebnisse, so findet sich im Umkehrschluss in den Daten doch eine Kombination von Eigenschaften, die kritisch für die Ausbildung von Adipositas ist.    \n",
    "\n",
    "<b>Vorherzusagen (y): </b>BMI-Klasse {Untergewicht, Normal, Übergewicht, Adipositas 1-3}   \n",
    "<b>Genutzte Merkmale (xi): </b> {Geschlecht, Ethnie, Anzahl Mitglieder im Haushalt, Haushaltseinkommen, Bildung, Alter}"
   ]
  },
  {
   "cell_type": "markdown",
   "metadata": {},
   "source": [
    "### Klassifizierung mit Naive Bayes (Gauss)\n",
    "Der Naive Bayes Klassifizierer basiert auf Bayes Theorem. Er wird als \"naive\" bezeichnet, da er die Unabhängigkeit aller einbezogenen  Merkmalspaare im Datensatz voraussetzt. V = (x1, x2, …, xn) sei der Vektor der Merkmale und y die Eigenschaft, die durch den Vektor voraus gesagt werden soll. Dann gilt:  \n",
    "\n",
    "$$P(y|x_{1},...,x_{n}) = \\frac{P(y)P(x_{1},...x_{n}|y)}{P(x_{1},...,x_{n})}$$   \n",
    "und wenn x1, x2,...,xn weiterhin als stochastisch unabhängig angenommen werden:  \n",
    "\n",
    "$$P(y|x_{1},...,x_{n}) = \\frac{P(y)\\prod_{i=1}^{n}P(x_{i}|y)}{P(x_{1},...,x_{n})}$$   \n",
    "\n",
    "Diese Formel reduziert sich für die Klassifizierung weiter zu:   \n",
    "$$P(y|x_{1},...,x_{n}) = P(y)\\prod_{i=1}^{n}P(x_{i}|y)$$\n",
    "\n",
    ",da die errechneten Wahrscheinlichkeiten nur auf das Maximum ausgewertet werden. P(xi) ist eine Konstante, die in allen so verglichenen Werteberechnungen auftritt und somit ignoriert werden kann. Im Falle des hier verwendeten Gauss-Naive-Klassifizierers aus der Python ScikitLearn Blibliothek, wird eine Normalverteilung jedes Merkmals angenommen. Dann ergibt sich die Wahrscheinlich dafür zu:   \n",
    "\n",
    "$$P(x_{i}|y) = \\frac{1}{\\sqrt{2\\pi\\sigma_{y}^{2}}}\\exp(-\\frac{(x_{i}-\\mu_{\n",
    "y})^2}{2\\sigma_{y}^{2}})$$   \n",
    "\n",
    "<b>Potenzielle Fehlerquellen: </b> Schon vorab muss der gewählte Klassifikator kritisch betrachtet werden. Die Merkmale, Einkommen und Ausbildung, sind zum Beispiel keinesfalls unabhängig. Dies wurde in der Datenexploration nachgewiesen. Des Weiteren ist eigentlich nicht davon Auszugehen, das die zur Vorhersage genutzten Eigenschaften normal verteilt sind."
   ]
  },
  {
   "cell_type": "markdown",
   "metadata": {},
   "source": [
    "### Daten Selektieren    \n",
    "Aus dem NHANES-Datensatz werden die oben genannten Merkmale als Grundlage für die Klassifizierung extrahiert. Vorauszusagen ist die BMI-Gruppe. Alle genutzten Daten liegen als kategorisierte Eigenschaften vor, die hier in Form von Integer-Zahlen codiert wurden. Auf fehlende Daten wurde der Einfachheit halber mit Ausschluss reagiert. Die Anzahl der Zeilen schrumpft so auf 40.686, was für den angestrebten Rahmen genügen soll."
   ]
  },
  {
   "cell_type": "code",
   "execution_count": 60,
   "metadata": {},
   "outputs": [
    {
     "data": {
      "text/html": [
       "<div>\n",
       "<style scoped>\n",
       "    .dataframe tbody tr th:only-of-type {\n",
       "        vertical-align: middle;\n",
       "    }\n",
       "\n",
       "    .dataframe tbody tr th {\n",
       "        vertical-align: top;\n",
       "    }\n",
       "\n",
       "    .dataframe thead th {\n",
       "        text-align: right;\n",
       "    }\n",
       "</style>\n",
       "<table border=\"1\" class=\"dataframe\">\n",
       "  <thead>\n",
       "    <tr style=\"text-align: right;\">\n",
       "      <th></th>\n",
       "      <th>id</th>\n",
       "      <th>gender</th>\n",
       "      <th>race</th>\n",
       "      <th>members</th>\n",
       "      <th>income</th>\n",
       "      <th>education</th>\n",
       "      <th>age</th>\n",
       "      <th>bmi</th>\n",
       "    </tr>\n",
       "  </thead>\n",
       "  <tbody>\n",
       "    <tr>\n",
       "      <th>0</th>\n",
       "      <td>41475</td>\n",
       "      <td>2</td>\n",
       "      <td>1</td>\n",
       "      <td>2</td>\n",
       "      <td>6</td>\n",
       "      <td>4</td>\n",
       "      <td>13</td>\n",
       "      <td>4</td>\n",
       "    </tr>\n",
       "    <tr>\n",
       "      <th>1</th>\n",
       "      <td>41476</td>\n",
       "      <td>2</td>\n",
       "      <td>1</td>\n",
       "      <td>6</td>\n",
       "      <td>12</td>\n",
       "      <td>5</td>\n",
       "      <td>2</td>\n",
       "      <td>-1</td>\n",
       "    </tr>\n",
       "    <tr>\n",
       "      <th>2</th>\n",
       "      <td>41477</td>\n",
       "      <td>1</td>\n",
       "      <td>1</td>\n",
       "      <td>2</td>\n",
       "      <td>5</td>\n",
       "      <td>3</td>\n",
       "      <td>15</td>\n",
       "      <td>2</td>\n",
       "    </tr>\n",
       "    <tr>\n",
       "      <th>3</th>\n",
       "      <td>41479</td>\n",
       "      <td>1</td>\n",
       "      <td>1</td>\n",
       "      <td>5</td>\n",
       "      <td>8</td>\n",
       "      <td>1</td>\n",
       "      <td>11</td>\n",
       "      <td>1</td>\n",
       "    </tr>\n",
       "    <tr>\n",
       "      <th>4</th>\n",
       "      <td>41480</td>\n",
       "      <td>1</td>\n",
       "      <td>1</td>\n",
       "      <td>7</td>\n",
       "      <td>7</td>\n",
       "      <td>2</td>\n",
       "      <td>2</td>\n",
       "      <td>-1</td>\n",
       "    </tr>\n",
       "  </tbody>\n",
       "</table>\n",
       "</div>"
      ],
      "text/plain": [
       "      id  gender  race  members  income  education  age  bmi\n",
       "0  41475       2     1        2       6          4   13    4\n",
       "1  41476       2     1        6      12          5    2   -1\n",
       "2  41477       1     1        2       5          3   15    2\n",
       "3  41479       1     1        5       8          1   11    1\n",
       "4  41480       1     1        7       7          2    2   -1"
      ]
     },
     "execution_count": 60,
     "metadata": {},
     "output_type": "execute_result"
    }
   ],
   "source": [
    "# Select relevant columns from the categorized dataframe.\n",
    "df_bayes = df_categ[['id',\n",
    "                     'BINARY_gender',\n",
    "                     'CODE2_race',\n",
    "                     'CNT_houshold_members',\n",
    "                     'CAT_income_houshold',\n",
    "                     'CAT_houshold_education',\n",
    "                     'CODE1_age',\n",
    "                     'CAT_bmi']].copy()\n",
    "# Drop nan values.\n",
    "df_bayes = df_bayes.dropna()\n",
    "# Unknown education was set to 0 value - drop these.\n",
    "df_bayes = df_bayes[df_bayes['CAT_houshold_education'] != 0]\n",
    "# Unknown age was set to 0 value - drop these.\n",
    "df_bayes = df_bayes[df_bayes['CODE1_age'] != 0]\n",
    "# Convert floats to integer code (possible as nan was removed).\n",
    "df_bayes['CAT_bmi'] = df_bayes['CAT_bmi'].astype(int)\n",
    "df_bayes['CAT_income_houshold'] = df_bayes['CAT_income_houshold'].astype(int)\n",
    "# Rename to improve readablity.\n",
    "df_bayes.rename(columns={'BINARY_gender':'gender',\n",
    "                         'CODE2_race':'race',\n",
    "                         'CNT_houshold_members':'members',\n",
    "                         'CAT_income_houshold':'income',\n",
    "                         'CAT_houshold_education':'education',\n",
    "                         'CODE1_age':'age',\n",
    "                         'CAT_bmi':'bmi'}, inplace=True)\n",
    "\n",
    "df_bayes = df_bayes.reset_index()\n",
    "df_bayes = df_bayes.drop('index', axis=1)\n",
    "df_bayes.head()"
   ]
  },
  {
   "cell_type": "markdown",
   "metadata": {},
   "source": [
    "### Klassifikator Trainieren\n",
    "Der so extrahierte Datensatz wir anschließend zufällig in 75% Trainings- und 25% Testdaten unterteilt. Mit den ersteren trainieren wir den den Naive-Bayes-Gauss Klassifikator aus der Python Bibliothek. Anschließend erfolgt die Vorhersage auf den Trainingsdaten."
   ]
  },
  {
   "cell_type": "code",
   "execution_count": 61,
   "metadata": {},
   "outputs": [
    {
     "name": "stdout",
     "output_type": "stream",
     "text": [
      "<class 'pandas.core.frame.DataFrame'>\n",
      "RangeIndex: 40686 entries, 0 to 40685\n",
      "Data columns (total 8 columns):\n",
      "id           40686 non-null int64\n",
      "gender       40686 non-null int64\n",
      "race         40686 non-null int64\n",
      "members      40686 non-null int64\n",
      "income       40686 non-null int64\n",
      "education    40686 non-null int64\n",
      "age          40686 non-null int64\n",
      "bmi          40686 non-null int64\n",
      "dtypes: int64(8)\n",
      "memory usage: 2.5 MB\n"
     ]
    }
   ],
   "source": [
    "df_bayes.info()"
   ]
  },
  {
   "cell_type": "code",
   "execution_count": 68,
   "metadata": {},
   "outputs": [],
   "source": [
    "# x -> features, y -> label to predict\n",
    "x = df_bayes.drop(['bmi','id'], axis=1)\n",
    "y = df_bayes['bmi']"
   ]
  },
  {
   "cell_type": "code",
   "execution_count": 69,
   "metadata": {},
   "outputs": [
    {
     "data": {
      "text/html": [
       "<div>\n",
       "<style scoped>\n",
       "    .dataframe tbody tr th:only-of-type {\n",
       "        vertical-align: middle;\n",
       "    }\n",
       "\n",
       "    .dataframe tbody tr th {\n",
       "        vertical-align: top;\n",
       "    }\n",
       "\n",
       "    .dataframe thead th {\n",
       "        text-align: right;\n",
       "    }\n",
       "</style>\n",
       "<table border=\"1\" class=\"dataframe\">\n",
       "  <thead>\n",
       "    <tr style=\"text-align: right;\">\n",
       "      <th></th>\n",
       "      <th>gender</th>\n",
       "      <th>race</th>\n",
       "      <th>members</th>\n",
       "      <th>income</th>\n",
       "      <th>education</th>\n",
       "      <th>age</th>\n",
       "    </tr>\n",
       "  </thead>\n",
       "  <tbody>\n",
       "    <tr>\n",
       "      <th>0</th>\n",
       "      <td>2</td>\n",
       "      <td>1</td>\n",
       "      <td>2</td>\n",
       "      <td>6</td>\n",
       "      <td>4</td>\n",
       "      <td>13</td>\n",
       "    </tr>\n",
       "    <tr>\n",
       "      <th>1</th>\n",
       "      <td>2</td>\n",
       "      <td>1</td>\n",
       "      <td>6</td>\n",
       "      <td>12</td>\n",
       "      <td>5</td>\n",
       "      <td>2</td>\n",
       "    </tr>\n",
       "    <tr>\n",
       "      <th>2</th>\n",
       "      <td>1</td>\n",
       "      <td>1</td>\n",
       "      <td>2</td>\n",
       "      <td>5</td>\n",
       "      <td>3</td>\n",
       "      <td>15</td>\n",
       "    </tr>\n",
       "    <tr>\n",
       "      <th>3</th>\n",
       "      <td>1</td>\n",
       "      <td>1</td>\n",
       "      <td>5</td>\n",
       "      <td>8</td>\n",
       "      <td>1</td>\n",
       "      <td>11</td>\n",
       "    </tr>\n",
       "    <tr>\n",
       "      <th>4</th>\n",
       "      <td>1</td>\n",
       "      <td>1</td>\n",
       "      <td>7</td>\n",
       "      <td>7</td>\n",
       "      <td>2</td>\n",
       "      <td>2</td>\n",
       "    </tr>\n",
       "  </tbody>\n",
       "</table>\n",
       "</div>"
      ],
      "text/plain": [
       "   gender  race  members  income  education  age\n",
       "0       2     1        2       6          4   13\n",
       "1       2     1        6      12          5    2\n",
       "2       1     1        2       5          3   15\n",
       "3       1     1        5       8          1   11\n",
       "4       1     1        7       7          2    2"
      ]
     },
     "execution_count": 69,
     "metadata": {},
     "output_type": "execute_result"
    }
   ],
   "source": [
    "x.head()"
   ]
  },
  {
   "cell_type": "code",
   "execution_count": 70,
   "metadata": {},
   "outputs": [
    {
     "data": {
      "text/plain": [
       "0    4\n",
       "1   -1\n",
       "2    2\n",
       "3    1\n",
       "4   -1\n",
       "Name: bmi, dtype: int64"
      ]
     },
     "execution_count": 70,
     "metadata": {},
     "output_type": "execute_result"
    }
   ],
   "source": [
    "y[:5]"
   ]
  },
  {
   "cell_type": "code",
   "execution_count": 83,
   "metadata": {},
   "outputs": [],
   "source": [
    "# Dividing x, y into train and test data.\n",
    "x_train, x_test, y_train, y_test = train_test_split(x, y, random_state = 120) \n",
    "# Training a Naive Bayes classifier.\n",
    "gnb = GaussianNB().fit(x_train, y_train) \n",
    "gnb_predictions = gnb.predict(x_test) "
   ]
  },
  {
   "cell_type": "markdown",
   "metadata": {},
   "source": [
    "### Bewertung des Modells   \n",
    "Die erhaltenen Vorhersagen können in Beziehung zu den tatsächlich vorliegenden Daten für den BMI abgeglichen werden.  \n",
    "<b>Wertebereiche: </b> Schon bei der Überprüfung der Wertebereiche tritt Bedenkliches zu Tage: Während die tatsächlichen Werte, alle BMI-Klasssen umfassen, liegen die vorher gesagten Ausprägungen nur in den Kategorien -1 (Untergewicht) bis 1 (leichteres Übergewicht). Der Klassifikator hat also versagt, Personen mit Adipositas 1-3 zu erkennen. Davon war jedoch von Beginn an auszugehen, da die betrachteten Faktoren nur einen leichten Einfluss auf die Tendenz zur Fettleibigkeit haben. Der Naive Bayes wählt bekanntlich, die wahrscheinlichste Klasse aus. Auch wenn also Adipositas durch einige Merkmale etwas wahrscheinlicher würde, so bleibt der Erwartungswert der Normalverteilung eben doch dominant.  \n",
    "<b>Genauigkeit: </b> Die Genauigkeit des Klassifikators wird mit 40,68 Prozent beziffert. Dies ist ein schwacher Wert."
   ]
  },
  {
   "cell_type": "code",
   "execution_count": 85,
   "metadata": {},
   "outputs": [
    {
     "name": "stdout",
     "output_type": "stream",
     "text": [
      "Maximum BMI in test data: 4\n",
      "Minimum BMI in test data: -1\n",
      "Maximum BMI predeicted: 1\n",
      "Minimum BMI predeicted: -1\n"
     ]
    }
   ],
   "source": [
    "print('Maximum BMI in test data:', max(y_test))\n",
    "print('Minimum BMI in test data:', min(y_test))\n",
    "print('Maximum BMI predeicted:', max(gnb_predictions))\n",
    "print('Minimum BMI predeicted:', min(gnb_predictions))"
   ]
  },
  {
   "cell_type": "code",
   "execution_count": 86,
   "metadata": {},
   "outputs": [
    {
     "name": "stdout",
     "output_type": "stream",
     "text": [
      "Naive Bazyes Classifier accuracy:  0.4069012976799056\n"
     ]
    }
   ],
   "source": [
    "# Accuracy on x_test.\n",
    "accuracy = gnb.score(x_test, y_test) \n",
    "print('Naive Bayes Classifier accuracy: ', accuracy)\n",
    "# Create a confusion matrix .\n",
    "cm = confusion_matrix(y_test, gnb_predictions) "
   ]
  },
  {
   "cell_type": "code",
   "execution_count": 87,
   "metadata": {},
   "outputs": [
    {
     "data": {
      "text/plain": [
       "array([[1930,   88,   45,    0,    0,    0],\n",
       "       [1235,  927,  914,    0,    0,    0],\n",
       "       [ 359,  795, 1282,    0,    0,    0],\n",
       "       [ 152,  478,  820,    0,    0,    0],\n",
       "       [  70,  260,  317,    0,    0,    0],\n",
       "       [  41,  215,  244,    0,    0,    0]])"
      ]
     },
     "execution_count": 87,
     "metadata": {},
     "output_type": "execute_result"
    }
   ],
   "source": [
    "cm"
   ]
  },
  {
   "cell_type": "markdown",
   "metadata": {},
   "source": [
    "#### Modifikation der BMI-Klassen     \n",
    "Da die drei oberen BMI-Klassen (Adipositas 1-3) im Einzelnen bei allen Testpersonen deutlich weniger häufig auftreten sind sie auch unwahrscheinlicher. Wir erhoffen uns demnach eine leicht verbesserte Aussage, wenn wir diese Klassen in eine allgemeinere Gruppe, \"Adipositas\", verschmelzen. Der Trainings- und Vorhersageprozess muss dann wiederholt werden."
   ]
  },
  {
   "cell_type": "code",
   "execution_count": 133,
   "metadata": {},
   "outputs": [
    {
     "data": {
      "text/html": [
       "<div>\n",
       "<style scoped>\n",
       "    .dataframe tbody tr th:only-of-type {\n",
       "        vertical-align: middle;\n",
       "    }\n",
       "\n",
       "    .dataframe tbody tr th {\n",
       "        vertical-align: top;\n",
       "    }\n",
       "\n",
       "    .dataframe thead th {\n",
       "        text-align: right;\n",
       "    }\n",
       "</style>\n",
       "<table border=\"1\" class=\"dataframe\">\n",
       "  <thead>\n",
       "    <tr style=\"text-align: right;\">\n",
       "      <th></th>\n",
       "      <th>id</th>\n",
       "      <th>gender</th>\n",
       "      <th>race</th>\n",
       "      <th>members</th>\n",
       "      <th>income</th>\n",
       "      <th>education</th>\n",
       "      <th>age</th>\n",
       "      <th>bmi</th>\n",
       "      <th>bmi_redux</th>\n",
       "    </tr>\n",
       "  </thead>\n",
       "  <tbody>\n",
       "    <tr>\n",
       "      <th>0</th>\n",
       "      <td>41475</td>\n",
       "      <td>2</td>\n",
       "      <td>1</td>\n",
       "      <td>2</td>\n",
       "      <td>6</td>\n",
       "      <td>4</td>\n",
       "      <td>13</td>\n",
       "      <td>4</td>\n",
       "      <td>2</td>\n",
       "    </tr>\n",
       "    <tr>\n",
       "      <th>1</th>\n",
       "      <td>41476</td>\n",
       "      <td>2</td>\n",
       "      <td>1</td>\n",
       "      <td>6</td>\n",
       "      <td>12</td>\n",
       "      <td>5</td>\n",
       "      <td>2</td>\n",
       "      <td>-1</td>\n",
       "      <td>-1</td>\n",
       "    </tr>\n",
       "    <tr>\n",
       "      <th>2</th>\n",
       "      <td>41477</td>\n",
       "      <td>1</td>\n",
       "      <td>1</td>\n",
       "      <td>2</td>\n",
       "      <td>5</td>\n",
       "      <td>3</td>\n",
       "      <td>15</td>\n",
       "      <td>2</td>\n",
       "      <td>2</td>\n",
       "    </tr>\n",
       "    <tr>\n",
       "      <th>3</th>\n",
       "      <td>41479</td>\n",
       "      <td>1</td>\n",
       "      <td>1</td>\n",
       "      <td>5</td>\n",
       "      <td>8</td>\n",
       "      <td>1</td>\n",
       "      <td>11</td>\n",
       "      <td>1</td>\n",
       "      <td>1</td>\n",
       "    </tr>\n",
       "    <tr>\n",
       "      <th>4</th>\n",
       "      <td>41480</td>\n",
       "      <td>1</td>\n",
       "      <td>1</td>\n",
       "      <td>7</td>\n",
       "      <td>7</td>\n",
       "      <td>2</td>\n",
       "      <td>2</td>\n",
       "      <td>-1</td>\n",
       "      <td>-1</td>\n",
       "    </tr>\n",
       "  </tbody>\n",
       "</table>\n",
       "</div>"
      ],
      "text/plain": [
       "      id  gender  race  members  income  education  age  bmi  bmi_redux\n",
       "0  41475       2     1        2       6          4   13    4          2\n",
       "1  41476       2     1        6      12          5    2   -1         -1\n",
       "2  41477       1     1        2       5          3   15    2          2\n",
       "3  41479       1     1        5       8          1   11    1          1\n",
       "4  41480       1     1        7       7          2    2   -1         -1"
      ]
     },
     "execution_count": 133,
     "metadata": {},
     "output_type": "execute_result"
    }
   ],
   "source": [
    "# Merge all the obese bmi-classes into one category, so that the classifier has a better chance to go there.\n",
    "for row in df_bayes.index:\n",
    "    df_bayes.at[row,'bmi_redux'] = df_bayes.at[row,'bmi']\n",
    "    if (df_bayes.at[row,'bmi'] == 4):\n",
    "        df_bayes.at[row,'bmi_redux'] = 2\n",
    "    elif (df_bayes.at[row,'bmi'] == 3):\n",
    "        df_bayes.at[row,'bmi_redux'] = 2\n",
    "        \n",
    "df_bayes['bmi_redux'] = df_bayes['bmi_redux'].astype(int)\n",
    "df_bayes.head()"
   ]
  },
  {
   "cell_type": "code",
   "execution_count": 139,
   "metadata": {},
   "outputs": [],
   "source": [
    "# x -> features, y -> label to predict\n",
    "x2 = df_bayes.drop(['bmi','bmi_redux','id'], axis=1)\n",
    "y2 = df_bayes['bmi_redux']\n",
    "# Dividing x, y into train and test data.\n",
    "x2_train, x2_test, y2_train, y2_test = train_test_split(x2, y2, random_state=10) \n",
    "# Training a Naive Bayes classifier.\n",
    "gnb2 = GaussianNB().fit(x2_train, y2_train) \n",
    "gnb2_predictions = gnb.predict(x2_test) "
   ]
  },
  {
   "cell_type": "markdown",
   "metadata": {},
   "source": [
    "#### Bewertung des angepassten Modells   \n",
    "Auch nach Neueinteilung der BMI-Klassen bleibt das Problem erhalten: Es besteht keine Möglichkeit, krankhafte Fettleibigkeit vorher zu sagen. Dies ist vielleicht auch beruhigend, da somit klar wird, dass sozioökonomische Faktoren eben nicht allein über das Körpergewicht entscheiden, sondern maximal eine Tendenz fördern könnten. Der Naive Bayes Klasifikator ist jedoch nicht dafür geignet eine deratige Verschiebung abzubilden. Die Genauigkeit ist mit 41,17 Prozent nur leicht verbessert und könnte schon damit erklärt werden, dass wir die Personen richtig vorher sagen, die ohnehin im Mittelfeld liegen.    \n",
    "<b>Konfusionsmatrix:</b> Um die Trefferquote genauer zu beleuchten, hilft eine Matrix, welche die realen und die vorher gesagten Merkmalsausprägungen gegenüber stellt. Wir können also erkennen, wie viele Treffer in jeder Klasse gefunden wurden und wohin sich die Alpha-Fehler bewegt haben. In normalisierter Form ist der prozentuale Trefferanteil erfasst. In unserem Modell wird somit eine erstaunlich präzise Aussage über die Testpersonen mit Untergewicht getroffen. Von 2114 Teilnehmern werden 1960 richtig eingeschätzt. Das ist eine Trefferquote von 93 Prozent. Dieser gute Wert verlangt eigentlich eine Folgeuntersuchung, die ergründet, ob es markante Einzelindikatoren wie Alter (Jugendliche), Ethnie (Asiaten) und Einkommen (extreme Armut) gibt. Dies lag aber nicht im Fokus dieser Arbeit. Die Vorhersage der Normalgewichtigen ist sehr ungenau - nur 32 Prozent werden richtig erfasst. Viel zu viele Personen wurden ins Untergewicht verschoben (wo dann ein großer Beta-Fehler vorliegt). Die Vorhersage der leicht Übergewichtigen ist mit 52 Prozent etwas genauer. Immerhin wird dort der Schwerpunkt richtig gesetzt. Das Hauptproblem liegt bei der Kategorie \"Adipös\": Die Vorhersage dazu hat sich komplett in den über- und normalgewichtigen Teil verschoben. Die Trefferquote liegt so bei 0."
   ]
  },
  {
   "cell_type": "code",
   "execution_count": 140,
   "metadata": {},
   "outputs": [
    {
     "name": "stdout",
     "output_type": "stream",
     "text": [
      "Naive Bayes Classifier accuracy:  0.41171844278411324\n"
     ]
    }
   ],
   "source": [
    "# Accuracy on x_test.\n",
    "accuracy2 = gnb.score(x2_test, y2_test) \n",
    "print('Naive Bayes Classifier accuracy: ', accuracy2)\n",
    "# Create a confusion matrix .\n",
    "cm2 = confusion_matrix(y2_test, gnb2_predictions) "
   ]
  },
  {
   "cell_type": "code",
   "execution_count": 132,
   "metadata": {},
   "outputs": [
    {
     "name": "stdout",
     "output_type": "stream",
     "text": [
      "Confusion matrix, without normalization\n",
      "Normalized confusion matrix\n"
     ]
    },
    {
     "data": {
      "image/png": "[encoded data removed]",
      "text/plain": [
       "<Figure size 576x576 with 2 Axes>"
      ]
     },
     "metadata": {
      "needs_background": "light"
     },
     "output_type": "display_data"
    },
    {
     "data": {
      "image/png": "[encoded data removed]",
      "text/plain": [
       "<Figure size 576x576 with 2 Axes>"
      ]
     },
     "metadata": {
      "needs_background": "light"
     },
     "output_type": "display_data"
    }
   ],
   "source": [
    "# Relabel the coded bmi-categories.\n",
    "class_names = ['underweight','normal','overweight','obese']\n",
    "# Plot normalized confusion matrix.\n",
    "np.set_printoptions(precision=2)\n",
    "plt.rc('font', size=14)\n",
    "plt.figure(figsize=(8, 8))\n",
    "plot_confusion_matrix(cm2, classes=class_names, title='Confusion matrix', normalize=False)\n",
    "plt.figure(figsize=(8, 8))\n",
    "plot_confusion_matrix(cm2, classes=class_names, title='Confusion matrix nomalized', normalize=True)\n",
    "plt.show()"
   ]
  },
  {
   "cell_type": "markdown",
   "metadata": {},
   "source": [
    "### Fazit\n",
    "Das Klassifikator-Modell ist sehr schwach. Bei guter Aussagekraft erwarten wir die Konfusionsmatrix eine deutlich ausgeprägte Hauptdiagonale. Diese ist jedoch zumindest schwach zu erkennen - die Verteilung der Schätzwerte ist keinesfalls zufällig. Dass bedeutet vielleicht, dass die angedachten Zusammenhänge nicht ganz abzustreiten sind, durch den Naive-Bayes aber auch schlecht nachgewiesen werden können. Bei der Anwendung von Klassifizierern bleibt as Problem bestehen, dass leicht gesteigerte Wahrscheinlichkeiten keinen Ausdruck finden. Gerade für diese Untersuchung wäre eine Berechnung solcher Werte interessant. Die Methodik für eine derartige Annäherung an das Thema lag zum Zeitpunkt der Arbeit nicht in Reichweite."
   ]
  },
  {
   "cell_type": "code",
   "execution_count": 141,
   "metadata": {},
   "outputs": [
    {
     "name": "stdout",
     "output_type": "stream",
     "text": [
      "             precision    recall  f1-score   support\n",
      "\n",
      "         -1       0.52      0.93      0.66      2114\n",
      "          0       0.34      0.32      0.33      2977\n",
      "          1       0.36      0.52      0.42      2453\n",
      "          2       0.00      0.00      0.00      2628\n",
      "\n",
      "avg / total       0.29      0.41      0.34     10172\n",
      "\n"
     ]
    }
   ],
   "source": [
    "print(classification_report(y2_test, gnb2_predictions))"
   ]
  }
 ],
 "metadata": {
  "kernelspec": {
   "display_name": "Python 3",
   "language": "python",
   "name": "python3"
  },
  "language_info": {
   "codemirror_mode": {
    "name": "ipython",
    "version": 3
   },
   "file_extension": ".py",
   "mimetype": "text/x-python",
   "name": "python",
   "nbconvert_exporter": "python",
   "pygments_lexer": "ipython3",
   "version": "3.7.0"
  }
 },
 "nbformat": 4,
 "nbformat_minor": 2
}
