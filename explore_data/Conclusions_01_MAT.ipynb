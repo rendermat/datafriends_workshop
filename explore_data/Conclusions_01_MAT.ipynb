{
 "cells": [
  {
   "cell_type": "markdown",
   "metadata": {},
   "source": [
    "# Conclusions"
   ]
  },
  {
   "cell_type": "markdown",
   "metadata": {},
   "source": [
    "## Relating Obesity to Diabetes\n",
    "+ The scatter graph shows that there is a **positive relation** between obesity and diabetes.\n",
    "+ This realations is much **stronger than the relation between poverty and obesity**.\n",
    "+ This was expected as obesity is known as a main cause of diabetes B.\n",
    "+ This research was used to get an **example of a closely related pair of data sets**.\n",
    "+ The scatter plot still is not as linear as one would expect. Obesity is just one factor of many for diabetes."
   ]
  },
  {
   "cell_type": "code",
   "execution_count": null,
   "metadata": {},
   "outputs": [],
   "source": []
  }
 ],
 "metadata": {
  "kernelspec": {
   "display_name": "Python 3",
   "language": "python",
   "name": "python3"
  },
  "language_info": {
   "codemirror_mode": {
    "name": "ipython",
    "version": 3
   },
   "file_extension": ".py",
   "mimetype": "text/x-python",
   "name": "python",
   "nbconvert_exporter": "python",
   "pygments_lexer": "ipython3",
   "version": "3.7.0"
  }
 },
 "nbformat": 4,
 "nbformat_minor": 2
}
