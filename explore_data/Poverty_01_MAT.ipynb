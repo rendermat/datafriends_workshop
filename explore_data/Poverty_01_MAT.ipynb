{
 "cells": [
  {
   "cell_type": "markdown",
   "metadata": {},
   "source": [
    "# Explore Poverty Data 01\n",
    "Linking obesity to poverty via the obesity buckets.  \n",
    "**Author:** Matthias Titze s0563413"
   ]
  },
  {
   "cell_type": "code",
   "execution_count": 1,
   "metadata": {},
   "outputs": [],
   "source": [
    "import os\n",
    "import numpy as np\n",
    "import pandas as pd\n",
    "import matplotlib.pyplot as plt\n",
    "import seaborn as sns\n",
    "import warnings\n",
    "warnings.filterwarnings('ignore')\n",
    "%matplotlib inline"
   ]
  },
  {
   "cell_type": "markdown",
   "metadata": {},
   "source": [
    "**File Pathes**"
   ]
  },
  {
   "cell_type": "code",
   "execution_count": 2,
   "metadata": {},
   "outputs": [
    {
     "data": {
      "text/plain": [
       "'/Users/matthiastitze/Uni HTW/DataScience/Repositories/datafriends_workshop/explore_data'"
      ]
     },
     "execution_count": 2,
     "metadata": {},
     "output_type": "execute_result"
    }
   ],
   "source": [
    "pwd"
   ]
  },
  {
   "cell_type": "code",
   "execution_count": 3,
   "metadata": {},
   "outputs": [],
   "source": [
    "# File pathes for quick adjustment if places or directories change.\n",
    "path_input = '00_data_input'\n",
    "path_temp = '01_data_temp'\n",
    "path_inter = '02_data_intermediate'\n",
    "path_output = '03_data_output'\n",
    "path_atlas = os.path.join(path_input, 'food_atlas.xls')\n",
    "path_obesity_buckets_fips = os.path.join(path_inter, 'obesity_buckets_fips.csv')\n",
    "path_obesity_buckets_data = os.path.join(path_inter, 'obesity_buckets_data.csv')\n",
    "path_poverty_data = os.path.join(path_inter, 'poverty_refined_data.csv')\n",
    "path_poverty_description = os.path.join(path_inter, 'poverty_refined_decription.csv')\n",
    "path_obesity_poverty_data = os.path.join(path_inter, 'obesity_poverty_data.csv')"
   ]
  },
  {
   "cell_type": "markdown",
   "metadata": {},
   "source": [
    "## Refine Poverty Data  \n",
    "Extract the required data from the original raw data source and clean or refine it."
   ]
  },
  {
   "cell_type": "markdown",
   "metadata": {},
   "source": [
    "**Extract Poverty Dataframe**  \n",
    "We use data provided by:\n",
    "**United States Department of Agriculture**  \n",
    "https://www.ers.usda.gov/data-products/food-environment-atlas/data-access-and-documentation-downloads/#Current%20Version  \n",
    "This data is provided as an Excel file with multiple sheets.\n",
    "The values of the food atlas are collected for each US county which are identified by their FIPS-code."
   ]
  },
  {
   "cell_type": "code",
   "execution_count": 6,
   "metadata": {},
   "outputs": [
    {
     "data": {
      "text/html": [
       "<div>\n",
       "<style scoped>\n",
       "    .dataframe tbody tr th:only-of-type {\n",
       "        vertical-align: middle;\n",
       "    }\n",
       "\n",
       "    .dataframe tbody tr th {\n",
       "        vertical-align: top;\n",
       "    }\n",
       "\n",
       "    .dataframe thead th {\n",
       "        text-align: right;\n",
       "    }\n",
       "</style>\n",
       "<table border=\"1\" class=\"dataframe\">\n",
       "  <thead>\n",
       "    <tr style=\"text-align: right;\">\n",
       "      <th></th>\n",
       "      <th>county_fips</th>\n",
       "      <th>county</th>\n",
       "      <th>state</th>\n",
       "      <th>PCT_poverty_rate_2015</th>\n",
       "      <th>PCT_poverty_rate_2015_children</th>\n",
       "    </tr>\n",
       "  </thead>\n",
       "  <tbody>\n",
       "    <tr>\n",
       "      <th>0</th>\n",
       "      <td>1001</td>\n",
       "      <td>Autauga</td>\n",
       "      <td>AL</td>\n",
       "      <td>12.7</td>\n",
       "      <td>18.8</td>\n",
       "    </tr>\n",
       "    <tr>\n",
       "      <th>1</th>\n",
       "      <td>1003</td>\n",
       "      <td>Baldwin</td>\n",
       "      <td>AL</td>\n",
       "      <td>12.9</td>\n",
       "      <td>19.6</td>\n",
       "    </tr>\n",
       "    <tr>\n",
       "      <th>2</th>\n",
       "      <td>1005</td>\n",
       "      <td>Barbour</td>\n",
       "      <td>AL</td>\n",
       "      <td>32.0</td>\n",
       "      <td>45.2</td>\n",
       "    </tr>\n",
       "    <tr>\n",
       "      <th>3</th>\n",
       "      <td>1007</td>\n",
       "      <td>Bibb</td>\n",
       "      <td>AL</td>\n",
       "      <td>22.2</td>\n",
       "      <td>29.3</td>\n",
       "    </tr>\n",
       "  </tbody>\n",
       "</table>\n",
       "</div>"
      ],
      "text/plain": [
       "   county_fips   county state  PCT_poverty_rate_2015  \\\n",
       "0         1001  Autauga    AL                   12.7   \n",
       "1         1003  Baldwin    AL                   12.9   \n",
       "2         1005  Barbour    AL                   32.0   \n",
       "3         1007     Bibb    AL                   22.2   \n",
       "\n",
       "   PCT_poverty_rate_2015_children  \n",
       "0                            18.8  \n",
       "1                            19.6  \n",
       "2                            45.2  \n",
       "3                            29.3  "
      ]
     },
     "execution_count": 6,
     "metadata": {},
     "output_type": "execute_result"
    }
   ],
   "source": [
    "# Load the socio-economic table from the food atlas data and extract the columns dealing with poverty.\n",
    "df_social = pd.read_excel(path_atlas, sheet_name='SOCIOECONOMIC')\n",
    "df_poverty = df_social[['FIPS','County','State','POVRATE15','CHILDPOVRATE15']].copy()\n",
    "\n",
    "# Rename the columns to allow for better reading and referencing in the future.\n",
    "df_poverty.rename(columns={'FIPS':'county_fips','County':'county','State':'state',  \\\n",
    "                           'POVRATE15':'PCT_poverty_rate_2015', \\\n",
    "                           'CHILDPOVRATE15':'PCT_poverty_rate_2015_children'}, inplace=True)\n",
    "\n",
    "# Show some information about the dataframe we extracted so far.\n",
    "df_poverty[:4]"
   ]
  },
  {
   "cell_type": "markdown",
   "metadata": {},
   "source": [
    "**Store Result in File**  \n",
    "Why not store this nice new dataframe as a .csv file for later use."
   ]
  },
  {
   "cell_type": "code",
   "execution_count": 7,
   "metadata": {},
   "outputs": [],
   "source": [
    "df_poverty.to_csv(path_poverty_data, index=False)"
   ]
  },
  {
   "cell_type": "markdown",
   "metadata": {},
   "source": [
    "## Inspect Results  \n",
    "Plot the dataframe data to get a visual understanding of the data. Also create a data description table."
   ]
  },
  {
   "cell_type": "markdown",
   "metadata": {},
   "source": [
    "**Poverty Data Description Frame**"
   ]
  },
  {
   "cell_type": "code",
   "execution_count": 8,
   "metadata": {},
   "outputs": [
    {
     "data": {
      "text/html": [
       "<div>\n",
       "<style scoped>\n",
       "    .dataframe tbody tr th:only-of-type {\n",
       "        vertical-align: middle;\n",
       "    }\n",
       "\n",
       "    .dataframe tbody tr th {\n",
       "        vertical-align: top;\n",
       "    }\n",
       "\n",
       "    .dataframe thead th {\n",
       "        text-align: right;\n",
       "    }\n",
       "</style>\n",
       "<table border=\"1\" class=\"dataframe\">\n",
       "  <thead>\n",
       "    <tr style=\"text-align: right;\">\n",
       "      <th></th>\n",
       "      <th>count</th>\n",
       "      <th>mean</th>\n",
       "      <th>std</th>\n",
       "      <th>min</th>\n",
       "      <th>25%</th>\n",
       "      <th>50%</th>\n",
       "      <th>75%</th>\n",
       "      <th>max</th>\n",
       "    </tr>\n",
       "  </thead>\n",
       "  <tbody>\n",
       "    <tr>\n",
       "      <th>PCT_poverty_rate_2015</th>\n",
       "      <td>3139.0</td>\n",
       "      <td>16.261</td>\n",
       "      <td>6.442</td>\n",
       "      <td>3.4</td>\n",
       "      <td>11.50</td>\n",
       "      <td>15.2</td>\n",
       "      <td>19.7</td>\n",
       "      <td>47.4</td>\n",
       "    </tr>\n",
       "    <tr>\n",
       "      <th>PCT_poverty_rate_2015_children</th>\n",
       "      <td>3139.0</td>\n",
       "      <td>23.239</td>\n",
       "      <td>9.364</td>\n",
       "      <td>3.3</td>\n",
       "      <td>16.25</td>\n",
       "      <td>22.3</td>\n",
       "      <td>29.1</td>\n",
       "      <td>61.6</td>\n",
       "    </tr>\n",
       "  </tbody>\n",
       "</table>\n",
       "</div>"
      ],
      "text/plain": [
       "                                 count    mean    std  min    25%   50%   75%  \\\n",
       "PCT_poverty_rate_2015           3139.0  16.261  6.442  3.4  11.50  15.2  19.7   \n",
       "PCT_poverty_rate_2015_children  3139.0  23.239  9.364  3.3  16.25  22.3  29.1   \n",
       "\n",
       "                                 max  \n",
       "PCT_poverty_rate_2015           47.4  \n",
       "PCT_poverty_rate_2015_children  61.6  "
      ]
     },
     "execution_count": 8,
     "metadata": {},
     "output_type": "execute_result"
    }
   ],
   "source": [
    "ob_columns = ['PCT_poverty_rate_2015','PCT_poverty_rate_2015_children']\n",
    "df_poverty_description = round(df_poverty[ob_columns].describe(), 3).transpose()\n",
    "df_poverty_description"
   ]
  },
  {
   "cell_type": "code",
   "execution_count": 9,
   "metadata": {},
   "outputs": [],
   "source": [
    "df_poverty_description.to_csv(path_poverty_description)"
   ]
  },
  {
   "cell_type": "markdown",
   "metadata": {},
   "source": [
    "**Distribution Plots**"
   ]
  },
  {
   "cell_type": "code",
   "execution_count": 10,
   "metadata": {},
   "outputs": [],
   "source": [
    "def plot_distribution(title, series, lower_limit, upper_limit, bin_precision, y_limit, color):\n",
    "    bins = np.linspace(lower_limit, upper_limit, ((upper_limit - lower_limit) / bin_precision) + 1)\n",
    "    sns.set_color_codes()\n",
    "    sns.set(font_scale=1.4)\n",
    "    plt.subplots(figsize=(20,8))\n",
    "    plt.title(title) \n",
    "    plt.xlim(lower_limit, upper_limit)\n",
    "    plt.ylim(0, y_limit)\n",
    "    sns.distplot(series.dropna(), bins=bins, color=color, kde=False) "
   ]
  },
  {
   "cell_type": "code",
   "execution_count": 16,
   "metadata": {},
   "outputs": [
    {
     "data": {
      "image/png": "[encoded data removed]",
      "text/plain": [
       "<Figure size 1440x576 with 1 Axes>"
      ]
     },
     "metadata": {},
     "output_type": "display_data"
    }
   ],
   "source": [
    "plot_distribution('Poverty Rate US 2015', df_poverty['PCT_poverty_rate_2015'], 0, 50, 0.5, 120, 'g')"
   ]
  },
  {
   "cell_type": "markdown",
   "metadata": {},
   "source": [
    "### Sorting Poverty Values into Obesity Groups\n",
    "We now use the obesity groups we have formed and add the poverty data of the counties in each group."
   ]
  },
  {
   "cell_type": "code",
   "execution_count": 17,
   "metadata": {},
   "outputs": [],
   "source": [
    "df_obesity_bucket_fips = pd.read_csv(path_obesity_buckets_fips)"
   ]
  },
  {
   "cell_type": "code",
   "execution_count": 18,
   "metadata": {},
   "outputs": [],
   "source": [
    "def get_poverty_values_for_fips_list(fips_list, column='PCT_poverty_rate_2015'):\n",
    "    '''Gets a list of poverty values - one value for each code in the fips list.'''\n",
    "    values_list = []\n",
    "    \n",
    "    for fips in fips_list:\n",
    "        # Get the poverty value sub-dataframe for the county fips.\n",
    "        df_poverty_value = df_poverty[df_poverty['county_fips']==int(fips)][column]\n",
    "        # Extract the poverty value we need and add to list.\n",
    "        poverty_value = df_poverty_value.iloc[0]\n",
    "        values_list.append(poverty_value)\n",
    "        \n",
    "    return values_list"
   ]
  },
  {
   "cell_type": "code",
   "execution_count": 19,
   "metadata": {},
   "outputs": [],
   "source": [
    "# We want to work on these columns of the refined obesity data.\n",
    "columns = ['obesity_bucket','PCT_poverty_mean','PCT_poverty_median','PCT_poverty_stddev']\n",
    "# Set up the layout of the new dataframe using the columns above.\n",
    "df_poverty_bucket_data = pd.DataFrame([],columns=columns)\n",
    "precision = 3\n",
    "\n",
    "# Now analyse each obesity group (iterate through dataframe rows).\n",
    "# Remenber, the fips (county) buckets group together counties whith a similiar obesity rate.\n",
    "for i in range(len(df_obesity_bucket_fips.index)):\n",
    "    \n",
    "    # Extract the row's data fields.\n",
    "    bucket_range = df_obesity_bucket_fips['bucket_range'].iloc[i]\n",
    "    n_fips = df_obesity_bucket_fips['bucket_size'].iloc[i]\n",
    "    fips_list_str = df_obesity_bucket_fips['county_fips'].iloc[i]\n",
    "    \n",
    "    # Calculate some standard statistical values for each obesity bucket.\n",
    "    poverty_mean = 0\n",
    "    poverty_median = 0\n",
    "    poverty_stddev = 0\n",
    "    \n",
    "    if (n_fips != 0):\n",
    "        fips_list = fips_list_str.split(', ')\n",
    "        poverty_values = get_poverty_values_for_fips_list(fips_list)\n",
    "        poverty_mean = round(np.nanmean(poverty_values), precision)\n",
    "        poverty_median = round(np.nanmedian(poverty_values), precision)\n",
    "        poverty_stddev = round(np.nanstd(poverty_values), precision)\n",
    "\n",
    "    # Add a data row for the fips bucket to the new dataframe.\n",
    "    row = {'obesity_bucket':bucket_range, \\\n",
    "           'PCT_poverty_mean':poverty_mean,'PCT_poverty_median':poverty_median,'PCT_poverty_stddev':poverty_stddev}\n",
    "    df_poverty_bucket_data = df_poverty_bucket_data.append(row, ignore_index=True)"
   ]
  },
  {
   "cell_type": "markdown",
   "metadata": {},
   "source": [
    "**Merge** the obesity group data with the poverty group data."
   ]
  },
  {
   "cell_type": "code",
   "execution_count": 20,
   "metadata": {},
   "outputs": [
    {
     "data": {
      "text/html": [
       "<div>\n",
       "<style scoped>\n",
       "    .dataframe tbody tr th:only-of-type {\n",
       "        vertical-align: middle;\n",
       "    }\n",
       "\n",
       "    .dataframe tbody tr th {\n",
       "        vertical-align: top;\n",
       "    }\n",
       "\n",
       "    .dataframe thead th {\n",
       "        text-align: right;\n",
       "    }\n",
       "</style>\n",
       "<table border=\"1\" class=\"dataframe\">\n",
       "  <thead>\n",
       "    <tr style=\"text-align: right;\">\n",
       "      <th></th>\n",
       "      <th>obesity_bucket</th>\n",
       "      <th>n_fips</th>\n",
       "      <th>PCT_obesity_mean</th>\n",
       "      <th>PCT_obesity_median</th>\n",
       "      <th>PCT_obesity_stddev</th>\n",
       "      <th>PCT_poverty_mean</th>\n",
       "      <th>PCT_poverty_median</th>\n",
       "      <th>PCT_poverty_stddev</th>\n",
       "    </tr>\n",
       "  </thead>\n",
       "  <tbody>\n",
       "    <tr>\n",
       "      <th>0</th>\n",
       "      <td>%[10-12[</td>\n",
       "      <td>0</td>\n",
       "      <td>0.000</td>\n",
       "      <td>0.000</td>\n",
       "      <td>0.000</td>\n",
       "      <td>0</td>\n",
       "      <td>0</td>\n",
       "      <td>0</td>\n",
       "    </tr>\n",
       "    <tr>\n",
       "      <th>1</th>\n",
       "      <td>%[12-14[</td>\n",
       "      <td>36</td>\n",
       "      <td>12.992</td>\n",
       "      <td>13.025</td>\n",
       "      <td>0.318</td>\n",
       "      <td>9.533</td>\n",
       "      <td>8.8</td>\n",
       "      <td>2.374</td>\n",
       "    </tr>\n",
       "    <tr>\n",
       "      <th>2</th>\n",
       "      <td>%[14-16[</td>\n",
       "      <td>30</td>\n",
       "      <td>14.800</td>\n",
       "      <td>14.850</td>\n",
       "      <td>0.507</td>\n",
       "      <td>10.54</td>\n",
       "      <td>9.4</td>\n",
       "      <td>4.156</td>\n",
       "    </tr>\n",
       "    <tr>\n",
       "      <th>3</th>\n",
       "      <td>%[16-18[</td>\n",
       "      <td>85</td>\n",
       "      <td>16.979</td>\n",
       "      <td>17.025</td>\n",
       "      <td>0.645</td>\n",
       "      <td>11.5</td>\n",
       "      <td>11.35</td>\n",
       "      <td>3.877</td>\n",
       "    </tr>\n",
       "    <tr>\n",
       "      <th>4</th>\n",
       "      <td>%[18-20[</td>\n",
       "      <td>219</td>\n",
       "      <td>19.249</td>\n",
       "      <td>19.500</td>\n",
       "      <td>0.568</td>\n",
       "      <td>11.674</td>\n",
       "      <td>10.1</td>\n",
       "      <td>4.77</td>\n",
       "    </tr>\n",
       "    <tr>\n",
       "      <th>5</th>\n",
       "      <td>%[20-22[</td>\n",
       "      <td>414</td>\n",
       "      <td>21.117</td>\n",
       "      <td>21.200</td>\n",
       "      <td>0.559</td>\n",
       "      <td>14.213</td>\n",
       "      <td>12.9</td>\n",
       "      <td>6.878</td>\n",
       "    </tr>\n",
       "    <tr>\n",
       "      <th>6</th>\n",
       "      <td>%[22-24[</td>\n",
       "      <td>604</td>\n",
       "      <td>22.988</td>\n",
       "      <td>23.050</td>\n",
       "      <td>0.582</td>\n",
       "      <td>13.356</td>\n",
       "      <td>13</td>\n",
       "      <td>5.367</td>\n",
       "    </tr>\n",
       "    <tr>\n",
       "      <th>7</th>\n",
       "      <td>%[24-26[</td>\n",
       "      <td>1095</td>\n",
       "      <td>25.077</td>\n",
       "      <td>25.150</td>\n",
       "      <td>0.600</td>\n",
       "      <td>14.311</td>\n",
       "      <td>13.55</td>\n",
       "      <td>5.46</td>\n",
       "    </tr>\n",
       "    <tr>\n",
       "      <th>8</th>\n",
       "      <td>%[26-28[</td>\n",
       "      <td>3087</td>\n",
       "      <td>27.129</td>\n",
       "      <td>27.200</td>\n",
       "      <td>0.552</td>\n",
       "      <td>14.291</td>\n",
       "      <td>13.65</td>\n",
       "      <td>5.205</td>\n",
       "    </tr>\n",
       "    <tr>\n",
       "      <th>9</th>\n",
       "      <td>%[28-30[</td>\n",
       "      <td>4546</td>\n",
       "      <td>29.051</td>\n",
       "      <td>29.100</td>\n",
       "      <td>0.569</td>\n",
       "      <td>13.97</td>\n",
       "      <td>13.3</td>\n",
       "      <td>4.688</td>\n",
       "    </tr>\n",
       "    <tr>\n",
       "      <th>10</th>\n",
       "      <td>%[30-32[</td>\n",
       "      <td>5353</td>\n",
       "      <td>30.956</td>\n",
       "      <td>30.950</td>\n",
       "      <td>0.575</td>\n",
       "      <td>15.585</td>\n",
       "      <td>14.5</td>\n",
       "      <td>5.444</td>\n",
       "    </tr>\n",
       "    <tr>\n",
       "      <th>11</th>\n",
       "      <td>%[32-34[</td>\n",
       "      <td>3708</td>\n",
       "      <td>32.865</td>\n",
       "      <td>32.850</td>\n",
       "      <td>0.536</td>\n",
       "      <td>18.167</td>\n",
       "      <td>17.95</td>\n",
       "      <td>5.567</td>\n",
       "    </tr>\n",
       "    <tr>\n",
       "      <th>12</th>\n",
       "      <td>%[34-36[</td>\n",
       "      <td>1344</td>\n",
       "      <td>34.763</td>\n",
       "      <td>34.650</td>\n",
       "      <td>0.569</td>\n",
       "      <td>21.713</td>\n",
       "      <td>21.3</td>\n",
       "      <td>6.076</td>\n",
       "    </tr>\n",
       "    <tr>\n",
       "      <th>13</th>\n",
       "      <td>%[36-38[</td>\n",
       "      <td>692</td>\n",
       "      <td>36.884</td>\n",
       "      <td>36.750</td>\n",
       "      <td>0.617</td>\n",
       "      <td>24.932</td>\n",
       "      <td>24.2</td>\n",
       "      <td>6.098</td>\n",
       "    </tr>\n",
       "    <tr>\n",
       "      <th>14</th>\n",
       "      <td>%[38-40[</td>\n",
       "      <td>243</td>\n",
       "      <td>38.847</td>\n",
       "      <td>38.900</td>\n",
       "      <td>0.553</td>\n",
       "      <td>29.108</td>\n",
       "      <td>27.7</td>\n",
       "      <td>7.046</td>\n",
       "    </tr>\n",
       "    <tr>\n",
       "      <th>15</th>\n",
       "      <td>%[40-42[</td>\n",
       "      <td>110</td>\n",
       "      <td>40.979</td>\n",
       "      <td>40.850</td>\n",
       "      <td>0.596</td>\n",
       "      <td>34.881</td>\n",
       "      <td>35.7</td>\n",
       "      <td>5.235</td>\n",
       "    </tr>\n",
       "    <tr>\n",
       "      <th>16</th>\n",
       "      <td>%[42-44[</td>\n",
       "      <td>30</td>\n",
       "      <td>42.800</td>\n",
       "      <td>42.850</td>\n",
       "      <td>0.257</td>\n",
       "      <td>34.98</td>\n",
       "      <td>35</td>\n",
       "      <td>2.433</td>\n",
       "    </tr>\n",
       "    <tr>\n",
       "      <th>17</th>\n",
       "      <td>%[44-46[</td>\n",
       "      <td>18</td>\n",
       "      <td>44.450</td>\n",
       "      <td>44.200</td>\n",
       "      <td>0.389</td>\n",
       "      <td>42.433</td>\n",
       "      <td>43.3</td>\n",
       "      <td>3.564</td>\n",
       "    </tr>\n",
       "    <tr>\n",
       "      <th>18</th>\n",
       "      <td>%[46-48[</td>\n",
       "      <td>0</td>\n",
       "      <td>0.000</td>\n",
       "      <td>0.000</td>\n",
       "      <td>0.000</td>\n",
       "      <td>0</td>\n",
       "      <td>0</td>\n",
       "      <td>0</td>\n",
       "    </tr>\n",
       "    <tr>\n",
       "      <th>19</th>\n",
       "      <td>%[48-50[</td>\n",
       "      <td>0</td>\n",
       "      <td>0.000</td>\n",
       "      <td>0.000</td>\n",
       "      <td>0.000</td>\n",
       "      <td>0</td>\n",
       "      <td>0</td>\n",
       "      <td>0</td>\n",
       "    </tr>\n",
       "  </tbody>\n",
       "</table>\n",
       "</div>"
      ],
      "text/plain": [
       "   obesity_bucket  n_fips  PCT_obesity_mean  PCT_obesity_median  \\\n",
       "0        %[10-12[       0             0.000               0.000   \n",
       "1        %[12-14[      36            12.992              13.025   \n",
       "2        %[14-16[      30            14.800              14.850   \n",
       "3        %[16-18[      85            16.979              17.025   \n",
       "4        %[18-20[     219            19.249              19.500   \n",
       "5        %[20-22[     414            21.117              21.200   \n",
       "6        %[22-24[     604            22.988              23.050   \n",
       "7        %[24-26[    1095            25.077              25.150   \n",
       "8        %[26-28[    3087            27.129              27.200   \n",
       "9        %[28-30[    4546            29.051              29.100   \n",
       "10       %[30-32[    5353            30.956              30.950   \n",
       "11       %[32-34[    3708            32.865              32.850   \n",
       "12       %[34-36[    1344            34.763              34.650   \n",
       "13       %[36-38[     692            36.884              36.750   \n",
       "14       %[38-40[     243            38.847              38.900   \n",
       "15       %[40-42[     110            40.979              40.850   \n",
       "16       %[42-44[      30            42.800              42.850   \n",
       "17       %[44-46[      18            44.450              44.200   \n",
       "18       %[46-48[       0             0.000               0.000   \n",
       "19       %[48-50[       0             0.000               0.000   \n",
       "\n",
       "    PCT_obesity_stddev PCT_poverty_mean PCT_poverty_median PCT_poverty_stddev  \n",
       "0                0.000                0                  0                  0  \n",
       "1                0.318            9.533                8.8              2.374  \n",
       "2                0.507            10.54                9.4              4.156  \n",
       "3                0.645             11.5              11.35              3.877  \n",
       "4                0.568           11.674               10.1               4.77  \n",
       "5                0.559           14.213               12.9              6.878  \n",
       "6                0.582           13.356                 13              5.367  \n",
       "7                0.600           14.311              13.55               5.46  \n",
       "8                0.552           14.291              13.65              5.205  \n",
       "9                0.569            13.97               13.3              4.688  \n",
       "10               0.575           15.585               14.5              5.444  \n",
       "11               0.536           18.167              17.95              5.567  \n",
       "12               0.569           21.713               21.3              6.076  \n",
       "13               0.617           24.932               24.2              6.098  \n",
       "14               0.553           29.108               27.7              7.046  \n",
       "15               0.596           34.881               35.7              5.235  \n",
       "16               0.257            34.98                 35              2.433  \n",
       "17               0.389           42.433               43.3              3.564  \n",
       "18               0.000                0                  0                  0  \n",
       "19               0.000                0                  0                  0  "
      ]
     },
     "execution_count": 20,
     "metadata": {},
     "output_type": "execute_result"
    }
   ],
   "source": [
    "df_obesity_bucket_data = pd.read_csv(os.path.join(path_obesity_buckets_data))\n",
    "df_obesity_poverty_data = pd.merge(df_obesity_bucket_data, df_poverty_bucket_data, how='inner', on='obesity_bucket')\n",
    "df_obesity_poverty_data"
   ]
  },
  {
   "cell_type": "markdown",
   "metadata": {},
   "source": [
    "**Write** obesity vs. poverty buckets data **to file**."
   ]
  },
  {
   "cell_type": "code",
   "execution_count": 21,
   "metadata": {},
   "outputs": [],
   "source": [
    "df_obesity_poverty_data.to_csv(os.path.join(path_obesity_poverty_data), index=False)"
   ]
  },
  {
   "cell_type": "markdown",
   "metadata": {},
   "source": [
    "### Relating Poverty and Obesity Values  \n",
    "Relate the obesity median value of each group to the respective median poverty value. This can show to some extend if obesity and poverty correlate."
   ]
  },
  {
   "cell_type": "code",
   "execution_count": 22,
   "metadata": {},
   "outputs": [
    {
     "data": {
      "text/plain": [
       "<matplotlib.collections.PathCollection at 0x1a175d3b38>"
      ]
     },
     "execution_count": 22,
     "metadata": {},
     "output_type": "execute_result"
    },
    {
     "data": {
      "image/png": "[encoded data removed]",
      "text/plain": [
       "<Figure size 720x720 with 1 Axes>"
      ]
     },
     "metadata": {},
     "output_type": "display_data"
    }
   ],
   "source": [
    "df_plt = df_obesity_poverty_data[['PCT_obesity_median','PCT_poverty_median']]\n",
    "plt.rcParams['figure.figsize'] = [10,10]\n",
    "plt.scatter(df_plt['PCT_obesity_median'].tolist(), df_plt['PCT_poverty_median'].tolist())"
   ]
  },
  {
   "cell_type": "markdown",
   "metadata": {},
   "source": [
    "**Consider** that the different buckets (obesity groups) have vastly different sample sizes with the bulk of the data grouping towards the average. This is expressed in the scatter plot below by varying the plot point sizes."
   ]
  },
  {
   "cell_type": "code",
   "execution_count": 23,
   "metadata": {},
   "outputs": [
    {
     "data": {
      "text/plain": [
       "<seaborn.axisgrid.FacetGrid at 0x1a18123ac8>"
      ]
     },
     "execution_count": 23,
     "metadata": {},
     "output_type": "execute_result"
    },
    {
     "data": {
      "image/png": "[encoded data removed]",
      "text/plain": [
       "<Figure size 720x720 with 1 Axes>"
      ]
     },
     "metadata": {},
     "output_type": "display_data"
    }
   ],
   "source": [
    "sns.set(style='white', font_scale=1.4)\n",
    "sns.relplot(x='PCT_obesity_median', y='PCT_poverty_median', size='n_fips', data=df_obesity_poverty_data,\n",
    "            sizes=(100, 10000), alpha=.5, palette='muted', height=10, legend=False)"
   ]
  },
  {
   "cell_type": "code",
   "execution_count": null,
   "metadata": {},
   "outputs": [],
   "source": []
  }
 ],
 "metadata": {
  "kernelspec": {
   "display_name": "Python 3",
   "language": "python",
   "name": "python3"
  },
  "language_info": {
   "codemirror_mode": {
    "name": "ipython",
    "version": 3
   },
   "file_extension": ".py",
   "mimetype": "text/x-python",
   "name": "python",
   "nbconvert_exporter": "python",
   "pygments_lexer": "ipython3",
   "version": "3.7.0"
  }
 },
 "nbformat": 4,
 "nbformat_minor": 2
}
