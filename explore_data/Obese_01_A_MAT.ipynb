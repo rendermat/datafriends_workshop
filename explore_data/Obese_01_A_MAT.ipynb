{
 "cells": [
  {
   "cell_type": "code",
   "execution_count": 152,
   "metadata": {},
   "outputs": [],
   "source": [
    "import numpy as np\n",
    "import pandas as pd\n",
    "import matplotlib.pyplot as plt\n",
    "import os"
   ]
  },
  {
   "cell_type": "markdown",
   "metadata": {},
   "source": [
    "**File Pathes**"
   ]
  },
  {
   "cell_type": "code",
   "execution_count": 153,
   "metadata": {},
   "outputs": [
    {
     "data": {
      "text/plain": [
       "'/Users/matthiastitze/Uni HTW/DataScience/Repositories/datafriends_workshop/explore_data'"
      ]
     },
     "execution_count": 153,
     "metadata": {},
     "output_type": "execute_result"
    }
   ],
   "source": [
    "pwd"
   ]
  },
  {
   "cell_type": "code",
   "execution_count": 154,
   "metadata": {},
   "outputs": [],
   "source": [
    "# File pathes for quick adjustment if places change.\n",
    "path_input = '00_data_input'\n",
    "path_temp = '01_data_temp'\n",
    "path_inter = '02_data_intermediate'\n",
    "path_output = '03_data_output'\n",
    "filename_atlas = 'food_atlas.xls'\n",
    "path_atlas = os.path.join(path_input, filename_atlas)"
   ]
  },
  {
   "cell_type": "markdown",
   "metadata": {},
   "source": [
    "**Initial Dataframe**"
   ]
  },
  {
   "cell_type": "code",
   "execution_count": 155,
   "metadata": {},
   "outputs": [
    {
     "data": {
      "text/html": [
       "<div>\n",
       "<style scoped>\n",
       "    .dataframe tbody tr th:only-of-type {\n",
       "        vertical-align: middle;\n",
       "    }\n",
       "\n",
       "    .dataframe tbody tr th {\n",
       "        vertical-align: top;\n",
       "    }\n",
       "\n",
       "    .dataframe thead th {\n",
       "        text-align: right;\n",
       "    }\n",
       "</style>\n",
       "<table border=\"1\" class=\"dataframe\">\n",
       "  <thead>\n",
       "    <tr style=\"text-align: right;\">\n",
       "      <th></th>\n",
       "      <th>FIPS</th>\n",
       "      <th>PCT_OBESE_ADULTS08</th>\n",
       "      <th>PCT_OBESE_ADULTS13</th>\n",
       "    </tr>\n",
       "  </thead>\n",
       "  <tbody>\n",
       "    <tr>\n",
       "      <th>0</th>\n",
       "      <td>1001</td>\n",
       "      <td>31.5</td>\n",
       "      <td>34.1</td>\n",
       "    </tr>\n",
       "    <tr>\n",
       "      <th>1</th>\n",
       "      <td>1003</td>\n",
       "      <td>26.2</td>\n",
       "      <td>27.4</td>\n",
       "    </tr>\n",
       "    <tr>\n",
       "      <th>2</th>\n",
       "      <td>1005</td>\n",
       "      <td>37.6</td>\n",
       "      <td>44.4</td>\n",
       "    </tr>\n",
       "    <tr>\n",
       "      <th>3</th>\n",
       "      <td>1007</td>\n",
       "      <td>32.3</td>\n",
       "      <td>40.3</td>\n",
       "    </tr>\n",
       "    <tr>\n",
       "      <th>4</th>\n",
       "      <td>1009</td>\n",
       "      <td>31.9</td>\n",
       "      <td>34.6</td>\n",
       "    </tr>\n",
       "    <tr>\n",
       "      <th>5</th>\n",
       "      <td>1011</td>\n",
       "      <td>37.8</td>\n",
       "      <td>43.0</td>\n",
       "    </tr>\n",
       "  </tbody>\n",
       "</table>\n",
       "</div>"
      ],
      "text/plain": [
       "   FIPS  PCT_OBESE_ADULTS08  PCT_OBESE_ADULTS13\n",
       "0  1001                31.5                34.1\n",
       "1  1003                26.2                27.4\n",
       "2  1005                37.6                44.4\n",
       "3  1007                32.3                40.3\n",
       "4  1009                31.9                34.6\n",
       "5  1011                37.8                43.0"
      ]
     },
     "execution_count": 155,
     "metadata": {},
     "output_type": "execute_result"
    }
   ],
   "source": [
    "df_health = pd.read_excel(path_atlas, sheet_name='HEALTH')\n",
    "df_obese = df_health[['FIPS', 'PCT_OBESE_ADULTS08', 'PCT_OBESE_ADULTS13']].copy()\n",
    "df_obese[:6]"
   ]
  },
  {
   "cell_type": "code",
   "execution_count": 156,
   "metadata": {},
   "outputs": [
    {
     "name": "stdout",
     "output_type": "stream",
     "text": [
      "Number of entries:        3143\n"
     ]
    }
   ],
   "source": [
    "n = len(df_obese.index)\n",
    "print('{:<25} {:d}'.format('Number of entries:', n))"
   ]
  },
  {
   "cell_type": "markdown",
   "metadata": {},
   "source": [
    "**Modified Dataframe**"
   ]
  },
  {
   "cell_type": "code",
   "execution_count": 157,
   "metadata": {},
   "outputs": [
    {
     "data": {
      "text/html": [
       "<div>\n",
       "<style scoped>\n",
       "    .dataframe tbody tr th:only-of-type {\n",
       "        vertical-align: middle;\n",
       "    }\n",
       "\n",
       "    .dataframe tbody tr th {\n",
       "        vertical-align: top;\n",
       "    }\n",
       "\n",
       "    .dataframe thead th {\n",
       "        text-align: right;\n",
       "    }\n",
       "</style>\n",
       "<table border=\"1\" class=\"dataframe\">\n",
       "  <thead>\n",
       "    <tr style=\"text-align: right;\">\n",
       "      <th></th>\n",
       "      <th>county_fips</th>\n",
       "      <th>PCT_obese_adults_2008</th>\n",
       "      <th>PCT_obese_adults_2013</th>\n",
       "      <th>PCT_obese_adults_average</th>\n",
       "      <th>PCT_obese_adults_change</th>\n",
       "    </tr>\n",
       "  </thead>\n",
       "  <tbody>\n",
       "    <tr>\n",
       "      <th>0</th>\n",
       "      <td>1001</td>\n",
       "      <td>31.5</td>\n",
       "      <td>34.1</td>\n",
       "      <td>32.80</td>\n",
       "      <td>2.6</td>\n",
       "    </tr>\n",
       "    <tr>\n",
       "      <th>1</th>\n",
       "      <td>1003</td>\n",
       "      <td>26.2</td>\n",
       "      <td>27.4</td>\n",
       "      <td>26.80</td>\n",
       "      <td>1.2</td>\n",
       "    </tr>\n",
       "    <tr>\n",
       "      <th>2</th>\n",
       "      <td>1005</td>\n",
       "      <td>37.6</td>\n",
       "      <td>44.4</td>\n",
       "      <td>41.00</td>\n",
       "      <td>6.8</td>\n",
       "    </tr>\n",
       "    <tr>\n",
       "      <th>3</th>\n",
       "      <td>1007</td>\n",
       "      <td>32.3</td>\n",
       "      <td>40.3</td>\n",
       "      <td>36.30</td>\n",
       "      <td>8.0</td>\n",
       "    </tr>\n",
       "    <tr>\n",
       "      <th>4</th>\n",
       "      <td>1009</td>\n",
       "      <td>31.9</td>\n",
       "      <td>34.6</td>\n",
       "      <td>33.25</td>\n",
       "      <td>2.7</td>\n",
       "    </tr>\n",
       "    <tr>\n",
       "      <th>5</th>\n",
       "      <td>1011</td>\n",
       "      <td>37.8</td>\n",
       "      <td>43.0</td>\n",
       "      <td>40.40</td>\n",
       "      <td>5.2</td>\n",
       "    </tr>\n",
       "  </tbody>\n",
       "</table>\n",
       "</div>"
      ],
      "text/plain": [
       "   county_fips  PCT_obese_adults_2008  PCT_obese_adults_2013  \\\n",
       "0         1001                   31.5                   34.1   \n",
       "1         1003                   26.2                   27.4   \n",
       "2         1005                   37.6                   44.4   \n",
       "3         1007                   32.3                   40.3   \n",
       "4         1009                   31.9                   34.6   \n",
       "5         1011                   37.8                   43.0   \n",
       "\n",
       "   PCT_obese_adults_average  PCT_obese_adults_change  \n",
       "0                     32.80                      2.6  \n",
       "1                     26.80                      1.2  \n",
       "2                     41.00                      6.8  \n",
       "3                     36.30                      8.0  \n",
       "4                     33.25                      2.7  \n",
       "5                     40.40                      5.2  "
      ]
     },
     "execution_count": 157,
     "metadata": {},
     "output_type": "execute_result"
    }
   ],
   "source": [
    "df_obese.rename(columns={'FIPS':'county_fips','PCT_OBESE_ADULTS08':'PCT_obese_adults_2008', 'PCT_OBESE_ADULTS13':'PCT_obese_adults_2013'}, inplace=True)\n",
    "df_obese['PCT_obese_adults_average'] = (df_obese['PCT_obese_adults_2008'] + df_obese['PCT_obese_adults_2013'])/2\n",
    "df_obese['PCT_obese_adults_change'] = df_obese['PCT_obese_adults_2013']- df_obese['PCT_obese_adults_2008']\n",
    "df_obese[:6]"
   ]
  },
  {
   "cell_type": "code",
   "execution_count": 158,
   "metadata": {},
   "outputs": [
    {
     "data": {
      "text/plain": [
       "<matplotlib.axes._subplots.AxesSubplot at 0x11f96b438>"
      ]
     },
     "execution_count": 158,
     "metadata": {},
     "output_type": "execute_result"
    },
    {
     "data": {
      "image/png": "[encoded data removed]",
      "text/plain": [
       "<Figure size 1440x720 with 1 Axes>"
      ]
     },
     "metadata": {
      "needs_background": "light"
     },
     "output_type": "display_data"
    }
   ],
   "source": [
    "df_obese['PCT_obese_adults_2008'].plot.hist(bins=100, figsize=[20,10], title='Obesity US Adults 2008')"
   ]
  },
  {
   "cell_type": "code",
   "execution_count": 159,
   "metadata": {},
   "outputs": [
    {
     "data": {
      "text/plain": [
       "<matplotlib.axes._subplots.AxesSubplot at 0x120fafb70>"
      ]
     },
     "execution_count": 159,
     "metadata": {},
     "output_type": "execute_result"
    },
    {
     "data": {
      "image/png": "[encoded data removed]",
      "text/plain": [
       "<Figure size 1440x720 with 1 Axes>"
      ]
     },
     "metadata": {
      "needs_background": "light"
     },
     "output_type": "display_data"
    }
   ],
   "source": [
    "df_obese['PCT_obese_adults_2013'].plot.hist(bins=100, figsize=[20,10], title='Obesity US Adults 2013')"
   ]
  },
  {
   "cell_type": "code",
   "execution_count": 160,
   "metadata": {},
   "outputs": [
    {
     "data": {
      "text/plain": [
       "<matplotlib.axes._subplots.AxesSubplot at 0x1213a4668>"
      ]
     },
     "execution_count": 160,
     "metadata": {},
     "output_type": "execute_result"
    },
    {
     "data": {
      "image/png": "[encoded data removed]",
      "text/plain": [
       "<Figure size 1440x720 with 1 Axes>"
      ]
     },
     "metadata": {
      "needs_background": "light"
     },
     "output_type": "display_data"
    }
   ],
   "source": [
    "df_obese['PCT_obese_adults_average'].plot.hist(bins=100, figsize=[20,10], \\\n",
    "                                               facecolor='cornflowerblue', \\\n",
    "                                               title='Obesity US Adults Average 2008  to 2013')"
   ]
  },
  {
   "cell_type": "code",
   "execution_count": 161,
   "metadata": {},
   "outputs": [],
   "source": [
    "series_obese_av = df_obese['PCT_obese_adults_average']\n",
    "mean_obese_av = series_obese_av.mean()\n",
    "median_obese_av = series_obese_av.median()\n",
    "stddev_obese_av = series_obese_av.std()"
   ]
  },
  {
   "cell_type": "code",
   "execution_count": 162,
   "metadata": {},
   "outputs": [
    {
     "name": "stdout",
     "output_type": "stream",
     "text": [
      "Average adult obesity 2008-2013:\n",
      "Mean:           29.974\n",
      "Median:         30.250\n",
      "Deviation:      3.935\n"
     ]
    }
   ],
   "source": [
    "print('Average adult obesity 2008-2013:')\n",
    "print('{:<15} {:.3f}'.format('Mean:', mean_obese_av))\n",
    "print('{:<15} {:.3f}'.format('Median:', median_obese_av))\n",
    "print('{:<15} {:.3f}'.format('Deviation:', stddev_obese_av))"
   ]
  },
  {
   "cell_type": "code",
   "execution_count": 163,
   "metadata": {},
   "outputs": [
    {
     "data": {
      "text/plain": [
       "<matplotlib.axes._subplots.AxesSubplot at 0x121538e48>"
      ]
     },
     "execution_count": 163,
     "metadata": {},
     "output_type": "execute_result"
    },
    {
     "data": {
      "image/png": "[encoded data removed]",
      "text/plain": [
       "<Figure size 1440x720 with 1 Axes>"
      ]
     },
     "metadata": {
      "needs_background": "light"
     },
     "output_type": "display_data"
    }
   ],
   "source": [
    "df_obese['PCT_obese_adults_change'].plot.hist(bins=100, figsize=[20,10], \\\n",
    "                                              facecolor='teal', \\\n",
    "                                              title='Obesity US Adults Change 2008 to 2013')"
   ]
  },
  {
   "cell_type": "code",
   "execution_count": 164,
   "metadata": {},
   "outputs": [],
   "source": [
    "series_obese_change = df_obese['PCT_obese_adults_change']\n",
    "mean_obese_change = series_obese_change.mean()\n",
    "median_obese_change = series_obese_change.median()\n",
    "stddev_obese_change = series_obese_change.std()"
   ]
  },
  {
   "cell_type": "code",
   "execution_count": 165,
   "metadata": {},
   "outputs": [
    {
     "name": "stdout",
     "output_type": "stream",
     "text": [
      "Change of adult obesity from 2008 to 2013:\n",
      "Mean:           2.086\n",
      "Median:         2.000\n",
      "Deviation:      2.566\n"
     ]
    }
   ],
   "source": [
    "print('Change of adult obesity from 2008 to 2013:')\n",
    "print('{:<15} {:.3f}'.format('Mean:', mean_obese_change))\n",
    "print('{:<15} {:.3f}'.format('Median:', median_obese_change))\n",
    "print('{:<15} {:.3f}'.format('Deviation:', stddev_obese_change))"
   ]
  },
  {
   "cell_type": "markdown",
   "metadata": {},
   "source": [
    "### Putting Counties into Obesity Groups\n",
    "We want to throw all counties with a similiar obesity value into one group(e.g. all counties with obesity 22-24%).  \n",
    "This is the analytic expansion of the obesity historgrams which do not yet carry the associated county information.  \n",
    "Considering the deviation of the change in obesity from 2008 to 2013 (fluctuation of the data over the years) buckets of range 2% seem adequate.  \n",
    "This means we form groups starting at 10% ... 12%-14%, 14%-26% ... up to 50%. Each county will land in one of these groups."
   ]
  },
  {
   "cell_type": "code",
   "execution_count": 166,
   "metadata": {},
   "outputs": [
    {
     "data": {
      "text/plain": [
       "<matplotlib.axes._subplots.AxesSubplot at 0x1216b9cf8>"
      ]
     },
     "execution_count": 166,
     "metadata": {},
     "output_type": "execute_result"
    },
    {
     "data": {
      "image/png": "[encoded data removed]",
      "text/plain": [
       "<Figure size 1440x720 with 1 Axes>"
      ]
     },
     "metadata": {
      "needs_background": "light"
     },
     "output_type": "display_data"
    }
   ],
   "source": [
    "df_obese['PCT_obese_adults_average'].plot.hist(bins=50, figsize=[20,10], facecolor='cornflowerblue')"
   ]
  },
  {
   "cell_type": "code",
   "execution_count": 167,
   "metadata": {},
   "outputs": [
    {
     "data": {
      "text/html": [
       "<div>\n",
       "<style scoped>\n",
       "    .dataframe tbody tr th:only-of-type {\n",
       "        vertical-align: middle;\n",
       "    }\n",
       "\n",
       "    .dataframe tbody tr th {\n",
       "        vertical-align: top;\n",
       "    }\n",
       "\n",
       "    .dataframe thead th {\n",
       "        text-align: right;\n",
       "    }\n",
       "</style>\n",
       "<table border=\"1\" class=\"dataframe\">\n",
       "  <thead>\n",
       "    <tr style=\"text-align: right;\">\n",
       "      <th></th>\n",
       "      <th>county_fips</th>\n",
       "      <th>PCT_obese_adults_2008</th>\n",
       "      <th>PCT_obese_adults_2013</th>\n",
       "      <th>PCT_obese_adults_average</th>\n",
       "      <th>PCT_obese_adults_change</th>\n",
       "    </tr>\n",
       "  </thead>\n",
       "  <tbody>\n",
       "    <tr>\n",
       "      <th>250</th>\n",
       "      <td>8013</td>\n",
       "      <td>13.2</td>\n",
       "      <td>13.4</td>\n",
       "      <td>13.30</td>\n",
       "      <td>0.2</td>\n",
       "    </tr>\n",
       "    <tr>\n",
       "      <th>263</th>\n",
       "      <td>8037</td>\n",
       "      <td>12.9</td>\n",
       "      <td>11.8</td>\n",
       "      <td>12.35</td>\n",
       "      <td>-1.1</td>\n",
       "    </tr>\n",
       "    <tr>\n",
       "      <th>298</th>\n",
       "      <td>8107</td>\n",
       "      <td>11.7</td>\n",
       "      <td>14.3</td>\n",
       "      <td>13.00</td>\n",
       "      <td>2.6</td>\n",
       "    </tr>\n",
       "    <tr>\n",
       "      <th>303</th>\n",
       "      <td>8117</td>\n",
       "      <td>13.0</td>\n",
       "      <td>13.1</td>\n",
       "      <td>13.05</td>\n",
       "      <td>0.1</td>\n",
       "    </tr>\n",
       "    <tr>\n",
       "      <th>1821</th>\n",
       "      <td>35049</td>\n",
       "      <td>12.9</td>\n",
       "      <td>13.7</td>\n",
       "      <td>13.30</td>\n",
       "      <td>0.8</td>\n",
       "    </tr>\n",
       "    <tr>\n",
       "      <th>3139</th>\n",
       "      <td>56039</td>\n",
       "      <td>13.2</td>\n",
       "      <td>12.7</td>\n",
       "      <td>12.95</td>\n",
       "      <td>-0.5</td>\n",
       "    </tr>\n",
       "  </tbody>\n",
       "</table>\n",
       "</div>"
      ],
      "text/plain": [
       "      county_fips  PCT_obese_adults_2008  PCT_obese_adults_2013  \\\n",
       "250          8013                   13.2                   13.4   \n",
       "263          8037                   12.9                   11.8   \n",
       "298          8107                   11.7                   14.3   \n",
       "303          8117                   13.0                   13.1   \n",
       "1821        35049                   12.9                   13.7   \n",
       "3139        56039                   13.2                   12.7   \n",
       "\n",
       "      PCT_obese_adults_average  PCT_obese_adults_change  \n",
       "250                      13.30                      0.2  \n",
       "263                      12.35                     -1.1  \n",
       "298                      13.00                      2.6  \n",
       "303                      13.05                      0.1  \n",
       "1821                     13.30                      0.8  \n",
       "3139                     12.95                     -0.5  "
      ]
     },
     "execution_count": 167,
     "metadata": {},
     "output_type": "execute_result"
    }
   ],
   "source": [
    "# Test example of group (bucket) 12-14% adult obeseity rate.\n",
    "df_obese[(df_obese['PCT_obese_adults_average'] >= 12) & (df_obese['PCT_obese_adults_average'] < 14)]"
   ]
  },
  {
   "cell_type": "markdown",
   "metadata": {},
   "source": [
    "**Create** obesity group buckets."
   ]
  },
  {
   "cell_type": "code",
   "execution_count": 168,
   "metadata": {
    "scrolled": false
   },
   "outputs": [
    {
     "name": "stdout",
     "output_type": "stream",
     "text": [
      "Bucket examples (Just a sample for debugging - there are way more fips in each bucket!):\n",
      "%[10-12[ : []\n",
      "%[12-14[ : [8013, 8037, 8107, 8117, 35049, 56039]\n",
      "%[14-16[ : [8051, 8067, 8097, 36061, 49043]\n",
      "%[16-18[ : [6041, 6075, 8007, 8015, 8031, 8035, 8045, 8049, 8065, 8069]\n"
     ]
    }
   ],
   "source": [
    "# Values defining the obesity ranges thrown into each bucket.\n",
    "fips_buckets = []\n",
    "lower_limit = 10\n",
    "upper_limit = 50\n",
    "step = 2\n",
    "bucket_start = lower_limit\n",
    "bucket_end = bucket_start + step\n",
    "\n",
    "for i in range(lower_limit, upper_limit, step):\n",
    "    # Get a sub-dataframe with all the counties whose obesity rates fit into the bucket range.\n",
    "    df_bucket = df_obese[ \\\n",
    "        (df_obese['PCT_obese_adults_average'] >= bucket_start) & (df_obese['PCT_obese_adults_average'] < bucket_end)]\n",
    "    # Convert the county fips code column of this sub-dataframe into a list.\n",
    "    bucket_fips_list = df_bucket['county_fips'].tolist()\n",
    "    # Create a label describing the obesity rate range of the bucket.\n",
    "    bucket_description = '%[{}-{}['.format(bucket_start, bucket_end)\n",
    "    # Package all bucket information into a tupel which we then add to our list of fips-code buckets.\n",
    "    fips_buckets.append((bucket_description, bucket_fips_list))\n",
    "    # Move on to the next bucket bz adjusting the obesity range values.\n",
    "    bucket_start = bucket_end\n",
    "    bucket_end = bucket_end + step\n",
    "\n",
    "# Just have a quick look at the format and content of the resulting buckets (easier debugging).\n",
    "print('Bucket examples (Just a sample for debugging - there are way more fips in each bucket!):')\n",
    "print('{} : {}'.format(fips_buckets[0][0], fips_buckets[0][1][:10]))\n",
    "print('{} : {}'.format(fips_buckets[1][0], fips_buckets[1][1][:10]))\n",
    "print('{} : {}'.format(fips_buckets[2][0], fips_buckets[2][1][:10]))\n",
    "print('{} : {}'.format(fips_buckets[3][0], fips_buckets[3][1][:10]))"
   ]
  },
  {
   "cell_type": "markdown",
   "metadata": {},
   "source": [
    "**Write** obesity group buckets **to file** for later use in other case."
   ]
  },
  {
   "cell_type": "code",
   "execution_count": 169,
   "metadata": {},
   "outputs": [
    {
     "name": "stdout",
     "output_type": "stream",
     "text": [
      "OK: File saved: 02_data_intermediate/obesity_buckets_fips.csv\n"
     ]
    }
   ],
   "source": [
    "path_fips_obesity_buckets = os.path.join(path_inter, 'obesity_buckets_fips.csv')\n",
    "with open(path_fips_obesity_buckets, \"w\") as f:\n",
    "    f.write('bucket_index; bucket_range; bucket_size; county_fips\\n')\n",
    "    for i in range(len(fips_buckets)):\n",
    "        f.write('{};{};{};{}\\n'.format(i, fips_buckets[i][0], len(fips_buckets[i][1]), fips_buckets[i][1]))\n",
    "    print('OK: File saved: {}'.format(path_fips_obesity_buckets))"
   ]
  },
  {
   "cell_type": "markdown",
   "metadata": {},
   "source": [
    "### Analysing County Obesity Groups\n",
    "We want to calculate some additional data to have a closer lock at each obesity group we formed earlier.  \n",
    "Therefore we create a new dataframe with mean, meadian and standard deviation values for the obesity rates of each group (bucket)."
   ]
  },
  {
   "cell_type": "code",
   "execution_count": 170,
   "metadata": {},
   "outputs": [],
   "source": [
    "def get_obesity_values_for_fips_list(fips_list, column='PCT_obese_adults_average'):\n",
    "    '''Gets a list of obesity values - one value for each code in the fips list.'''\n",
    "    values_list = []\n",
    "    \n",
    "    for fips in fips_list:\n",
    "        # Get the obesity value sub-dataframe for the county fips.\n",
    "        df_obesity_value = df_obese[df_obese['county_fips']==fips][column]\n",
    "        # Extract the obesity value we need and add to list.\n",
    "        obesity_value = df_obesity_value.iloc[0]\n",
    "        values_list.append(obesity_value)\n",
    "        \n",
    "    return values_list"
   ]
  },
  {
   "cell_type": "code",
   "execution_count": 219,
   "metadata": {},
   "outputs": [
    {
     "data": {
      "text/html": [
       "<div>\n",
       "<style scoped>\n",
       "    .dataframe tbody tr th:only-of-type {\n",
       "        vertical-align: middle;\n",
       "    }\n",
       "\n",
       "    .dataframe tbody tr th {\n",
       "        vertical-align: top;\n",
       "    }\n",
       "\n",
       "    .dataframe thead th {\n",
       "        text-align: right;\n",
       "    }\n",
       "</style>\n",
       "<table border=\"1\" class=\"dataframe\">\n",
       "  <thead>\n",
       "    <tr style=\"text-align: right;\">\n",
       "      <th></th>\n",
       "      <th>obesity_bucket</th>\n",
       "      <th>n_fips</th>\n",
       "      <th>PCT_obesity_mean</th>\n",
       "      <th>PCT_obesity_median</th>\n",
       "      <th>PCT_obesity_stddev</th>\n",
       "    </tr>\n",
       "  </thead>\n",
       "  <tbody>\n",
       "    <tr>\n",
       "      <th>0</th>\n",
       "      <td>%[10-12[</td>\n",
       "      <td>0</td>\n",
       "      <td>0</td>\n",
       "      <td>0</td>\n",
       "      <td>0</td>\n",
       "    </tr>\n",
       "    <tr>\n",
       "      <th>1</th>\n",
       "      <td>%[12-14[</td>\n",
       "      <td>6</td>\n",
       "      <td>12.992</td>\n",
       "      <td>13.025</td>\n",
       "      <td>0.318</td>\n",
       "    </tr>\n",
       "    <tr>\n",
       "      <th>2</th>\n",
       "      <td>%[14-16[</td>\n",
       "      <td>5</td>\n",
       "      <td>14.8</td>\n",
       "      <td>14.85</td>\n",
       "      <td>0.507</td>\n",
       "    </tr>\n",
       "    <tr>\n",
       "      <th>3</th>\n",
       "      <td>%[16-18[</td>\n",
       "      <td>14</td>\n",
       "      <td>16.979</td>\n",
       "      <td>17.025</td>\n",
       "      <td>0.645</td>\n",
       "    </tr>\n",
       "    <tr>\n",
       "      <th>4</th>\n",
       "      <td>%[18-20[</td>\n",
       "      <td>35</td>\n",
       "      <td>19.249</td>\n",
       "      <td>19.5</td>\n",
       "      <td>0.568</td>\n",
       "    </tr>\n",
       "    <tr>\n",
       "      <th>5</th>\n",
       "      <td>%[20-22[</td>\n",
       "      <td>63</td>\n",
       "      <td>21.117</td>\n",
       "      <td>21.2</td>\n",
       "      <td>0.559</td>\n",
       "    </tr>\n",
       "    <tr>\n",
       "      <th>6</th>\n",
       "      <td>%[22-24[</td>\n",
       "      <td>90</td>\n",
       "      <td>22.988</td>\n",
       "      <td>23.05</td>\n",
       "      <td>0.582</td>\n",
       "    </tr>\n",
       "    <tr>\n",
       "      <th>7</th>\n",
       "      <td>%[24-26[</td>\n",
       "      <td>160</td>\n",
       "      <td>25.077</td>\n",
       "      <td>25.15</td>\n",
       "      <td>0.6</td>\n",
       "    </tr>\n",
       "    <tr>\n",
       "      <th>8</th>\n",
       "      <td>%[26-28[</td>\n",
       "      <td>444</td>\n",
       "      <td>27.129</td>\n",
       "      <td>27.2</td>\n",
       "      <td>0.552</td>\n",
       "    </tr>\n",
       "    <tr>\n",
       "      <th>9</th>\n",
       "      <td>%[28-30[</td>\n",
       "      <td>653</td>\n",
       "      <td>29.051</td>\n",
       "      <td>29.1</td>\n",
       "      <td>0.569</td>\n",
       "    </tr>\n",
       "    <tr>\n",
       "      <th>10</th>\n",
       "      <td>%[30-32[</td>\n",
       "      <td>770</td>\n",
       "      <td>30.956</td>\n",
       "      <td>30.95</td>\n",
       "      <td>0.575</td>\n",
       "    </tr>\n",
       "    <tr>\n",
       "      <th>11</th>\n",
       "      <td>%[32-34[</td>\n",
       "      <td>537</td>\n",
       "      <td>32.865</td>\n",
       "      <td>32.85</td>\n",
       "      <td>0.536</td>\n",
       "    </tr>\n",
       "    <tr>\n",
       "      <th>12</th>\n",
       "      <td>%[34-36[</td>\n",
       "      <td>197</td>\n",
       "      <td>34.763</td>\n",
       "      <td>34.65</td>\n",
       "      <td>0.569</td>\n",
       "    </tr>\n",
       "    <tr>\n",
       "      <th>13</th>\n",
       "      <td>%[36-38[</td>\n",
       "      <td>102</td>\n",
       "      <td>36.884</td>\n",
       "      <td>36.75</td>\n",
       "      <td>0.617</td>\n",
       "    </tr>\n",
       "    <tr>\n",
       "      <th>14</th>\n",
       "      <td>%[38-40[</td>\n",
       "      <td>36</td>\n",
       "      <td>38.847</td>\n",
       "      <td>38.9</td>\n",
       "      <td>0.553</td>\n",
       "    </tr>\n",
       "    <tr>\n",
       "      <th>15</th>\n",
       "      <td>%[40-42[</td>\n",
       "      <td>17</td>\n",
       "      <td>40.979</td>\n",
       "      <td>40.85</td>\n",
       "      <td>0.596</td>\n",
       "    </tr>\n",
       "    <tr>\n",
       "      <th>16</th>\n",
       "      <td>%[42-44[</td>\n",
       "      <td>5</td>\n",
       "      <td>42.8</td>\n",
       "      <td>42.85</td>\n",
       "      <td>0.257</td>\n",
       "    </tr>\n",
       "    <tr>\n",
       "      <th>17</th>\n",
       "      <td>%[44-46[</td>\n",
       "      <td>3</td>\n",
       "      <td>44.45</td>\n",
       "      <td>44.2</td>\n",
       "      <td>0.389</td>\n",
       "    </tr>\n",
       "    <tr>\n",
       "      <th>18</th>\n",
       "      <td>%[46-48[</td>\n",
       "      <td>0</td>\n",
       "      <td>0</td>\n",
       "      <td>0</td>\n",
       "      <td>0</td>\n",
       "    </tr>\n",
       "    <tr>\n",
       "      <th>19</th>\n",
       "      <td>%[48-50[</td>\n",
       "      <td>0</td>\n",
       "      <td>0</td>\n",
       "      <td>0</td>\n",
       "      <td>0</td>\n",
       "    </tr>\n",
       "  </tbody>\n",
       "</table>\n",
       "</div>"
      ],
      "text/plain": [
       "   obesity_bucket n_fips PCT_obesity_mean PCT_obesity_median  \\\n",
       "0        %[10-12[      0                0                  0   \n",
       "1        %[12-14[      6           12.992             13.025   \n",
       "2        %[14-16[      5             14.8              14.85   \n",
       "3        %[16-18[     14           16.979             17.025   \n",
       "4        %[18-20[     35           19.249               19.5   \n",
       "5        %[20-22[     63           21.117               21.2   \n",
       "6        %[22-24[     90           22.988              23.05   \n",
       "7        %[24-26[    160           25.077              25.15   \n",
       "8        %[26-28[    444           27.129               27.2   \n",
       "9        %[28-30[    653           29.051               29.1   \n",
       "10       %[30-32[    770           30.956              30.95   \n",
       "11       %[32-34[    537           32.865              32.85   \n",
       "12       %[34-36[    197           34.763              34.65   \n",
       "13       %[36-38[    102           36.884              36.75   \n",
       "14       %[38-40[     36           38.847               38.9   \n",
       "15       %[40-42[     17           40.979              40.85   \n",
       "16       %[42-44[      5             42.8              42.85   \n",
       "17       %[44-46[      3            44.45               44.2   \n",
       "18       %[46-48[      0                0                  0   \n",
       "19       %[48-50[      0                0                  0   \n",
       "\n",
       "   PCT_obesity_stddev  \n",
       "0                   0  \n",
       "1               0.318  \n",
       "2               0.507  \n",
       "3               0.645  \n",
       "4               0.568  \n",
       "5               0.559  \n",
       "6               0.582  \n",
       "7                 0.6  \n",
       "8               0.552  \n",
       "9               0.569  \n",
       "10              0.575  \n",
       "11              0.536  \n",
       "12              0.569  \n",
       "13              0.617  \n",
       "14              0.553  \n",
       "15              0.596  \n",
       "16              0.257  \n",
       "17              0.389  \n",
       "18                  0  \n",
       "19                  0  "
      ]
     },
     "execution_count": 219,
     "metadata": {},
     "output_type": "execute_result"
    }
   ],
   "source": [
    "# Set up the layout of the new dataframe.\n",
    "columns = ['obesity_bucket','n_fips','PCT_obesity_mean','PCT_obesity_median','PCT_obesity_stddev']\n",
    "df_obesity_groups = pd.DataFrame([],columns=columns)\n",
    "precision = 3\n",
    "\n",
    "# Now analyse each obesity group.   \n",
    "for i in range(len(fips_buckets)):\n",
    "    # Remenber, the fips (county) buckets group together counties whith a similiar obesity rate.\n",
    "    bucket_range = fips_buckets[i][0]\n",
    "    fips_list = fips_buckets[i][1]\n",
    "    n_fips = len(fips_list)\n",
    "    \n",
    "    # Calculate some standard statistical values for each obesity bucket.\n",
    "    obesity_mean = 0\n",
    "    obesity_median = 0\n",
    "    obesity_stddev = 0\n",
    "    if (n_fips != 0):\n",
    "        obesity_values = get_obesity_values_for_fips_list(fips_list)\n",
    "        obesity_mean = round(np.nanmean(obesity_values), precision)\n",
    "        obesity_median = round(np.nanmedian(obesity_values), precision)\n",
    "        obesity_stddev = round(np.nanstd(obesity_values), precision)\n",
    "\n",
    "    # Add a data row for the fips bucket to the new dataframe.\n",
    "    row = {'obesity_bucket':bucket_range,'n_fips':n_fips, \\\n",
    "           'PCT_obesity_mean':obesity_mean,'PCT_obesity_median':obesity_median,'PCT_obesity_stddev':obesity_stddev}\n",
    "    df_obesity_groups = df_obesity_groups.append(row, ignore_index=True)\n",
    "    \n",
    "df_obesity_groups"
   ]
  },
  {
   "cell_type": "markdown",
   "metadata": {},
   "source": [
    "**Poverty Dataframe**"
   ]
  },
  {
   "cell_type": "code",
   "execution_count": 180,
   "metadata": {},
   "outputs": [
    {
     "data": {
      "text/html": [
       "<div>\n",
       "<style scoped>\n",
       "    .dataframe tbody tr th:only-of-type {\n",
       "        vertical-align: middle;\n",
       "    }\n",
       "\n",
       "    .dataframe tbody tr th {\n",
       "        vertical-align: top;\n",
       "    }\n",
       "\n",
       "    .dataframe thead th {\n",
       "        text-align: right;\n",
       "    }\n",
       "</style>\n",
       "<table border=\"1\" class=\"dataframe\">\n",
       "  <thead>\n",
       "    <tr style=\"text-align: right;\">\n",
       "      <th></th>\n",
       "      <th>county_fips</th>\n",
       "      <th>PCT_poverty_rate_2015</th>\n",
       "      <th>PCT_poverty_rate_2015_children</th>\n",
       "    </tr>\n",
       "  </thead>\n",
       "  <tbody>\n",
       "    <tr>\n",
       "      <th>0</th>\n",
       "      <td>1001</td>\n",
       "      <td>12.7</td>\n",
       "      <td>18.8</td>\n",
       "    </tr>\n",
       "    <tr>\n",
       "      <th>1</th>\n",
       "      <td>1003</td>\n",
       "      <td>12.9</td>\n",
       "      <td>19.6</td>\n",
       "    </tr>\n",
       "    <tr>\n",
       "      <th>2</th>\n",
       "      <td>1005</td>\n",
       "      <td>32.0</td>\n",
       "      <td>45.2</td>\n",
       "    </tr>\n",
       "    <tr>\n",
       "      <th>3</th>\n",
       "      <td>1007</td>\n",
       "      <td>22.2</td>\n",
       "      <td>29.3</td>\n",
       "    </tr>\n",
       "    <tr>\n",
       "      <th>4</th>\n",
       "      <td>1009</td>\n",
       "      <td>14.7</td>\n",
       "      <td>22.2</td>\n",
       "    </tr>\n",
       "    <tr>\n",
       "      <th>5</th>\n",
       "      <td>1011</td>\n",
       "      <td>39.6</td>\n",
       "      <td>51.2</td>\n",
       "    </tr>\n",
       "  </tbody>\n",
       "</table>\n",
       "</div>"
      ],
      "text/plain": [
       "   county_fips  PCT_poverty_rate_2015  PCT_poverty_rate_2015_children\n",
       "0         1001                   12.7                            18.8\n",
       "1         1003                   12.9                            19.6\n",
       "2         1005                   32.0                            45.2\n",
       "3         1007                   22.2                            29.3\n",
       "4         1009                   14.7                            22.2\n",
       "5         1011                   39.6                            51.2"
      ]
     },
     "execution_count": 180,
     "metadata": {},
     "output_type": "execute_result"
    }
   ],
   "source": [
    "df_social = pd.read_excel(path_atlas, sheet_name='SOCIOECONOMIC')\n",
    "df_poverty = df_social[['FIPS', 'POVRATE15', 'CHILDPOVRATE15']].copy()\n",
    "df_poverty.rename(columns={'FIPS':'county_fips','POVRATE15':'PCT_poverty_rate_2015', \\\n",
    "                        'CHILDPOVRATE15':'PCT_poverty_rate_2015_children'}, inplace=True)\n",
    "df_poverty[:6]"
   ]
  },
  {
   "cell_type": "code",
   "execution_count": 245,
   "metadata": {},
   "outputs": [
    {
     "data": {
      "text/plain": [
       "<matplotlib.axes._subplots.AxesSubplot at 0x11c7a7f28>"
      ]
     },
     "execution_count": 245,
     "metadata": {},
     "output_type": "execute_result"
    },
    {
     "data": {
      "image/png": "[encoded data removed]",
      "text/plain": [
       "<Figure size 1440x720 with 1 Axes>"
      ]
     },
     "metadata": {
      "needs_background": "light"
     },
     "output_type": "display_data"
    }
   ],
   "source": [
    "df_poverty['PCT_poverty_rate_2015'].plot.hist(bins=50, figsize=[20,10], title='US Poverty Rates 2015')"
   ]
  },
  {
   "cell_type": "code",
   "execution_count": 175,
   "metadata": {},
   "outputs": [],
   "source": [
    "def get_poverty_values_for_fips_list(fips_list, column='PCT_poverty_rate_2015'):\n",
    "    '''Gets a list of poverty values - one value for each code in the fips list.'''\n",
    "    values_list = []\n",
    "    \n",
    "    for fips in fips_list:\n",
    "        # Get the poverty value sub-dataframe for the county fips.\n",
    "        df_poverty_value = df_poverty[df_poverty['county_fips']==fips][column]\n",
    "        # Extract the poverty value we need and add to list.\n",
    "        poverty_value = df_poverty_value.iloc[0]\n",
    "        values_list.append(poverty_value)\n",
    "        \n",
    "    return values_list"
   ]
  },
  {
   "cell_type": "code",
   "execution_count": 229,
   "metadata": {},
   "outputs": [],
   "source": [
    "# Set up the layout of the new dataframe.\n",
    "columns = ['obesity_bucket','PCT_poverty_mean','PCT_poverty_median','PCT_poverty_stddev']\n",
    "df_poverty_groups = pd.DataFrame([],columns=columns)\n",
    "precision = 3\n",
    "\n",
    "# Now analyse each obesity group's poverty values  \n",
    "for i in range(len(fips_buckets)):\n",
    "    # Remenber, the fips (county) buckets group together counties whith a similiar obesity rate.\n",
    "    bucket_range = fips_buckets[i][0]\n",
    "    fips_list = fips_buckets[i][1]\n",
    "    n_fips = len(fips_list)\n",
    "    \n",
    "    # Calculate some standard statistical values for each obesity bucket.\n",
    "    poverty_mean = 0\n",
    "    poverty_median = 0\n",
    "    poverty_stddev = 0\n",
    "    if (n_fips != 0):\n",
    "        poverty_values = get_poverty_values_for_fips_list(fips_list)\n",
    "        poverty_mean = round(np.nanmean(poverty_values), precision)\n",
    "        poverty_median = round(np.nanmedian(poverty_values), precision)\n",
    "        poverty_stddev = round(np.nanstd(poverty_values), precision)\n",
    "\n",
    "    # Add a data row for the fips bucket to the new dataframe.\n",
    "    row = {'obesity_bucket':bucket_range, \\\n",
    "           'PCT_poverty_mean':poverty_mean,'PCT_poverty_median':poverty_median,'PCT_poverty_stddev':poverty_stddev}\n",
    "    df_poverty_groups = df_poverty_groups.append(row, ignore_index=True)"
   ]
  },
  {
   "cell_type": "code",
   "execution_count": 230,
   "metadata": {},
   "outputs": [
    {
     "data": {
      "text/html": [
       "<div>\n",
       "<style scoped>\n",
       "    .dataframe tbody tr th:only-of-type {\n",
       "        vertical-align: middle;\n",
       "    }\n",
       "\n",
       "    .dataframe tbody tr th {\n",
       "        vertical-align: top;\n",
       "    }\n",
       "\n",
       "    .dataframe thead th {\n",
       "        text-align: right;\n",
       "    }\n",
       "</style>\n",
       "<table border=\"1\" class=\"dataframe\">\n",
       "  <thead>\n",
       "    <tr style=\"text-align: right;\">\n",
       "      <th></th>\n",
       "      <th>obesity_bucket</th>\n",
       "      <th>n_fips</th>\n",
       "      <th>PCT_obesity_mean</th>\n",
       "      <th>PCT_obesity_median</th>\n",
       "      <th>PCT_obesity_stddev</th>\n",
       "      <th>PCT_poverty_mean</th>\n",
       "      <th>PCT_poverty_median</th>\n",
       "      <th>PCT_poverty_stddev</th>\n",
       "    </tr>\n",
       "  </thead>\n",
       "  <tbody>\n",
       "    <tr>\n",
       "      <th>0</th>\n",
       "      <td>%[10-12[</td>\n",
       "      <td>0</td>\n",
       "      <td>0</td>\n",
       "      <td>0</td>\n",
       "      <td>0</td>\n",
       "      <td>0</td>\n",
       "      <td>0</td>\n",
       "      <td>0</td>\n",
       "    </tr>\n",
       "    <tr>\n",
       "      <th>1</th>\n",
       "      <td>%[12-14[</td>\n",
       "      <td>6</td>\n",
       "      <td>12.992</td>\n",
       "      <td>13.025</td>\n",
       "      <td>0.318</td>\n",
       "      <td>9.533</td>\n",
       "      <td>8.8</td>\n",
       "      <td>2.374</td>\n",
       "    </tr>\n",
       "    <tr>\n",
       "      <th>2</th>\n",
       "      <td>%[14-16[</td>\n",
       "      <td>5</td>\n",
       "      <td>14.8</td>\n",
       "      <td>14.85</td>\n",
       "      <td>0.507</td>\n",
       "      <td>10.54</td>\n",
       "      <td>9.4</td>\n",
       "      <td>4.156</td>\n",
       "    </tr>\n",
       "    <tr>\n",
       "      <th>3</th>\n",
       "      <td>%[16-18[</td>\n",
       "      <td>14</td>\n",
       "      <td>16.979</td>\n",
       "      <td>17.025</td>\n",
       "      <td>0.645</td>\n",
       "      <td>11.5</td>\n",
       "      <td>11.35</td>\n",
       "      <td>3.877</td>\n",
       "    </tr>\n",
       "    <tr>\n",
       "      <th>4</th>\n",
       "      <td>%[18-20[</td>\n",
       "      <td>35</td>\n",
       "      <td>19.249</td>\n",
       "      <td>19.5</td>\n",
       "      <td>0.568</td>\n",
       "      <td>11.674</td>\n",
       "      <td>10.1</td>\n",
       "      <td>4.77</td>\n",
       "    </tr>\n",
       "    <tr>\n",
       "      <th>5</th>\n",
       "      <td>%[20-22[</td>\n",
       "      <td>63</td>\n",
       "      <td>21.117</td>\n",
       "      <td>21.2</td>\n",
       "      <td>0.559</td>\n",
       "      <td>14.213</td>\n",
       "      <td>12.9</td>\n",
       "      <td>6.878</td>\n",
       "    </tr>\n",
       "    <tr>\n",
       "      <th>6</th>\n",
       "      <td>%[22-24[</td>\n",
       "      <td>90</td>\n",
       "      <td>22.988</td>\n",
       "      <td>23.05</td>\n",
       "      <td>0.582</td>\n",
       "      <td>13.356</td>\n",
       "      <td>13</td>\n",
       "      <td>5.367</td>\n",
       "    </tr>\n",
       "    <tr>\n",
       "      <th>7</th>\n",
       "      <td>%[24-26[</td>\n",
       "      <td>160</td>\n",
       "      <td>25.077</td>\n",
       "      <td>25.15</td>\n",
       "      <td>0.6</td>\n",
       "      <td>14.311</td>\n",
       "      <td>13.55</td>\n",
       "      <td>5.46</td>\n",
       "    </tr>\n",
       "    <tr>\n",
       "      <th>8</th>\n",
       "      <td>%[26-28[</td>\n",
       "      <td>444</td>\n",
       "      <td>27.129</td>\n",
       "      <td>27.2</td>\n",
       "      <td>0.552</td>\n",
       "      <td>14.291</td>\n",
       "      <td>13.65</td>\n",
       "      <td>5.205</td>\n",
       "    </tr>\n",
       "    <tr>\n",
       "      <th>9</th>\n",
       "      <td>%[28-30[</td>\n",
       "      <td>653</td>\n",
       "      <td>29.051</td>\n",
       "      <td>29.1</td>\n",
       "      <td>0.569</td>\n",
       "      <td>13.97</td>\n",
       "      <td>13.3</td>\n",
       "      <td>4.688</td>\n",
       "    </tr>\n",
       "    <tr>\n",
       "      <th>10</th>\n",
       "      <td>%[30-32[</td>\n",
       "      <td>770</td>\n",
       "      <td>30.956</td>\n",
       "      <td>30.95</td>\n",
       "      <td>0.575</td>\n",
       "      <td>15.585</td>\n",
       "      <td>14.5</td>\n",
       "      <td>5.444</td>\n",
       "    </tr>\n",
       "    <tr>\n",
       "      <th>11</th>\n",
       "      <td>%[32-34[</td>\n",
       "      <td>537</td>\n",
       "      <td>32.865</td>\n",
       "      <td>32.85</td>\n",
       "      <td>0.536</td>\n",
       "      <td>18.167</td>\n",
       "      <td>17.95</td>\n",
       "      <td>5.567</td>\n",
       "    </tr>\n",
       "    <tr>\n",
       "      <th>12</th>\n",
       "      <td>%[34-36[</td>\n",
       "      <td>197</td>\n",
       "      <td>34.763</td>\n",
       "      <td>34.65</td>\n",
       "      <td>0.569</td>\n",
       "      <td>21.713</td>\n",
       "      <td>21.3</td>\n",
       "      <td>6.076</td>\n",
       "    </tr>\n",
       "    <tr>\n",
       "      <th>13</th>\n",
       "      <td>%[36-38[</td>\n",
       "      <td>102</td>\n",
       "      <td>36.884</td>\n",
       "      <td>36.75</td>\n",
       "      <td>0.617</td>\n",
       "      <td>24.932</td>\n",
       "      <td>24.2</td>\n",
       "      <td>6.098</td>\n",
       "    </tr>\n",
       "    <tr>\n",
       "      <th>14</th>\n",
       "      <td>%[38-40[</td>\n",
       "      <td>36</td>\n",
       "      <td>38.847</td>\n",
       "      <td>38.9</td>\n",
       "      <td>0.553</td>\n",
       "      <td>29.108</td>\n",
       "      <td>27.7</td>\n",
       "      <td>7.046</td>\n",
       "    </tr>\n",
       "    <tr>\n",
       "      <th>15</th>\n",
       "      <td>%[40-42[</td>\n",
       "      <td>17</td>\n",
       "      <td>40.979</td>\n",
       "      <td>40.85</td>\n",
       "      <td>0.596</td>\n",
       "      <td>34.881</td>\n",
       "      <td>35.7</td>\n",
       "      <td>5.235</td>\n",
       "    </tr>\n",
       "    <tr>\n",
       "      <th>16</th>\n",
       "      <td>%[42-44[</td>\n",
       "      <td>5</td>\n",
       "      <td>42.8</td>\n",
       "      <td>42.85</td>\n",
       "      <td>0.257</td>\n",
       "      <td>34.98</td>\n",
       "      <td>35</td>\n",
       "      <td>2.433</td>\n",
       "    </tr>\n",
       "    <tr>\n",
       "      <th>17</th>\n",
       "      <td>%[44-46[</td>\n",
       "      <td>3</td>\n",
       "      <td>44.45</td>\n",
       "      <td>44.2</td>\n",
       "      <td>0.389</td>\n",
       "      <td>42.433</td>\n",
       "      <td>43.3</td>\n",
       "      <td>3.564</td>\n",
       "    </tr>\n",
       "    <tr>\n",
       "      <th>18</th>\n",
       "      <td>%[46-48[</td>\n",
       "      <td>0</td>\n",
       "      <td>0</td>\n",
       "      <td>0</td>\n",
       "      <td>0</td>\n",
       "      <td>0</td>\n",
       "      <td>0</td>\n",
       "      <td>0</td>\n",
       "    </tr>\n",
       "    <tr>\n",
       "      <th>19</th>\n",
       "      <td>%[48-50[</td>\n",
       "      <td>0</td>\n",
       "      <td>0</td>\n",
       "      <td>0</td>\n",
       "      <td>0</td>\n",
       "      <td>0</td>\n",
       "      <td>0</td>\n",
       "      <td>0</td>\n",
       "    </tr>\n",
       "  </tbody>\n",
       "</table>\n",
       "</div>"
      ],
      "text/plain": [
       "   obesity_bucket n_fips PCT_obesity_mean PCT_obesity_median  \\\n",
       "0        %[10-12[      0                0                  0   \n",
       "1        %[12-14[      6           12.992             13.025   \n",
       "2        %[14-16[      5             14.8              14.85   \n",
       "3        %[16-18[     14           16.979             17.025   \n",
       "4        %[18-20[     35           19.249               19.5   \n",
       "5        %[20-22[     63           21.117               21.2   \n",
       "6        %[22-24[     90           22.988              23.05   \n",
       "7        %[24-26[    160           25.077              25.15   \n",
       "8        %[26-28[    444           27.129               27.2   \n",
       "9        %[28-30[    653           29.051               29.1   \n",
       "10       %[30-32[    770           30.956              30.95   \n",
       "11       %[32-34[    537           32.865              32.85   \n",
       "12       %[34-36[    197           34.763              34.65   \n",
       "13       %[36-38[    102           36.884              36.75   \n",
       "14       %[38-40[     36           38.847               38.9   \n",
       "15       %[40-42[     17           40.979              40.85   \n",
       "16       %[42-44[      5             42.8              42.85   \n",
       "17       %[44-46[      3            44.45               44.2   \n",
       "18       %[46-48[      0                0                  0   \n",
       "19       %[48-50[      0                0                  0   \n",
       "\n",
       "   PCT_obesity_stddev PCT_poverty_mean PCT_poverty_median PCT_poverty_stddev  \n",
       "0                   0                0                  0                  0  \n",
       "1               0.318            9.533                8.8              2.374  \n",
       "2               0.507            10.54                9.4              4.156  \n",
       "3               0.645             11.5              11.35              3.877  \n",
       "4               0.568           11.674               10.1               4.77  \n",
       "5               0.559           14.213               12.9              6.878  \n",
       "6               0.582           13.356                 13              5.367  \n",
       "7                 0.6           14.311              13.55               5.46  \n",
       "8               0.552           14.291              13.65              5.205  \n",
       "9               0.569            13.97               13.3              4.688  \n",
       "10              0.575           15.585               14.5              5.444  \n",
       "11              0.536           18.167              17.95              5.567  \n",
       "12              0.569           21.713               21.3              6.076  \n",
       "13              0.617           24.932               24.2              6.098  \n",
       "14              0.553           29.108               27.7              7.046  \n",
       "15              0.596           34.881               35.7              5.235  \n",
       "16              0.257            34.98                 35              2.433  \n",
       "17              0.389           42.433               43.3              3.564  \n",
       "18                  0                0                  0                  0  \n",
       "19                  0                0                  0                  0  "
      ]
     },
     "execution_count": 230,
     "metadata": {},
     "output_type": "execute_result"
    }
   ],
   "source": [
    "df_obesity_poverty = pd.merge(df_obesity_groups, df_poverty_groups, how='inner', on='obesity_bucket')\n",
    "df_obesity_poverty"
   ]
  },
  {
   "cell_type": "code",
   "execution_count": 249,
   "metadata": {},
   "outputs": [
    {
     "data": {
      "text/plain": [
       "<matplotlib.collections.PathCollection at 0x11bbb6160>"
      ]
     },
     "execution_count": 249,
     "metadata": {},
     "output_type": "execute_result"
    },
    {
     "data": {
      "image/png": "[encoded data removed]",
      "text/plain": [
       "<Figure size 720x720 with 1 Axes>"
      ]
     },
     "metadata": {
      "needs_background": "light"
     },
     "output_type": "display_data"
    }
   ],
   "source": [
    "df_plt = df_obesity_poverty[['PCT_obesity_median','PCT_poverty_median']]\n",
    "plt.rcParams['figure.figsize'] = [10,10]\n",
    "plt.scatter(df_plt['PCT_obesity_median'].tolist(), df_plt['PCT_poverty_median'].tolist())"
   ]
  },
  {
   "cell_type": "markdown",
   "metadata": {},
   "source": [
    "**Write** obesity vs. poverty buckets data **to file**."
   ]
  },
  {
   "cell_type": "code",
   "execution_count": 250,
   "metadata": {},
   "outputs": [],
   "source": [
    "path_data_obesity_buckets = os.path.join(path_inter, 'obesity_buckets_data.csv')\n",
    "df_obesity_poverty.to_csv(os.path.join(path_data_obesity_buckets))"
   ]
  },
  {
   "cell_type": "code",
   "execution_count": null,
   "metadata": {},
   "outputs": [],
   "source": []
  }
 ],
 "metadata": {
  "kernelspec": {
   "display_name": "Python 3",
   "language": "python",
   "name": "python3"
  },
  "language_info": {
   "codemirror_mode": {
    "name": "ipython",
    "version": 3
   },
   "file_extension": ".py",
   "mimetype": "text/x-python",
   "name": "python",
   "nbconvert_exporter": "python",
   "pygments_lexer": "ipython3",
   "version": "3.7.0"
  }
 },
 "nbformat": 4,
 "nbformat_minor": 2
}
