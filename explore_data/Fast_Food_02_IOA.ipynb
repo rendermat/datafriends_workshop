{
 "cells": [
  {
   "cell_type": "markdown",
   "metadata": {},
   "source": [
    "# Fast Food Data 02\n",
    "Expenditure on Fast Food and its relation to number of Fast food restaurants\n",
    "\n",
    "**Author:** Ioakeim Ioakeim\n"
   ]
  },
  {
   "cell_type": "code",
   "execution_count": 157,
   "metadata": {},
   "outputs": [],
   "source": [
    "import os\n",
    "import numpy as np\n",
    "import pandas as pd\n",
    "import matplotlib.pyplot as plt\n",
    "import seaborn as sns\n",
    "import warnings\n",
    "warnings.filterwarnings('ignore')\n",
    "%matplotlib inline"
   ]
  },
  {
   "cell_type": "code",
   "execution_count": 158,
   "metadata": {},
   "outputs": [],
   "source": [
    "path_input = '00_data_input'\n",
    "path_atlas = os.path.join(path_input, 'food_atlas.xls')\n",
    "path_inter = '02_data_intermediate'\n",
    "path_fast_food_rest_cnt = os.path.join(path_inter, 'fast_food_restaurant_count_refined_data.csv')\n",
    "path_fast_food_expenditure = os.path.join(path_inter, 'fast_food_expenditure_refined_data.csv')\n",
    "path_obesity = os.path.join(path_inter, 'obesity_refined_data.csv')"
   ]
  },
  {
   "cell_type": "code",
   "execution_count": 159,
   "metadata": {},
   "outputs": [
    {
     "name": "stdout",
     "output_type": "stream",
     "text": [
      "Number of entries:        3143\n"
     ]
    },
    {
     "data": {
      "text/html": [
       "<div>\n",
       "<style scoped>\n",
       "    .dataframe tbody tr th:only-of-type {\n",
       "        vertical-align: middle;\n",
       "    }\n",
       "\n",
       "    .dataframe tbody tr th {\n",
       "        vertical-align: top;\n",
       "    }\n",
       "\n",
       "    .dataframe thead th {\n",
       "        text-align: right;\n",
       "    }\n",
       "</style>\n",
       "<table border=\"1\" class=\"dataframe\">\n",
       "  <thead>\n",
       "    <tr style=\"text-align: right;\">\n",
       "      <th></th>\n",
       "      <th>State</th>\n",
       "      <th>PC_FFRSALES07</th>\n",
       "      <th>PC_FFRSALES12</th>\n",
       "    </tr>\n",
       "  </thead>\n",
       "  <tbody>\n",
       "    <tr>\n",
       "      <th>0</th>\n",
       "      <td>AL</td>\n",
       "      <td>649.511367</td>\n",
       "      <td>674.80272</td>\n",
       "    </tr>\n",
       "    <tr>\n",
       "      <th>1</th>\n",
       "      <td>AL</td>\n",
       "      <td>649.511367</td>\n",
       "      <td>674.80272</td>\n",
       "    </tr>\n",
       "    <tr>\n",
       "      <th>2</th>\n",
       "      <td>AL</td>\n",
       "      <td>649.511367</td>\n",
       "      <td>674.80272</td>\n",
       "    </tr>\n",
       "    <tr>\n",
       "      <th>3</th>\n",
       "      <td>AL</td>\n",
       "      <td>649.511367</td>\n",
       "      <td>674.80272</td>\n",
       "    </tr>\n",
       "    <tr>\n",
       "      <th>4</th>\n",
       "      <td>AL</td>\n",
       "      <td>649.511367</td>\n",
       "      <td>674.80272</td>\n",
       "    </tr>\n",
       "  </tbody>\n",
       "</table>\n",
       "</div>"
      ],
      "text/plain": [
       "  State  PC_FFRSALES07  PC_FFRSALES12\n",
       "0    AL     649.511367      674.80272\n",
       "1    AL     649.511367      674.80272\n",
       "2    AL     649.511367      674.80272\n",
       "3    AL     649.511367      674.80272\n",
       "4    AL     649.511367      674.80272"
      ]
     },
     "execution_count": 159,
     "metadata": {},
     "output_type": "execute_result"
    }
   ],
   "source": [
    "df_restaurants = pd.read_excel(path_atlas, sheet_name='RESTAURANTS')\n",
    "df_fast_food = df_restaurants[['State', 'PC_FFRSALES07', 'PC_FFRSALES12' ]].copy()\n",
    "print('{:<25} {:d}'.format('Number of entries:', len(df_fast_food.index)))\n",
    "df_fast_food[:5]"
   ]
  },
  {
   "cell_type": "code",
   "execution_count": 160,
   "metadata": {},
   "outputs": [
    {
     "name": "stdout",
     "output_type": "stream",
     "text": [
      "Number of entries:        3143\n"
     ]
    }
   ],
   "source": [
    "#Number of Entries excluding null values\n",
    "df_fast_food_without_nan = df_fast_food.dropna()\n",
    "print('{:<25} {:d}'.format('Number of entries:', len(df_fast_food_without_nan.index)))\n"
   ]
  },
  {
   "cell_type": "code",
   "execution_count": 161,
   "metadata": {},
   "outputs": [],
   "source": [
    "df_ff_exp = df_fast_food.groupby('State',as_index=False).mean()"
   ]
  },
  {
   "cell_type": "code",
   "execution_count": 162,
   "metadata": {},
   "outputs": [
    {
     "data": {
      "text/html": [
       "<div>\n",
       "<style scoped>\n",
       "    .dataframe tbody tr th:only-of-type {\n",
       "        vertical-align: middle;\n",
       "    }\n",
       "\n",
       "    .dataframe tbody tr th {\n",
       "        vertical-align: top;\n",
       "    }\n",
       "\n",
       "    .dataframe thead th {\n",
       "        text-align: right;\n",
       "    }\n",
       "</style>\n",
       "<table border=\"1\" class=\"dataframe\">\n",
       "  <thead>\n",
       "    <tr style=\"text-align: right;\">\n",
       "      <th></th>\n",
       "      <th>State</th>\n",
       "      <th>EXP_per_cap_in_$_2007</th>\n",
       "      <th>EXP_per_cap_in_$_2012</th>\n",
       "    </tr>\n",
       "  </thead>\n",
       "  <tbody>\n",
       "    <tr>\n",
       "      <th>0</th>\n",
       "      <td>AK</td>\n",
       "      <td>582.715510</td>\n",
       "      <td>511.480788</td>\n",
       "    </tr>\n",
       "    <tr>\n",
       "      <th>1</th>\n",
       "      <td>AL</td>\n",
       "      <td>649.511367</td>\n",
       "      <td>674.802720</td>\n",
       "    </tr>\n",
       "    <tr>\n",
       "      <th>2</th>\n",
       "      <td>AR</td>\n",
       "      <td>576.210444</td>\n",
       "      <td>622.675288</td>\n",
       "    </tr>\n",
       "    <tr>\n",
       "      <th>3</th>\n",
       "      <td>AZ</td>\n",
       "      <td>760.500461</td>\n",
       "      <td>577.718809</td>\n",
       "    </tr>\n",
       "    <tr>\n",
       "      <th>4</th>\n",
       "      <td>CA</td>\n",
       "      <td>761.447125</td>\n",
       "      <td>642.487457</td>\n",
       "    </tr>\n",
       "  </tbody>\n",
       "</table>\n",
       "</div>"
      ],
      "text/plain": [
       "  State  EXP_per_cap_in_$_2007  EXP_per_cap_in_$_2012\n",
       "0    AK             582.715510             511.480788\n",
       "1    AL             649.511367             674.802720\n",
       "2    AR             576.210444             622.675288\n",
       "3    AZ             760.500461             577.718809\n",
       "4    CA             761.447125             642.487457"
      ]
     },
     "execution_count": 162,
     "metadata": {},
     "output_type": "execute_result"
    }
   ],
   "source": [
    "#EXP = expenditure\n",
    "df_ff_exp.rename(columns={'PC_FFRSALES07':'EXP_per_cap_in_$_2007', \\\n",
    "                           'PC_FFRSALES12':'EXP_per_cap_in_$_2012' }, inplace=True)\n",
    "df_ff_exp.head()"
   ]
  },
  {
   "cell_type": "code",
   "execution_count": 163,
   "metadata": {},
   "outputs": [],
   "source": [
    "df_ff_data = df_restaurants[['State', 'FFR09', 'FFR14', 'PCH_FFR_09_14','FFRPTH09','FFRPTH14','PCH_FFRPTH_09_14' ]].copy()\n",
    "df_ff_count = df_ff_data.groupby('State', as_index=False).sum()"
   ]
  },
  {
   "cell_type": "code",
   "execution_count": 164,
   "metadata": {},
   "outputs": [
    {
     "data": {
      "text/html": [
       "<div>\n",
       "<style scoped>\n",
       "    .dataframe tbody tr th:only-of-type {\n",
       "        vertical-align: middle;\n",
       "    }\n",
       "\n",
       "    .dataframe tbody tr th {\n",
       "        vertical-align: top;\n",
       "    }\n",
       "\n",
       "    .dataframe thead th {\n",
       "        text-align: right;\n",
       "    }\n",
       "</style>\n",
       "<table border=\"1\" class=\"dataframe\">\n",
       "  <thead>\n",
       "    <tr style=\"text-align: right;\">\n",
       "      <th></th>\n",
       "      <th>State</th>\n",
       "      <th>fast_food_count_2009</th>\n",
       "      <th>fast_food_count_2014</th>\n",
       "      <th>CPT_fast_food_2009</th>\n",
       "      <th>CPT_fast_food_2014</th>\n",
       "      <th>CPT_fast_food_2012</th>\n",
       "    </tr>\n",
       "  </thead>\n",
       "  <tbody>\n",
       "    <tr>\n",
       "      <th>0</th>\n",
       "      <td>AK</td>\n",
       "      <td>396</td>\n",
       "      <td>429</td>\n",
       "      <td>10.630459</td>\n",
       "      <td>9.190640</td>\n",
       "      <td>9.766568</td>\n",
       "    </tr>\n",
       "    <tr>\n",
       "      <th>1</th>\n",
       "      <td>AL</td>\n",
       "      <td>3322</td>\n",
       "      <td>3561</td>\n",
       "      <td>38.254782</td>\n",
       "      <td>39.071534</td>\n",
       "      <td>38.744833</td>\n",
       "    </tr>\n",
       "    <tr>\n",
       "      <th>2</th>\n",
       "      <td>AR</td>\n",
       "      <td>1881</td>\n",
       "      <td>1939</td>\n",
       "      <td>39.410640</td>\n",
       "      <td>39.547708</td>\n",
       "      <td>39.492881</td>\n",
       "    </tr>\n",
       "    <tr>\n",
       "      <th>3</th>\n",
       "      <td>AZ</td>\n",
       "      <td>4071</td>\n",
       "      <td>4211</td>\n",
       "      <td>8.143672</td>\n",
       "      <td>7.963666</td>\n",
       "      <td>8.035669</td>\n",
       "    </tr>\n",
       "    <tr>\n",
       "      <th>4</th>\n",
       "      <td>CA</td>\n",
       "      <td>25842</td>\n",
       "      <td>28292</td>\n",
       "      <td>37.328614</td>\n",
       "      <td>37.524070</td>\n",
       "      <td>37.445887</td>\n",
       "    </tr>\n",
       "  </tbody>\n",
       "</table>\n",
       "</div>"
      ],
      "text/plain": [
       "  State  fast_food_count_2009  fast_food_count_2014  CPT_fast_food_2009  \\\n",
       "0    AK                   396                   429           10.630459   \n",
       "1    AL                  3322                  3561           38.254782   \n",
       "2    AR                  1881                  1939           39.410640   \n",
       "3    AZ                  4071                  4211            8.143672   \n",
       "4    CA                 25842                 28292           37.328614   \n",
       "\n",
       "   CPT_fast_food_2014  CPT_fast_food_2012  \n",
       "0            9.190640            9.766568  \n",
       "1           39.071534           38.744833  \n",
       "2           39.547708           39.492881  \n",
       "3            7.963666            8.035669  \n",
       "4           37.524070           37.445887  "
      ]
     },
     "execution_count": 164,
     "metadata": {},
     "output_type": "execute_result"
    }
   ],
   "source": [
    "#CPT = count per thousand | PCT = percentage\n",
    "df_ff_count.rename(columns={'FFR09':'fast_food_count_2009', \\\n",
    "                           'FFR14':'fast_food_count_2014', 'PCH_FFR_09_14': 'PCT_change_fast_food_count', 'FFRPTH09':'CPT_fast_food_2009', 'FFRPTH14':'CPT_fast_food_2014','PCH_FFRPTH_09_14': 'PCT_change_fast_food'}, inplace=True)\n",
    "df_ff_count = df_ff_count.drop(['PCT_change_fast_food_count','PCT_change_fast_food'], axis=1)\n",
    "df_ff_count['CPT_fast_food_2012'] = df_ff_count['CPT_fast_food_2009'] + ((df_ff_count['CPT_fast_food_2014'] - df_ff_count['CPT_fast_food_2009']) * (3/5))\n",
    "df_ff_count.head()"
   ]
  },
  {
   "cell_type": "code",
   "execution_count": 143,
   "metadata": {},
   "outputs": [],
   "source": [
    "df_ff_count.to_csv(path_fast_food_rest_cnt, index=False)\n",
    "df_ff_exp.to_csv(path_fast_food_expenditure, index=False)"
   ]
  },
  {
   "cell_type": "code",
   "execution_count": 144,
   "metadata": {},
   "outputs": [
    {
     "data": {
      "text/html": [
       "<div>\n",
       "<style scoped>\n",
       "    .dataframe tbody tr th:only-of-type {\n",
       "        vertical-align: middle;\n",
       "    }\n",
       "\n",
       "    .dataframe tbody tr th {\n",
       "        vertical-align: top;\n",
       "    }\n",
       "\n",
       "    .dataframe thead th {\n",
       "        text-align: right;\n",
       "    }\n",
       "</style>\n",
       "<table border=\"1\" class=\"dataframe\">\n",
       "  <thead>\n",
       "    <tr style=\"text-align: right;\">\n",
       "      <th></th>\n",
       "      <th>State</th>\n",
       "      <th>CPT_fast_food_2009</th>\n",
       "      <th>CPT_fast_food_2012</th>\n",
       "      <th>CPT_fast_food_2014</th>\n",
       "      <th>EXP_per_cap_in_$_2012</th>\n",
       "    </tr>\n",
       "  </thead>\n",
       "  <tbody>\n",
       "    <tr>\n",
       "      <th>0</th>\n",
       "      <td>AK</td>\n",
       "      <td>10.630459</td>\n",
       "      <td>9.766568</td>\n",
       "      <td>9.190640</td>\n",
       "      <td>511.480788</td>\n",
       "    </tr>\n",
       "    <tr>\n",
       "      <th>1</th>\n",
       "      <td>AL</td>\n",
       "      <td>38.254782</td>\n",
       "      <td>38.744833</td>\n",
       "      <td>39.071534</td>\n",
       "      <td>674.802720</td>\n",
       "    </tr>\n",
       "    <tr>\n",
       "      <th>2</th>\n",
       "      <td>AR</td>\n",
       "      <td>39.410640</td>\n",
       "      <td>39.492881</td>\n",
       "      <td>39.547708</td>\n",
       "      <td>622.675288</td>\n",
       "    </tr>\n",
       "    <tr>\n",
       "      <th>3</th>\n",
       "      <td>AZ</td>\n",
       "      <td>8.143672</td>\n",
       "      <td>8.035669</td>\n",
       "      <td>7.963666</td>\n",
       "      <td>577.718809</td>\n",
       "    </tr>\n",
       "    <tr>\n",
       "      <th>4</th>\n",
       "      <td>CA</td>\n",
       "      <td>37.328614</td>\n",
       "      <td>37.445887</td>\n",
       "      <td>37.524070</td>\n",
       "      <td>642.487457</td>\n",
       "    </tr>\n",
       "  </tbody>\n",
       "</table>\n",
       "</div>"
      ],
      "text/plain": [
       "  State  CPT_fast_food_2009  CPT_fast_food_2012  CPT_fast_food_2014  \\\n",
       "0    AK           10.630459            9.766568            9.190640   \n",
       "1    AL           38.254782           38.744833           39.071534   \n",
       "2    AR           39.410640           39.492881           39.547708   \n",
       "3    AZ            8.143672            8.035669            7.963666   \n",
       "4    CA           37.328614           37.445887           37.524070   \n",
       "\n",
       "   EXP_per_cap_in_$_2012  \n",
       "0             511.480788  \n",
       "1             674.802720  \n",
       "2             622.675288  \n",
       "3             577.718809  \n",
       "4             642.487457  "
      ]
     },
     "execution_count": 144,
     "metadata": {},
     "output_type": "execute_result"
    }
   ],
   "source": [
    "df_ff_merged = df_ff_count[['State','CPT_fast_food_2009']]\n",
    "df_ff_merged['CPT_fast_food_2012'] = df_ff_count['CPT_fast_food_2012']\n",
    "df_ff_merged['CPT_fast_food_2014'] = df_ff_count['CPT_fast_food_2014']\n",
    "df_ff_merged['EXP_per_cap_in_$_2012'] = df_ff_exp['EXP_per_cap_in_$_2012']\n",
    "df_ff_merged.head()"
   ]
  },
  {
   "cell_type": "code",
   "execution_count": 145,
   "metadata": {
    "scrolled": true
   },
   "outputs": [
    {
     "data": {
      "text/plain": [
       "<seaborn.axisgrid.FacetGrid at 0x1d3a2602588>"
      ]
     },
     "execution_count": 145,
     "metadata": {},
     "output_type": "execute_result"
    },
    {
     "data": {
      "image/png": "[encoded data removed]",
      "text/plain": [
       "<Figure size 576x576 with 1 Axes>"
      ]
     },
     "metadata": {
      "needs_background": "light"
     },
     "output_type": "display_data"
    }
   ],
   "source": [
    "sns.lmplot(x='CPT_fast_food_2012', y='EXP_per_cap_in_$_2012', data=df_ff_merged, size=8)"
   ]
  },
  {
   "cell_type": "code",
   "execution_count": 146,
   "metadata": {},
   "outputs": [
    {
     "data": {
      "text/html": [
       "<div>\n",
       "<style scoped>\n",
       "    .dataframe tbody tr th:only-of-type {\n",
       "        vertical-align: middle;\n",
       "    }\n",
       "\n",
       "    .dataframe tbody tr th {\n",
       "        vertical-align: top;\n",
       "    }\n",
       "\n",
       "    .dataframe thead th {\n",
       "        text-align: right;\n",
       "    }\n",
       "</style>\n",
       "<table border=\"1\" class=\"dataframe\">\n",
       "  <thead>\n",
       "    <tr style=\"text-align: right;\">\n",
       "      <th></th>\n",
       "      <th>State</th>\n",
       "      <th>PCT_obese_adults_2008</th>\n",
       "      <th>PCT_obese_adults_2013</th>\n",
       "    </tr>\n",
       "  </thead>\n",
       "  <tbody>\n",
       "    <tr>\n",
       "      <th>0</th>\n",
       "      <td>AK</td>\n",
       "      <td>30.9</td>\n",
       "      <td>30.6</td>\n",
       "    </tr>\n",
       "    <tr>\n",
       "      <th>1</th>\n",
       "      <td>AL</td>\n",
       "      <td>33.2</td>\n",
       "      <td>35.5</td>\n",
       "    </tr>\n",
       "    <tr>\n",
       "      <th>2</th>\n",
       "      <td>AR</td>\n",
       "      <td>31.3</td>\n",
       "      <td>35.8</td>\n",
       "    </tr>\n",
       "    <tr>\n",
       "      <th>3</th>\n",
       "      <td>AZ</td>\n",
       "      <td>26.6</td>\n",
       "      <td>29.6</td>\n",
       "    </tr>\n",
       "    <tr>\n",
       "      <th>4</th>\n",
       "      <td>CA</td>\n",
       "      <td>24.4</td>\n",
       "      <td>23.8</td>\n",
       "    </tr>\n",
       "  </tbody>\n",
       "</table>\n",
       "</div>"
      ],
      "text/plain": [
       "  State  PCT_obese_adults_2008  PCT_obese_adults_2013\n",
       "0    AK                   30.9                   30.6\n",
       "1    AL                   33.2                   35.5\n",
       "2    AR                   31.3                   35.8\n",
       "3    AZ                   26.6                   29.6\n",
       "4    CA                   24.4                   23.8"
      ]
     },
     "execution_count": 146,
     "metadata": {},
     "output_type": "execute_result"
    }
   ],
   "source": [
    "df_health = pd.read_excel(path_atlas, sheet_name='HEALTH')\n",
    "df_obesity = df_health[['State', 'PCT_OBESE_ADULTS08', 'PCT_OBESE_ADULTS13']].copy()\n",
    "df_obesity.rename(columns={'PCT_OBESE_ADULTS08':'PCT_obese_adults_2008', \\\n",
    "                           'PCT_OBESE_ADULTS13':'PCT_obese_adults_2013'}, inplace=True)\n",
    "df_obesity_grouped = df_obesity.groupby('State', as_index=False).median()\n",
    "df_obesity_grouped.head()"
   ]
  },
  {
   "cell_type": "code",
   "execution_count": 147,
   "metadata": {},
   "outputs": [],
   "source": [
    "df_ff_merged['PCT_obese_adults_2013'] = df_obesity_grouped['PCT_obese_adults_2013']\n",
    "#df_ff_merged = df_ff_merged.merge(df_obesity_grouped[['State','PCT_obese_adults_2013']], how='inner', on='State')"
   ]
  },
  {
   "cell_type": "code",
   "execution_count": 148,
   "metadata": {},
   "outputs": [
    {
     "data": {
      "text/html": [
       "<div>\n",
       "<style scoped>\n",
       "    .dataframe tbody tr th:only-of-type {\n",
       "        vertical-align: middle;\n",
       "    }\n",
       "\n",
       "    .dataframe tbody tr th {\n",
       "        vertical-align: top;\n",
       "    }\n",
       "\n",
       "    .dataframe thead th {\n",
       "        text-align: right;\n",
       "    }\n",
       "</style>\n",
       "<table border=\"1\" class=\"dataframe\">\n",
       "  <thead>\n",
       "    <tr style=\"text-align: right;\">\n",
       "      <th></th>\n",
       "      <th>State</th>\n",
       "      <th>CPT_fast_food_2009</th>\n",
       "      <th>CPT_fast_food_2012</th>\n",
       "      <th>CPT_fast_food_2014</th>\n",
       "      <th>EXP_per_cap_in_$_2012</th>\n",
       "      <th>PCT_obese_adults_2013</th>\n",
       "    </tr>\n",
       "  </thead>\n",
       "  <tbody>\n",
       "    <tr>\n",
       "      <th>0</th>\n",
       "      <td>AK</td>\n",
       "      <td>10.630459</td>\n",
       "      <td>9.766568</td>\n",
       "      <td>9.190640</td>\n",
       "      <td>511.480788</td>\n",
       "      <td>30.6</td>\n",
       "    </tr>\n",
       "    <tr>\n",
       "      <th>1</th>\n",
       "      <td>AL</td>\n",
       "      <td>38.254782</td>\n",
       "      <td>38.744833</td>\n",
       "      <td>39.071534</td>\n",
       "      <td>674.802720</td>\n",
       "      <td>35.5</td>\n",
       "    </tr>\n",
       "    <tr>\n",
       "      <th>2</th>\n",
       "      <td>AR</td>\n",
       "      <td>39.410640</td>\n",
       "      <td>39.492881</td>\n",
       "      <td>39.547708</td>\n",
       "      <td>622.675288</td>\n",
       "      <td>35.8</td>\n",
       "    </tr>\n",
       "    <tr>\n",
       "      <th>3</th>\n",
       "      <td>AZ</td>\n",
       "      <td>8.143672</td>\n",
       "      <td>8.035669</td>\n",
       "      <td>7.963666</td>\n",
       "      <td>577.718809</td>\n",
       "      <td>29.6</td>\n",
       "    </tr>\n",
       "    <tr>\n",
       "      <th>4</th>\n",
       "      <td>CA</td>\n",
       "      <td>37.328614</td>\n",
       "      <td>37.445887</td>\n",
       "      <td>37.524070</td>\n",
       "      <td>642.487457</td>\n",
       "      <td>23.8</td>\n",
       "    </tr>\n",
       "  </tbody>\n",
       "</table>\n",
       "</div>"
      ],
      "text/plain": [
       "  State  CPT_fast_food_2009  CPT_fast_food_2012  CPT_fast_food_2014  \\\n",
       "0    AK           10.630459            9.766568            9.190640   \n",
       "1    AL           38.254782           38.744833           39.071534   \n",
       "2    AR           39.410640           39.492881           39.547708   \n",
       "3    AZ            8.143672            8.035669            7.963666   \n",
       "4    CA           37.328614           37.445887           37.524070   \n",
       "\n",
       "   EXP_per_cap_in_$_2012  PCT_obese_adults_2013  \n",
       "0             511.480788                   30.6  \n",
       "1             674.802720                   35.5  \n",
       "2             622.675288                   35.8  \n",
       "3             577.718809                   29.6  \n",
       "4             642.487457                   23.8  "
      ]
     },
     "execution_count": 148,
     "metadata": {},
     "output_type": "execute_result"
    }
   ],
   "source": [
    "df_ff_merged.head()"
   ]
  },
  {
   "cell_type": "code",
   "execution_count": 149,
   "metadata": {},
   "outputs": [
    {
     "data": {
      "text/html": [
       "<div>\n",
       "<style scoped>\n",
       "    .dataframe tbody tr th:only-of-type {\n",
       "        vertical-align: middle;\n",
       "    }\n",
       "\n",
       "    .dataframe tbody tr th {\n",
       "        vertical-align: top;\n",
       "    }\n",
       "\n",
       "    .dataframe thead th {\n",
       "        text-align: right;\n",
       "    }\n",
       "</style>\n",
       "<table border=\"1\" class=\"dataframe\">\n",
       "  <thead>\n",
       "    <tr style=\"text-align: right;\">\n",
       "      <th></th>\n",
       "      <th>count</th>\n",
       "      <th>mean</th>\n",
       "      <th>std</th>\n",
       "      <th>min</th>\n",
       "      <th>25%</th>\n",
       "      <th>50%</th>\n",
       "      <th>75%</th>\n",
       "      <th>max</th>\n",
       "    </tr>\n",
       "  </thead>\n",
       "  <tbody>\n",
       "    <tr>\n",
       "      <th>CPT_fast_food_2009</th>\n",
       "      <td>51.0</td>\n",
       "      <td>34.598978</td>\n",
       "      <td>26.893281</td>\n",
       "      <td>1.236010</td>\n",
       "      <td>16.241758</td>\n",
       "      <td>33.461105</td>\n",
       "      <td>45.160927</td>\n",
       "      <td>150.906377</td>\n",
       "    </tr>\n",
       "    <tr>\n",
       "      <th>CPT_fast_food_2012</th>\n",
       "      <td>51.0</td>\n",
       "      <td>35.140058</td>\n",
       "      <td>27.582294</td>\n",
       "      <td>1.258413</td>\n",
       "      <td>16.033779</td>\n",
       "      <td>33.967102</td>\n",
       "      <td>46.300667</td>\n",
       "      <td>155.660244</td>\n",
       "    </tr>\n",
       "    <tr>\n",
       "      <th>CPT_fast_food_2014</th>\n",
       "      <td>51.0</td>\n",
       "      <td>35.500777</td>\n",
       "      <td>28.065530</td>\n",
       "      <td>1.273348</td>\n",
       "      <td>15.895126</td>\n",
       "      <td>34.304433</td>\n",
       "      <td>47.701404</td>\n",
       "      <td>158.829488</td>\n",
       "    </tr>\n",
       "    <tr>\n",
       "      <th>EXP_per_cap_in_$_2012</th>\n",
       "      <td>51.0</td>\n",
       "      <td>583.701111</td>\n",
       "      <td>110.740146</td>\n",
       "      <td>364.112002</td>\n",
       "      <td>508.370802</td>\n",
       "      <td>595.643837</td>\n",
       "      <td>642.729104</td>\n",
       "      <td>1035.391608</td>\n",
       "    </tr>\n",
       "    <tr>\n",
       "      <th>PCT_obese_adults_2013</th>\n",
       "      <td>51.0</td>\n",
       "      <td>29.762745</td>\n",
       "      <td>3.949479</td>\n",
       "      <td>20.500000</td>\n",
       "      <td>27.550000</td>\n",
       "      <td>30.000000</td>\n",
       "      <td>32.350000</td>\n",
       "      <td>36.850000</td>\n",
       "    </tr>\n",
       "  </tbody>\n",
       "</table>\n",
       "</div>"
      ],
      "text/plain": [
       "                       count        mean         std         min         25%  \\\n",
       "CPT_fast_food_2009      51.0   34.598978   26.893281    1.236010   16.241758   \n",
       "CPT_fast_food_2012      51.0   35.140058   27.582294    1.258413   16.033779   \n",
       "CPT_fast_food_2014      51.0   35.500777   28.065530    1.273348   15.895126   \n",
       "EXP_per_cap_in_$_2012   51.0  583.701111  110.740146  364.112002  508.370802   \n",
       "PCT_obese_adults_2013   51.0   29.762745    3.949479   20.500000   27.550000   \n",
       "\n",
       "                              50%         75%          max  \n",
       "CPT_fast_food_2009      33.461105   45.160927   150.906377  \n",
       "CPT_fast_food_2012      33.967102   46.300667   155.660244  \n",
       "CPT_fast_food_2014      34.304433   47.701404   158.829488  \n",
       "EXP_per_cap_in_$_2012  595.643837  642.729104  1035.391608  \n",
       "PCT_obese_adults_2013   30.000000   32.350000    36.850000  "
      ]
     },
     "execution_count": 149,
     "metadata": {},
     "output_type": "execute_result"
    }
   ],
   "source": [
    "df_ff_merged.describe().transpose()"
   ]
  },
  {
   "cell_type": "markdown",
   "metadata": {},
   "source": [
    "# Observations:  \n",
    "If we combine the obesity data of counties in their states, we get values which are very close to the average. This can be seen in the **small standard deviation** of the description frame. That means working with data on state level does not make much sense. **We lose to much information resolution on the way.**"
   ]
  },
  {
   "cell_type": "code",
   "execution_count": 150,
   "metadata": {},
   "outputs": [
    {
     "data": {
      "text/plain": [
       "<seaborn.axisgrid.FacetGrid at 0x1d3a69d5c88>"
      ]
     },
     "execution_count": 150,
     "metadata": {},
     "output_type": "execute_result"
    },
    {
     "data": {
      "image/png": "[encoded data removed]",
      "text/plain": [
       "<Figure size 576x576 with 1 Axes>"
      ]
     },
     "metadata": {
      "needs_background": "light"
     },
     "output_type": "display_data"
    }
   ],
   "source": [
    "sns.lmplot(x='PCT_obese_adults_2013', y='EXP_per_cap_in_$_2012', data=df_ff_merged, size=8)"
   ]
  },
  {
   "cell_type": "code",
   "execution_count": null,
   "metadata": {},
   "outputs": [],
   "source": []
  }
 ],
 "metadata": {
  "kernelspec": {
   "display_name": "Python 3",
   "language": "python",
   "name": "python3"
  },
  "language_info": {
   "codemirror_mode": {
    "name": "ipython",
    "version": 3
   },
   "file_extension": ".py",
   "mimetype": "text/x-python",
   "name": "python",
   "nbconvert_exporter": "python",
   "pygments_lexer": "ipython3",
   "version": "3.7.0"
  }
 },
 "nbformat": 4,
 "nbformat_minor": 2
}
