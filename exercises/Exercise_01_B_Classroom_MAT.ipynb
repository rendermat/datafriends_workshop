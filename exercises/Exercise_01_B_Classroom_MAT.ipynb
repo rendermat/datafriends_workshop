{
 "cells": [
  {
   "cell_type": "markdown",
   "metadata": {},
   "source": [
    "### Exercise 1B\n",
    "# Classroom\n",
    "Statistical Fromulars"
   ]
  },
  {
   "cell_type": "code",
   "execution_count": 83,
   "metadata": {},
   "outputs": [],
   "source": [
    "import numpy as np\n",
    "import scipy.stats as sc\n",
    "import pandas as pd"
   ]
  },
  {
   "cell_type": "code",
   "execution_count": 84,
   "metadata": {},
   "outputs": [],
   "source": [
    "def pearson_corr(vec_x, vec_y):\n",
    "    \n",
    "    n = len(vec_x)\n",
    "    av_x = sum(vec_x)/n\n",
    "    av_y = sum(vec_y)/n\n",
    "    \n",
    "    upper_sum = 0\n",
    "    lower_sum_x = 0\n",
    "    lower_sum_y = 0\n",
    "    \n",
    "    for i in range(n):\n",
    "        upper_sum = upper_sum + ((vec_x[i]-av_x) * (vec_y[i]-av_y))\n",
    "        lower_sum_x = lower_sum_x + (vec_x[i]-av_x)**2\n",
    "        lower_sum_y = lower_sum_y + (vec_y[i]-av_y)**2\n",
    "        \n",
    "    return upper_sum / (lower_sum_x**0.5 * lower_sum_y**0.5) "
   ]
  },
  {
   "cell_type": "code",
   "execution_count": 85,
   "metadata": {},
   "outputs": [
    {
     "name": "stdout",
     "output_type": "stream",
     "text": [
      "-0.3538739286378901\n",
      "-0.3538739286378901\n",
      "h = 18.714285714285715 * -1.6785714285714284x\n"
     ]
    }
   ],
   "source": [
    "vec_x = [1,2,3,4,5,6,7]\n",
    "vec_y = [10,11,34,12,2,8,7]\n",
    "\n",
    "print(sc.pearsonr(vec_x, vec_y)[0])\n",
    "print(pearson_corr(vec_x, vec_y))\n",
    "theta_1 = sc.linregress(vec_x, vec_y)[0]\n",
    "theta_0 = sc.linregress(vec_x, vec_y)[1]\n",
    "print('h = {} * {}x'.format(theta_0, theta_1))"
   ]
  },
  {
   "cell_type": "markdown",
   "metadata": {},
   "source": [
    "## Chi Squared"
   ]
  },
  {
   "cell_type": "code",
   "execution_count": 86,
   "metadata": {},
   "outputs": [
    {
     "data": {
      "text/html": [
       "<div>\n",
       "<style scoped>\n",
       "    .dataframe tbody tr th:only-of-type {\n",
       "        vertical-align: middle;\n",
       "    }\n",
       "\n",
       "    .dataframe tbody tr th {\n",
       "        vertical-align: top;\n",
       "    }\n",
       "\n",
       "    .dataframe thead th {\n",
       "        text-align: right;\n",
       "    }\n",
       "</style>\n",
       "<table border=\"1\" class=\"dataframe\">\n",
       "  <thead>\n",
       "    <tr style=\"text-align: right;\">\n",
       "      <th></th>\n",
       "      <th>CDU/CSU</th>\n",
       "      <th>AfD</th>\n",
       "      <th>SPD</th>\n",
       "      <th>Gruene</th>\n",
       "      <th>Linke</th>\n",
       "      <th>SumParty</th>\n",
       "    </tr>\n",
       "  </thead>\n",
       "  <tbody>\n",
       "    <tr>\n",
       "      <th>yes</th>\n",
       "      <td>312</td>\n",
       "      <td>218</td>\n",
       "      <td>231</td>\n",
       "      <td>151</td>\n",
       "      <td>111</td>\n",
       "      <td>1023</td>\n",
       "    </tr>\n",
       "    <tr>\n",
       "      <th>no</th>\n",
       "      <td>603</td>\n",
       "      <td>693</td>\n",
       "      <td>724</td>\n",
       "      <td>794</td>\n",
       "      <td>894</td>\n",
       "      <td>3708</td>\n",
       "    </tr>\n",
       "    <tr>\n",
       "      <th>all</th>\n",
       "      <td>915</td>\n",
       "      <td>911</td>\n",
       "      <td>955</td>\n",
       "      <td>945</td>\n",
       "      <td>1005</td>\n",
       "      <td>4731</td>\n",
       "    </tr>\n",
       "  </tbody>\n",
       "</table>\n",
       "</div>"
      ],
      "text/plain": [
       "     CDU/CSU  AfD  SPD  Gruene  Linke  SumParty\n",
       "yes      312  218  231     151    111      1023\n",
       "no       603  693  724     794    894      3708\n",
       "all      915  911  955     945   1005      4731"
      ]
     },
     "execution_count": 86,
     "metadata": {},
     "output_type": "execute_result"
    }
   ],
   "source": [
    "# Create row and colum identifiers for the base dataframe.\n",
    "columns = ['CDU/CSU','AfD','SPD','Gruene','Linke']\n",
    "index = ['yes','no','all']\n",
    "\n",
    "# Fill in the data and add a row for the vertical sum.\n",
    "row_yes = np.array([312, 218, 231, 151, 111])\n",
    "row_no = np.array([603, 693, 724, 794, 894])\n",
    "row_all = row_yes + row_no\n",
    "\n",
    "# Combine the data into a matrix and finally into the dataframe.\n",
    "data = [row_yes, row_no, row_all]\n",
    "df_obs = pd.DataFrame(index=index, columns=columns, data=data)\n",
    "\n",
    "# Add a column (series) for the horiyontal sum.\n",
    "df_obs['SumParty'] = pd.Series({'yes':sum(data[0]), 'no':sum(data[1]), 'all':sum(data[2])})\n",
    "df_obs"
   ]
  },
  {
   "cell_type": "code",
   "execution_count": 90,
   "metadata": {},
   "outputs": [
    {
     "data": {
      "text/html": [
       "<div>\n",
       "<style scoped>\n",
       "    .dataframe tbody tr th:only-of-type {\n",
       "        vertical-align: middle;\n",
       "    }\n",
       "\n",
       "    .dataframe tbody tr th {\n",
       "        vertical-align: top;\n",
       "    }\n",
       "\n",
       "    .dataframe thead th {\n",
       "        text-align: right;\n",
       "    }\n",
       "</style>\n",
       "<table border=\"1\" class=\"dataframe\">\n",
       "  <thead>\n",
       "    <tr style=\"text-align: right;\">\n",
       "      <th></th>\n",
       "      <th>CDU/CSU</th>\n",
       "      <th>AfD</th>\n",
       "      <th>SPD</th>\n",
       "      <th>Gruene</th>\n",
       "      <th>Linke</th>\n",
       "      <th>SumParty</th>\n",
       "    </tr>\n",
       "  </thead>\n",
       "  <tbody>\n",
       "    <tr>\n",
       "      <th>yes</th>\n",
       "      <td>197</td>\n",
       "      <td>196</td>\n",
       "      <td>206</td>\n",
       "      <td>204</td>\n",
       "      <td>217</td>\n",
       "      <td>1023</td>\n",
       "    </tr>\n",
       "    <tr>\n",
       "      <th>no</th>\n",
       "      <td>717</td>\n",
       "      <td>714</td>\n",
       "      <td>748</td>\n",
       "      <td>740</td>\n",
       "      <td>787</td>\n",
       "      <td>3708</td>\n",
       "    </tr>\n",
       "    <tr>\n",
       "      <th>all</th>\n",
       "      <td>915</td>\n",
       "      <td>911</td>\n",
       "      <td>955</td>\n",
       "      <td>945</td>\n",
       "      <td>1005</td>\n",
       "      <td>4731</td>\n",
       "    </tr>\n",
       "  </tbody>\n",
       "</table>\n",
       "</div>"
      ],
      "text/plain": [
       "     CDU/CSU  AfD  SPD  Gruene  Linke  SumParty\n",
       "yes      197  196  206     204    217      1023\n",
       "no       717  714  748     740    787      3708\n",
       "all      915  911  955     945   1005      4731"
      ]
     },
     "execution_count": 90,
     "metadata": {},
     "output_type": "execute_result"
    }
   ],
   "source": [
    "# Calculate a table with the expected values.\n",
    "df_exp = df_obs.copy()\n",
    "sum_all = df_obs.at['all','SumParty']\n",
    "\n",
    "for column in columns:\n",
    "    df_exp.at['yes',column] = df_obs.at['yes','SumParty'] * df_obs.at['all',column] / sum_all\n",
    "    df_exp.at['no',column] = df_obs.at['no','SumParty'] * df_obs.at['all',column] / sum_all\n",
    "    \n",
    "df_exp"
   ]
  },
  {
   "cell_type": "code",
   "execution_count": 88,
   "metadata": {},
   "outputs": [],
   "source": [
    "def chi_squared(df_obs, df_exp):\n",
    "    \n",
    "    chi_squared = 0\n",
    "    \n",
    "    for row in df_obs.index[:2]:\n",
    "        for column in df_obs.columns[:5]:\n",
    "            h_obs = df_obs.at[row, column]\n",
    "            h_exp = df_exp.at[row, column]\n",
    "            h_diff = h_obs - h_exp\n",
    "            chi_squared = chi_squared + h_diff**2 / h_exp\n",
    "            \n",
    "    return chi_squared         "
   ]
  },
  {
   "cell_type": "code",
   "execution_count": 91,
   "metadata": {},
   "outputs": [
    {
     "name": "stdout",
     "output_type": "stream",
     "text": [
      "176.1851711085088\n"
     ]
    }
   ],
   "source": [
    "print(chi_squared(df_obs, df_exp))"
   ]
  },
  {
   "cell_type": "markdown",
   "metadata": {},
   "source": [
    "**Check functionality** by comparing with the example from the lecture 5 page 22."
   ]
  },
  {
   "cell_type": "code",
   "execution_count": 95,
   "metadata": {},
   "outputs": [
    {
     "name": "stdout",
     "output_type": "stream",
     "text": [
      "Chi2: 0.18439937858686165\n",
      "Ok, correct!\n"
     ]
    }
   ],
   "source": [
    "obs = np.array([[8,5,13],[42,20,62],[50,25,75]])\n",
    "exp = np.array([[8.67,4.34,13],[41.34,20.67,62],[50,25,75]])\n",
    "columns = ['yes','no','sum']\n",
    "index = ['smoker','nonsmoker','all']\n",
    "df_obs = pd.DataFrame(index=index, columns=columns, data=obs)\n",
    "df_exp = pd.DataFrame(index=index, columns=columns, data=exp)\n",
    "\n",
    "chi2 = chi_squared(df_obs, df_exp)\n",
    "print('Chi2: {}'.format(chi2))\n",
    "print('Ok, correct!')"
   ]
  },
  {
   "cell_type": "code",
   "execution_count": null,
   "metadata": {},
   "outputs": [],
   "source": []
  }
 ],
 "metadata": {
  "kernelspec": {
   "display_name": "Python 3",
   "language": "python",
   "name": "python3"
  },
  "language_info": {
   "codemirror_mode": {
    "name": "ipython",
    "version": 3
   },
   "file_extension": ".py",
   "mimetype": "text/x-python",
   "name": "python",
   "nbconvert_exporter": "python",
   "pygments_lexer": "ipython3",
   "version": "3.7.0"
  }
 },
 "nbformat": 4,
 "nbformat_minor": 2
}
