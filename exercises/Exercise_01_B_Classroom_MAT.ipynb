{
 "cells": [
  {
   "cell_type": "markdown",
   "metadata": {},
   "source": [
    "### Exercise 1B\n",
    "# Classroom\n",
    "Statistical Fromulars"
   ]
  },
  {
   "cell_type": "code",
   "execution_count": 1,
   "metadata": {},
   "outputs": [],
   "source": [
    "import numpy as np\n",
    "import scipy.stats as sc\n",
    "import pandas as pd"
   ]
  },
  {
   "cell_type": "code",
   "execution_count": 84,
   "metadata": {},
   "outputs": [],
   "source": [
    "def pearson_corr(vec_x, vec_y):\n",
    "    \n",
    "    n = len(vec_x)\n",
    "    av_x = sum(vec_x)/n\n",
    "    av_y = sum(vec_y)/n\n",
    "    \n",
    "    upper_sum = 0\n",
    "    lower_sum_x = 0\n",
    "    lower_sum_y = 0\n",
    "    \n",
    "    for i in range(n):\n",
    "        upper_sum = upper_sum + ((vec_x[i]-av_x) * (vec_y[i]-av_y))\n",
    "        lower_sum_x = lower_sum_x + (vec_x[i]-av_x)**2\n",
    "        lower_sum_y = lower_sum_y + (vec_y[i]-av_y)**2\n",
    "        \n",
    "    return upper_sum / (lower_sum_x**0.5 * lower_sum_y**0.5) "
   ]
  },
  {
   "cell_type": "code",
   "execution_count": 85,
   "metadata": {},
   "outputs": [
    {
     "name": "stdout",
     "output_type": "stream",
     "text": [
      "-0.3538739286378901\n",
      "-0.3538739286378901\n",
      "h = 18.714285714285715 * -1.6785714285714284x\n"
     ]
    }
   ],
   "source": [
    "vec_x = [1,2,3,4,5,6,7]\n",
    "vec_y = [10,11,34,12,2,8,7]\n",
    "\n",
    "print(sc.pearsonr(vec_x, vec_y)[0])\n",
    "print(pearson_corr(vec_x, vec_y))\n",
    "theta_1 = sc.linregress(vec_x, vec_y)[0]\n",
    "theta_0 = sc.linregress(vec_x, vec_y)[1]\n",
    "print('h = {} * {}x'.format(theta_0, theta_1))"
   ]
  },
  {
   "cell_type": "markdown",
   "metadata": {},
   "source": [
    "## Chi Squared"
   ]
  },
  {
   "cell_type": "code",
   "execution_count": 41,
   "metadata": {},
   "outputs": [],
   "source": [
    "def add_sums_to_dataframe(df_raw):\n",
    "    '''\n",
    "    Add the horizontal and vertical sums to a dataframe which holds just the observed values.\n",
    "    '''\n",
    "    df_raw['h_sum'] = df_raw.sum(axis=1)\n",
    "    df_v_sum = pd.DataFrame(columns=['v_sum'], data=df_raw.sum(axis=0)).transpose()\n",
    "    df_raw = df_raw.append(df_v_sum)\n",
    "    return df_raw"
   ]
  },
  {
   "cell_type": "code",
   "execution_count": 145,
   "metadata": {},
   "outputs": [],
   "source": [
    "def calculate_expected_dataframe(df_obs):\n",
    "    '''\n",
    "    Calculates the expected values to a dataframe with observed values.\n",
    "    The dateframe of observed values has to include vertical and horizontal sums.\n",
    "    '''\n",
    "    index = df_obs.index\n",
    "    columns = df_obs.columns\n",
    "    \n",
    "    # Copy the observed values dataframe as a template.\n",
    "    df_exp = df_obs.copy()\n",
    "    # This is needed in case the observed values are integers. We will get floats for the expected ones.\n",
    "    for column in columns:\n",
    "        df_exp[column] = pd.to_numeric(df_exp[column], downcast='float')\n",
    "    \n",
    "    # Sort out the sum row and column labels for easier access.\n",
    "    v_sum_row = index[len(index) - 1]\n",
    "    h_sum_column = columns[len(columns) - 1]\n",
    "    total_sum = df_obs.at[v_sum_row,h_sum_column]\n",
    "\n",
    "    # Now calculate the expected values and set them to the expected values dataframe.\n",
    "    for column in columns[:-1]:\n",
    "        for row in index[:-1]:\n",
    "            exp_value = float(df_obs.at[row,h_sum_column] * df_obs.at[v_sum_row,column] / total_sum)\n",
    "            df_exp.at[row,column] = exp_value\n",
    "\n",
    "    return df_exp    "
   ]
  },
  {
   "cell_type": "code",
   "execution_count": 101,
   "metadata": {},
   "outputs": [],
   "source": [
    "def chi_squared(df_obs, df_exp):\n",
    "    '''\n",
    "    Calculated chi squared for a dataframe of observed values and a dataframe of expected values.\n",
    "    '''\n",
    "    chi_squared = 0\n",
    "    \n",
    "    for row in df_obs.index[:2]:\n",
    "        for column in df_obs.columns[:5]:\n",
    "            h_obs = df_obs.at[row, column]\n",
    "            h_exp = df_exp.at[row, column]\n",
    "            h_diff = h_obs - h_exp\n",
    "            chi_squared = chi_squared + h_diff**2 / h_exp\n",
    "            \n",
    "    return chi_squared         "
   ]
  },
  {
   "cell_type": "markdown",
   "metadata": {},
   "source": [
    "**Exercise Data Example** provided in class"
   ]
  },
  {
   "cell_type": "code",
   "execution_count": 149,
   "metadata": {},
   "outputs": [
    {
     "data": {
      "text/html": [
       "<div>\n",
       "<style scoped>\n",
       "    .dataframe tbody tr th:only-of-type {\n",
       "        vertical-align: middle;\n",
       "    }\n",
       "\n",
       "    .dataframe tbody tr th {\n",
       "        vertical-align: top;\n",
       "    }\n",
       "\n",
       "    .dataframe thead th {\n",
       "        text-align: right;\n",
       "    }\n",
       "</style>\n",
       "<table border=\"1\" class=\"dataframe\">\n",
       "  <thead>\n",
       "    <tr style=\"text-align: right;\">\n",
       "      <th></th>\n",
       "      <th>CDU/CSU</th>\n",
       "      <th>AfD</th>\n",
       "      <th>SPD</th>\n",
       "      <th>Gruene</th>\n",
       "      <th>Linke</th>\n",
       "      <th>h_sum</th>\n",
       "    </tr>\n",
       "  </thead>\n",
       "  <tbody>\n",
       "    <tr>\n",
       "      <th>yes</th>\n",
       "      <td>312</td>\n",
       "      <td>218</td>\n",
       "      <td>231</td>\n",
       "      <td>151</td>\n",
       "      <td>111</td>\n",
       "      <td>1023</td>\n",
       "    </tr>\n",
       "    <tr>\n",
       "      <th>no</th>\n",
       "      <td>603</td>\n",
       "      <td>693</td>\n",
       "      <td>724</td>\n",
       "      <td>794</td>\n",
       "      <td>894</td>\n",
       "      <td>3708</td>\n",
       "    </tr>\n",
       "    <tr>\n",
       "      <th>v_sum</th>\n",
       "      <td>915</td>\n",
       "      <td>911</td>\n",
       "      <td>955</td>\n",
       "      <td>945</td>\n",
       "      <td>1005</td>\n",
       "      <td>4731</td>\n",
       "    </tr>\n",
       "  </tbody>\n",
       "</table>\n",
       "</div>"
      ],
      "text/plain": [
       "       CDU/CSU  AfD  SPD  Gruene  Linke  h_sum\n",
       "yes        312  218  231     151    111   1023\n",
       "no         603  693  724     794    894   3708\n",
       "v_sum      915  911  955     945   1005   4731"
      ]
     },
     "execution_count": 149,
     "metadata": {},
     "output_type": "execute_result"
    }
   ],
   "source": [
    "# Create row and colum identifiers for the base dataframe.\n",
    "columns = ['CDU/CSU','AfD','SPD','Gruene','Linke']\n",
    "index = ['yes','no']\n",
    "\n",
    "# Fill in the data and add a row for the vertical sum.\n",
    "row_yes = np.array([312, 218, 231, 151, 111])\n",
    "row_no = np.array([603, 693, 724, 794, 894])\n",
    "\n",
    "# Combine the data into a matrix and finally into the dataframe.\n",
    "data = [row_yes, row_no]\n",
    "df_obs = pd.DataFrame(index=index, columns=columns, data=data)\n",
    "\n",
    "# Add the horizontal and vertical dataframe sums.\n",
    "df_obs = add_sums_to_dataframe(df_obs)\n",
    "df_obs"
   ]
  },
  {
   "cell_type": "code",
   "execution_count": 150,
   "metadata": {},
   "outputs": [
    {
     "data": {
      "text/html": [
       "<div>\n",
       "<style scoped>\n",
       "    .dataframe tbody tr th:only-of-type {\n",
       "        vertical-align: middle;\n",
       "    }\n",
       "\n",
       "    .dataframe tbody tr th {\n",
       "        vertical-align: top;\n",
       "    }\n",
       "\n",
       "    .dataframe thead th {\n",
       "        text-align: right;\n",
       "    }\n",
       "</style>\n",
       "<table border=\"1\" class=\"dataframe\">\n",
       "  <thead>\n",
       "    <tr style=\"text-align: right;\">\n",
       "      <th></th>\n",
       "      <th>CDU/CSU</th>\n",
       "      <th>AfD</th>\n",
       "      <th>SPD</th>\n",
       "      <th>Gruene</th>\n",
       "      <th>Linke</th>\n",
       "      <th>h_sum</th>\n",
       "    </tr>\n",
       "  </thead>\n",
       "  <tbody>\n",
       "    <tr>\n",
       "      <th>yes</th>\n",
       "      <td>197.853516</td>\n",
       "      <td>196.988586</td>\n",
       "      <td>206.502853</td>\n",
       "      <td>204.340515</td>\n",
       "      <td>217.314514</td>\n",
       "      <td>1023.0</td>\n",
       "    </tr>\n",
       "    <tr>\n",
       "      <th>no</th>\n",
       "      <td>717.146484</td>\n",
       "      <td>714.011414</td>\n",
       "      <td>748.497131</td>\n",
       "      <td>740.659485</td>\n",
       "      <td>787.685486</td>\n",
       "      <td>3708.0</td>\n",
       "    </tr>\n",
       "    <tr>\n",
       "      <th>v_sum</th>\n",
       "      <td>915.000000</td>\n",
       "      <td>911.000000</td>\n",
       "      <td>955.000000</td>\n",
       "      <td>945.000000</td>\n",
       "      <td>1005.000000</td>\n",
       "      <td>4731.0</td>\n",
       "    </tr>\n",
       "  </tbody>\n",
       "</table>\n",
       "</div>"
      ],
      "text/plain": [
       "          CDU/CSU         AfD         SPD      Gruene        Linke   h_sum\n",
       "yes    197.853516  196.988586  206.502853  204.340515   217.314514  1023.0\n",
       "no     717.146484  714.011414  748.497131  740.659485   787.685486  3708.0\n",
       "v_sum  915.000000  911.000000  955.000000  945.000000  1005.000000  4731.0"
      ]
     },
     "execution_count": 150,
     "metadata": {},
     "output_type": "execute_result"
    }
   ],
   "source": [
    "# Calculate the dataframe for the expected values.\n",
    "df_exp = calculate_expected_dataframe(df_obs)\n",
    "df_exp"
   ]
  },
  {
   "cell_type": "code",
   "execution_count": 151,
   "metadata": {},
   "outputs": [
    {
     "name": "stdout",
     "output_type": "stream",
     "text": [
      "174.71537664998036\n"
     ]
    }
   ],
   "source": [
    "# Finally calculate chi squared.\n",
    "print(chi_squared(df_obs, df_exp))"
   ]
  },
  {
   "cell_type": "code",
   "execution_count": 152,
   "metadata": {},
   "outputs": [
    {
     "name": "stdout",
     "output_type": "stream",
     "text": [
      "174.71537664998036\n"
     ]
    }
   ],
   "source": [
    "print(chi_squared(df_obs, df_exp))"
   ]
  },
  {
   "cell_type": "markdown",
   "metadata": {},
   "source": [
    "**Check functionality** by comparing with the example from the lecture 5 page 22."
   ]
  },
  {
   "cell_type": "code",
   "execution_count": 113,
   "metadata": {},
   "outputs": [
    {
     "data": {
      "text/html": [
       "<div>\n",
       "<style scoped>\n",
       "    .dataframe tbody tr th:only-of-type {\n",
       "        vertical-align: middle;\n",
       "    }\n",
       "\n",
       "    .dataframe tbody tr th {\n",
       "        vertical-align: top;\n",
       "    }\n",
       "\n",
       "    .dataframe thead th {\n",
       "        text-align: right;\n",
       "    }\n",
       "</style>\n",
       "<table border=\"1\" class=\"dataframe\">\n",
       "  <thead>\n",
       "    <tr style=\"text-align: right;\">\n",
       "      <th></th>\n",
       "      <th>yes</th>\n",
       "      <th>no</th>\n",
       "      <th>h_sum</th>\n",
       "    </tr>\n",
       "  </thead>\n",
       "  <tbody>\n",
       "    <tr>\n",
       "      <th>smoker</th>\n",
       "      <td>8</td>\n",
       "      <td>5</td>\n",
       "      <td>13</td>\n",
       "    </tr>\n",
       "    <tr>\n",
       "      <th>nonsmoker</th>\n",
       "      <td>42</td>\n",
       "      <td>20</td>\n",
       "      <td>62</td>\n",
       "    </tr>\n",
       "    <tr>\n",
       "      <th>v_sum</th>\n",
       "      <td>50</td>\n",
       "      <td>25</td>\n",
       "      <td>75</td>\n",
       "    </tr>\n",
       "  </tbody>\n",
       "</table>\n",
       "</div>"
      ],
      "text/plain": [
       "           yes  no  h_sum\n",
       "smoker       8   5     13\n",
       "nonsmoker   42  20     62\n",
       "v_sum       50  25     75"
      ]
     },
     "execution_count": 113,
     "metadata": {},
     "output_type": "execute_result"
    }
   ],
   "source": [
    "obs = np.array([[8,5],[42,20]])\n",
    "columns = ['yes','no']\n",
    "index = ['smoker','nonsmoker']\n",
    "df_obs = pd.DataFrame(index=index, columns=columns, data=obs)\n",
    "df_obs = add_sums_to_dataframe(df_obs)\n",
    "df_obs"
   ]
  },
  {
   "cell_type": "code",
   "execution_count": 143,
   "metadata": {},
   "outputs": [
    {
     "data": {
      "text/html": [
       "<div>\n",
       "<style scoped>\n",
       "    .dataframe tbody tr th:only-of-type {\n",
       "        vertical-align: middle;\n",
       "    }\n",
       "\n",
       "    .dataframe tbody tr th {\n",
       "        vertical-align: top;\n",
       "    }\n",
       "\n",
       "    .dataframe thead th {\n",
       "        text-align: right;\n",
       "    }\n",
       "</style>\n",
       "<table border=\"1\" class=\"dataframe\">\n",
       "  <thead>\n",
       "    <tr style=\"text-align: right;\">\n",
       "      <th></th>\n",
       "      <th>yes</th>\n",
       "      <th>no</th>\n",
       "      <th>h_sum</th>\n",
       "    </tr>\n",
       "  </thead>\n",
       "  <tbody>\n",
       "    <tr>\n",
       "      <th>smoker</th>\n",
       "      <td>8.666667</td>\n",
       "      <td>4.333333</td>\n",
       "      <td>13.0</td>\n",
       "    </tr>\n",
       "    <tr>\n",
       "      <th>nonsmoker</th>\n",
       "      <td>41.333332</td>\n",
       "      <td>20.666666</td>\n",
       "      <td>62.0</td>\n",
       "    </tr>\n",
       "    <tr>\n",
       "      <th>v_sum</th>\n",
       "      <td>50.000000</td>\n",
       "      <td>25.000000</td>\n",
       "      <td>75.0</td>\n",
       "    </tr>\n",
       "  </tbody>\n",
       "</table>\n",
       "</div>"
      ],
      "text/plain": [
       "                 yes         no  h_sum\n",
       "smoker      8.666667   4.333333   13.0\n",
       "nonsmoker  41.333332  20.666666   62.0\n",
       "v_sum      50.000000  25.000000   75.0"
      ]
     },
     "execution_count": 143,
     "metadata": {},
     "output_type": "execute_result"
    }
   ],
   "source": [
    "df_exp = calculate_expected_dataframe(df_obs)\n",
    "df_exp"
   ]
  },
  {
   "cell_type": "code",
   "execution_count": 146,
   "metadata": {},
   "outputs": [
    {
     "name": "stdout",
     "output_type": "stream",
     "text": [
      "Chi2: 0.186104213711693\n",
      "Ok, correct!\n"
     ]
    }
   ],
   "source": [
    "chi2 = chi_squared(df_obs, df_exp)\n",
    "print('Chi2: {}'.format(chi2))\n",
    "print('Ok, correct!')"
   ]
  },
  {
   "cell_type": "code",
   "execution_count": null,
   "metadata": {},
   "outputs": [],
   "source": []
  }
 ],
 "metadata": {
  "kernelspec": {
   "display_name": "Python 3",
   "language": "python",
   "name": "python3"
  },
  "language_info": {
   "codemirror_mode": {
    "name": "ipython",
    "version": 3
   },
   "file_extension": ".py",
   "mimetype": "text/x-python",
   "name": "python",
   "nbconvert_exporter": "python",
   "pygments_lexer": "ipython3",
   "version": "3.7.0"
  }
 },
 "nbformat": 4,
 "nbformat_minor": 2
}
