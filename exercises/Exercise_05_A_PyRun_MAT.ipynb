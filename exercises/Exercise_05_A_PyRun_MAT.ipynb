{
 "cells": [
  {
   "cell_type": "code",
   "execution_count": 29,
   "metadata": {},
   "outputs": [],
   "source": [
    "import numpy as np\n",
    "import scipy.stats as sc\n",
    "import pandas as pd"
   ]
  },
  {
   "cell_type": "code",
   "execution_count": 5,
   "metadata": {},
   "outputs": [],
   "source": [
    "%run python_library/statfunclib.py"
   ]
  },
  {
   "cell_type": "code",
   "execution_count": 7,
   "metadata": {},
   "outputs": [
    {
     "data": {
      "text/html": [
       "<div>\n",
       "<style scoped>\n",
       "    .dataframe tbody tr th:only-of-type {\n",
       "        vertical-align: middle;\n",
       "    }\n",
       "\n",
       "    .dataframe tbody tr th {\n",
       "        vertical-align: top;\n",
       "    }\n",
       "\n",
       "    .dataframe thead th {\n",
       "        text-align: right;\n",
       "    }\n",
       "</style>\n",
       "<table border=\"1\" class=\"dataframe\">\n",
       "  <thead>\n",
       "    <tr style=\"text-align: right;\">\n",
       "      <th></th>\n",
       "      <th>CDU/CSU</th>\n",
       "      <th>AfD</th>\n",
       "      <th>SPD</th>\n",
       "      <th>Gruene</th>\n",
       "      <th>Linke</th>\n",
       "      <th>h_sum</th>\n",
       "    </tr>\n",
       "  </thead>\n",
       "  <tbody>\n",
       "    <tr>\n",
       "      <th>yes</th>\n",
       "      <td>312</td>\n",
       "      <td>218</td>\n",
       "      <td>231</td>\n",
       "      <td>151</td>\n",
       "      <td>111</td>\n",
       "      <td>1023</td>\n",
       "    </tr>\n",
       "    <tr>\n",
       "      <th>no</th>\n",
       "      <td>603</td>\n",
       "      <td>693</td>\n",
       "      <td>724</td>\n",
       "      <td>794</td>\n",
       "      <td>894</td>\n",
       "      <td>3708</td>\n",
       "    </tr>\n",
       "    <tr>\n",
       "      <th>v_sum</th>\n",
       "      <td>915</td>\n",
       "      <td>911</td>\n",
       "      <td>955</td>\n",
       "      <td>945</td>\n",
       "      <td>1005</td>\n",
       "      <td>4731</td>\n",
       "    </tr>\n",
       "  </tbody>\n",
       "</table>\n",
       "</div>"
      ],
      "text/plain": [
       "       CDU/CSU  AfD  SPD  Gruene  Linke  h_sum\n",
       "yes        312  218  231     151    111   1023\n",
       "no         603  693  724     794    894   3708\n",
       "v_sum      915  911  955     945   1005   4731"
      ]
     },
     "execution_count": 7,
     "metadata": {},
     "output_type": "execute_result"
    }
   ],
   "source": [
    "# Create row and colum identifiers for the base dataframe.\n",
    "columns = ['CDU/CSU','AfD','SPD','Gruene','Linke']\n",
    "index = ['yes','no']\n",
    "\n",
    "# Fill in the data and add a row for the vertical sum.\n",
    "row_yes = np.array([312, 218, 231, 151, 111])\n",
    "row_no = np.array([603, 693, 724, 794, 894])\n",
    "\n",
    "# Combine the data into a matrix and finally into the dataframe.\n",
    "data = [row_yes, row_no]\n",
    "df_obs = pd.DataFrame(index=index, columns=columns, data=data)\n",
    "\n",
    "# Add the horizontal and vertical dataframe sums.\n",
    "df_obs = add_sums_to_dataframe(df_obs)\n",
    "df_obs"
   ]
  },
  {
   "cell_type": "code",
   "execution_count": 8,
   "metadata": {},
   "outputs": [
    {
     "data": {
      "text/html": [
       "<div>\n",
       "<style scoped>\n",
       "    .dataframe tbody tr th:only-of-type {\n",
       "        vertical-align: middle;\n",
       "    }\n",
       "\n",
       "    .dataframe tbody tr th {\n",
       "        vertical-align: top;\n",
       "    }\n",
       "\n",
       "    .dataframe thead th {\n",
       "        text-align: right;\n",
       "    }\n",
       "</style>\n",
       "<table border=\"1\" class=\"dataframe\">\n",
       "  <thead>\n",
       "    <tr style=\"text-align: right;\">\n",
       "      <th></th>\n",
       "      <th>CDU/CSU</th>\n",
       "      <th>AfD</th>\n",
       "      <th>SPD</th>\n",
       "      <th>Gruene</th>\n",
       "      <th>Linke</th>\n",
       "      <th>h_sum</th>\n",
       "    </tr>\n",
       "  </thead>\n",
       "  <tbody>\n",
       "    <tr>\n",
       "      <th>yes</th>\n",
       "      <td>197.853516</td>\n",
       "      <td>196.988586</td>\n",
       "      <td>206.502853</td>\n",
       "      <td>204.340515</td>\n",
       "      <td>217.314514</td>\n",
       "      <td>1023.0</td>\n",
       "    </tr>\n",
       "    <tr>\n",
       "      <th>no</th>\n",
       "      <td>717.146484</td>\n",
       "      <td>714.011414</td>\n",
       "      <td>748.497131</td>\n",
       "      <td>740.659485</td>\n",
       "      <td>787.685486</td>\n",
       "      <td>3708.0</td>\n",
       "    </tr>\n",
       "    <tr>\n",
       "      <th>v_sum</th>\n",
       "      <td>915.000000</td>\n",
       "      <td>911.000000</td>\n",
       "      <td>955.000000</td>\n",
       "      <td>945.000000</td>\n",
       "      <td>1005.000000</td>\n",
       "      <td>4731.0</td>\n",
       "    </tr>\n",
       "  </tbody>\n",
       "</table>\n",
       "</div>"
      ],
      "text/plain": [
       "          CDU/CSU         AfD         SPD      Gruene        Linke   h_sum\n",
       "yes    197.853516  196.988586  206.502853  204.340515   217.314514  1023.0\n",
       "no     717.146484  714.011414  748.497131  740.659485   787.685486  3708.0\n",
       "v_sum  915.000000  911.000000  955.000000  945.000000  1005.000000  4731.0"
      ]
     },
     "execution_count": 8,
     "metadata": {},
     "output_type": "execute_result"
    }
   ],
   "source": [
    "# Calculate the dataframe for the expected values.\n",
    "df_exp = calculate_expected_dataframe(df_obs)\n",
    "df_exp"
   ]
  },
  {
   "cell_type": "code",
   "execution_count": 9,
   "metadata": {},
   "outputs": [
    {
     "name": "stdout",
     "output_type": "stream",
     "text": [
      "174.71537664998036\n"
     ]
    }
   ],
   "source": [
    "# Finally calculate chi squared.\n",
    "print(chi_squared(df_obs, df_exp))"
   ]
  },
  {
   "cell_type": "code",
   "execution_count": null,
   "metadata": {},
   "outputs": [],
   "source": []
  }
 ],
 "metadata": {
  "kernelspec": {
   "display_name": "Python 3",
   "language": "python",
   "name": "python3"
  },
  "language_info": {
   "codemirror_mode": {
    "name": "ipython",
    "version": 3
   },
   "file_extension": ".py",
   "mimetype": "text/x-python",
   "name": "python",
   "nbconvert_exporter": "python",
   "pygments_lexer": "ipython3",
   "version": "3.7.0"
  }
 },
 "nbformat": 4,
 "nbformat_minor": 2
}
